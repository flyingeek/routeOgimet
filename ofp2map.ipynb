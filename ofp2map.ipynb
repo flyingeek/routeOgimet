{
 "cells": [
  {
   "cell_type": "code",
   "execution_count": 1,
   "metadata": {
    "hide_input": false
   },
   "outputs": [],
   "source": [
    "import glob\n",
    "import ipywidgets as widgets\n",
    "import math\n",
    "import time\n",
    "import plotly.graph_objects as go\n",
    "\n",
    "from ipywidgets import interact, VBox\n",
    "\n",
    "from editolidoHelper import (\n",
    "    load_ofp_route,\n",
    "    get_nearest_wmo,\n",
    "    get_nearest_wmo_results,\n",
    "    get_nearby_wmo,\n",
    "    basemap,\n",
    "    scatter_geopoints,\n",
    "    wmo_grid,\n",
    "    wmo_loading_time,\n",
    ")\n",
    "\n",
    "\n"
   ]
  },
  {
   "cell_type": "code",
   "execution_count": 2,
   "metadata": {
    "hide_input": false,
    "pycharm": {
     "name": "#%%\n"
    }
   },
   "outputs": [],
   "source": [
    "from editolido.geolite import rad_to_nm\n",
    "def find_strategic(start, end, results, o_xtds, l=0, course_max_diff=45):\n",
    "    \"\"\"\n",
    "    Find point you can not suppress without increasing xtd\n",
    "    :param l: penalty factor\n",
    "    :param o_xtds: a precalculated list of ogimet xtd\n",
    "    :param start: int\n",
    "    :param end: int\n",
    "    :param results: [Result]\n",
    "    :return:\n",
    "    \"\"\"\n",
    "    # search in reverse order to stop at the latest point in the route direction\n",
    "    # in segment [i, j] we try to remove inner elements by checking the xtd\n",
    "    sign = lambda a: 1 - (a<0)\n",
    "    previous_sign = sign(o_xtds[start])\n",
    "    for k in range(end - 1, start, -1):\n",
    "        # xtd from fpl point to ogimet segment\n",
    "        f_xtd = results[k].fpl.xtd_to(\n",
    "            (results[start].ogimet, results[end].ogimet)\n",
    "        )\n",
    "        o_xtd = o_xtds[k]\n",
    "        new_sign = sign(o_xtd)\n",
    "        # if abs(o_xtd) < abs(f_xtd) < results[k].fpl.distance_to(results[k+1].fpl):\n",
    "        #     return k\n",
    "        penalty = 0\n",
    "        K = 1\n",
    "        course_diff = (180/math.pi) * (\n",
    "                abs(\n",
    "                    (results[k - 1].ogimet.course_to(results[k].ogimet) - results[k].ogimet.course_to(results[k + 1].ogimet))\n",
    "                    -\n",
    "                    (results[k - 1].fpl.course_to(results[k].fpl) - results[k].fpl.course_to(results[k + 1].fpl))\n",
    "                ) % math.pi\n",
    "            )\n",
    "        if abs(f_xtd) > abs(o_xtd):\n",
    "            o_d = results[k].ogimet.distance_to(results[k-1].ogimet)\n",
    "            ratio = o_xtds[k]**2 / math.sqrt(o_d)  if o_d != 0 else 0\n",
    "            if l > 0 and previous_sign != new_sign:\n",
    "                penalty = abs(ratio * l)\n",
    "            if l >= 0:\n",
    "                #print('o_xtd', rad_to_nm(o_xtds[k]), 'o_d', rad_to_nm(o_d), 'o_xtd start', rad_to_nm(o_xtds[start]), 'f_xtd', rad_to_nm(f_xtd), 'ratio', rad_to_nm(ratio))\n",
    "                #print('min l to reject {0}({1}): {2}'.format(results[k].ogimet.name, results[k].fpl.name, K * (abs(f_xtd) - abs(o_xtd))/ abs(ratio)))\n",
    "                if previous_sign != new_sign:\n",
    "                    results[k].ogimet.description = 'min l: {0:.2f}, max course: {1:.2f}'.format(K * (abs(f_xtd) - abs(o_xtd))/ abs(ratio), course_diff)\n",
    "                else:\n",
    "                    results[k].ogimet.description = 'course diff: {0:.2f} {1:.3f}<{2:.3f}'.format(\n",
    "                        course_diff,\n",
    "                        rad_to_nm(o_xtds[k+1]),\n",
    "                        rad_to_nm(o_xtds[k]))\n",
    "        if (abs(f_xtd) > abs(o_xtd) + (penalty / K)) or (abs(f_xtd) > abs(o_xtd) and course_diff < course_max_diff):\n",
    "            if not (course_diff > 50 and abs(o_xtds[k+1]) < abs(o_xtds[k])):\n",
    "                return k\n",
    "    return None\n",
    "\n",
    "\n",
    "def find_best_xtd(start, end, o_xtds):\n",
    "    best = None\n",
    "    best_xtd = 0\n",
    "    for k in range(start + 1, end):\n",
    "        # xtd = results[k].fpl.xtd_to((results[k - 1].ogimet, results[k + 1].ogimet))\n",
    "        xtd = o_xtds[k]\n",
    "        if best is None or abs(xtd) < abs(best_xtd):\n",
    "            best = k\n",
    "            best_xtd = xtd\n",
    "    return best\n",
    "\n",
    "\n",
    "def filter_by_xtd(results, max_distance=0, l=0, recursion=0, course_max_diff=45):\n",
    "    \"\"\"\n",
    "    Here we keep significant ogimet points.\n",
    "    By significant, I mean points which increase the xtd if missing.\n",
    "    The algorithm is recursive, if route is A B C D E F\n",
    "    and ogimet route found is A B'C'D'E'F\n",
    "    We try to suppress B', if successful we try to suppress C' and so on\n",
    "    For example if B', C' and E' are not relevant the loop\n",
    "    will try to suppress B' and C', then it will keep D' and\n",
    "    start again from D' to suppress E' and keep F\n",
    "    At the end we try again (recursion) until the route size is constant.\n",
    "    For information a typical NAT route will reduce from 26 to 15 points\n",
    "    and a flight to NRT will end with 26 points (starting from 79)\n",
    "    :param results: [Result]\n",
    "    :return: [Result]\n",
    "    \"\"\"\n",
    "    res = [results[0]]\n",
    "    i = -1\n",
    "    o_xtds = [results[0].ogimet.xtd_to((results[0].fpl, results[1].fpl))]  # departure\n",
    "    length = len(results)\n",
    "    for k in range(1, length - 1):\n",
    "        o_xtd1 = results[k].ogimet.xtd_to(\n",
    "            (results[k].fpl, results[k + 1].fpl)\n",
    "        )\n",
    "        o_xtd0 = results[k].ogimet.xtd_to(\n",
    "            (results[k - 1].fpl, results[k].fpl)\n",
    "        )\n",
    "        if abs(o_xtd1) < abs(o_xtd0):\n",
    "            o_xtd = o_xtd1\n",
    "        else:\n",
    "            o_xtd = o_xtd0\n",
    "        o_xtds.append(o_xtd)\n",
    "    o_xtds.append(results[-1].ogimet.xtd_to((results[-2].fpl, results[-1].fpl)))  # arrival\n",
    "    while i < length - 1:\n",
    "        i += 1\n",
    "        j = i + 2\n",
    "        # we try to remove many consecutive points until it fails\n",
    "        while j <= length - 1:\n",
    "            d = 0\n",
    "            if max_distance > 0:\n",
    "                d = results[i].fpl.distance_to(results[j].fpl)\n",
    "            if d <= max_distance:\n",
    "                k = find_strategic(i, j, results, o_xtds, l=(l if recursion > 0 else 0), course_max_diff=course_max_diff)\n",
    "                # if k:\n",
    "                #     print(results[k].ogimet.pid, recursion, results[i].ogimet.pid, results[j].ogimet.pid, i, j)\n",
    "            elif d > max_distance and (recursion == 0 or j > i + 2):  # j > i + 2 is to limit recursion\n",
    "                k = find_best_xtd(i, j, o_xtds)\n",
    "                #print(results[k].ogimet.name, recursion, results[i].ogimet.name, results[j].ogimet.name, i, j)\n",
    "            else:\n",
    "                #print(recursion, results[i].ogimet.pid, results[j].ogimet.pid, i, j)\n",
    "                k = j - 1\n",
    "            if k is None:\n",
    "                j += 1  # no significant point yet, try to extend to next\n",
    "            else:\n",
    "                # a significant point was found, store it\n",
    "                if results[k].ogimet.name not in [o.name for _, o in res]:\n",
    "                    res.append(results[k])\n",
    "                i = k - 1  # will start at k on next round\n",
    "                break\n",
    "    res.append(results[-1])\n",
    "    # recursion works, so try it until there is no change\n",
    "    if len(res) < len(results):\n",
    "        return filter_by_xtd(res, max_distance=max_distance, l=l, recursion=recursion+1, course_max_diff=course_max_diff)\n",
    "    else:\n",
    "        return res"
   ]
  },
  {
   "cell_type": "code",
   "execution_count": null,
   "outputs": [
    {
     "data": {
      "text/plain": "interactive(children=(Dropdown(description='file', index=5, options=('ofp/BST_AF650 _LFPG_MMUN_20180304_1355z.…",
      "application/vnd.jupyter.widget-view+json": {
       "version_major": 2,
       "version_minor": 0,
       "model_id": "92a075d5417c453e8c024683d8c3843e"
      }
     },
     "metadata": {},
     "output_type": "display_data"
    }
   ],
   "source": [
    "from editolido.ogimet import ogimet_route, reduce_results\n",
    "from editolido.geopoint import GeoPoint\n",
    "\n",
    "@interact(file=glob.glob('ofp/*.route.json'), l=[0, 5, 10, 35, 40, 100], max_length=[0, 'route/10'], course_max_diff=[25, 30, 35, 40, 45, 60, 70])\n",
    "def plot(file='ofp/AF264_24FEB21_CDG_Dossier de Vol OFP 5-0-1.route.json', l=35, max_length=0, course_max_diff=35):\n",
    "    log_view = widgets.Output(layout={'border': '1px solid black', 'height': '3em'})\n",
    "    route = load_ofp_route(file)\n",
    "    max_distance = 0  if max_length == 0 else route.distance(converter=None)/10\n",
    "\n",
    "    def get_new_ogimet_route():\n",
    "        start_time = time.time()\n",
    "        ogimet_results = get_nearest_wmo_results(route, wmo_grid)\n",
    "        ogimet_results = filter_by_xtd(ogimet_results, max_distance=max_distance, l=l, course_max_diff=course_max_diff)\n",
    "        ogimet_results = reduce_results(ogimet_results)\n",
    "        exec_time = (time.time() - start_time) * 1000\n",
    "        log_view.append_stdout('new algorithm exec time: {0:.2f}ms, {1} points'.format(exec_time, len(ogimet_results)))\n",
    "        return [\n",
    "            GeoPoint(\n",
    "                r.ogimet,\n",
    "                name=r.ogimet.name  + ((' ' + r.ogimet.description) if r.ogimet.description else ''))\n",
    "            for r in ogimet_results]\n",
    "\n",
    "    def get_old_ogimet_route():\n",
    "        start_time = time.time()\n",
    "        old_route = ogimet_route(route, segment_size=0)\n",
    "        exec_time = (time.time() - start_time) * 1000\n",
    "        log_view.append_stdout('old algorithm exec time: {0:.2f}ms, {1} points'.format(exec_time - wmo_loading_time, len(old_route)))\n",
    "        return old_route\n",
    "\n",
    "    fig = basemap(route, nearby_wmo=get_nearby_wmo(route), nearest_wmo=get_nearest_wmo(route),\n",
    "                  title='Ogimet route algorithms', text_labels=('splits',), legend_only=('splits', 'nearby wmo'))\n",
    "    fig.add_trace(\n",
    "        scatter_geopoints(get_old_ogimet_route(),\n",
    "                      mode='lines+markers',\n",
    "                      name='ogimet route',\n",
    "                      marker=dict(size=5, color='blue'),\n",
    "                      opacity=1,\n",
    "                      ))\n",
    "    fig.add_trace(\n",
    "        scatter_geopoints(get_new_ogimet_route(),\n",
    "            mode='lines+markers',\n",
    "            name='new ogimet route',\n",
    "            marker=dict(size=5, color='red'),\n",
    "            opacity=0.9,\n",
    "        ))\n",
    "    return VBox([go.FigureWidget(fig), log_view])\n",
    "\n",
    "#plot()"
   ],
   "metadata": {
    "collapsed": false,
    "pycharm": {
     "name": "#%%\n",
     "is_executing": true
    }
   }
  }
 ],
 "metadata": {
  "hide_input": false,
  "kernelspec": {
   "display_name": "Python 3",
   "language": "python",
   "name": "python3"
  },
  "language_info": {
   "codemirror_mode": {
    "name": "ipython",
    "version": 3
   },
   "file_extension": ".py",
   "mimetype": "text/x-python",
   "name": "python",
   "nbconvert_exporter": "python",
   "pygments_lexer": "ipython3",
   "version": "3.9.2"
  },
  "widgets": {
   "application/vnd.jupyter.widget-state+json": {
    "state": {
     "13247aaa226741da8644e8a722e59f60": {
      "model_module": "@jupyter-widgets/controls",
      "model_module_version": "1.5.0",
      "model_name": "DescriptionStyleModel",
      "state": {
       "description_width": ""
      }
     },
     "20e8458e039f485ea727f3dc0dddf1a6": {
      "model_module": "@jupyter-widgets/controls",
      "model_module_version": "1.5.0",
      "model_name": "DropdownModel",
      "state": {
       "_options_labels": [
        "25",
        "30",
        "35",
        "40",
        "45",
        "60",
        "70"
       ],
       "description": "course_max_diff",
       "index": 2,
       "layout": "IPY_MODEL_aa9f4f52a6ef4fa1ab35d67a51e92643",
       "style": "IPY_MODEL_bb61f06e1de34071b65f0da60d8c8a24"
      }
     },
     "25d853578a6e4587bd1f3835268b329d": {
      "model_module": "@jupyter-widgets/controls",
      "model_module_version": "1.5.0",
      "model_name": "DropdownModel",
      "state": {
       "_options_labels": [
        "ofp/BST_AF650 _LFPG_MMUN_20180304_1355z.route.json",
        "ofp/BST_AF990 _LFPG_FAOR_20190828_2120z.route.json",
        "ofp/BST_AF6730 _LFPG_KORD_20190425_1205z.route.json",
        "ofp/AF165_01NOV20_BKK_Dossier de Vol OFP 19-0-1.route.json",
        "ofp/AF117_05OCT19_PVG_PDF NDV - OFP N°9.route.json",
        "ofp/AF264_24FEB21_CDG_Dossier de Vol OFP 5-0-1.route.json",
        "ofp/AF191_30-12-2016_21-00_BLR_20-0-1.route.json",
        "ofp/BST_AF682 _LFPG_KATL_20190127_0940z.route.json",
        "ofp/AF090_30JAN21_CDG_Dossier de Vol OFP 8-0-1.route.json"
       ],
       "description": "file",
       "index": 0,
       "layout": "IPY_MODEL_30305ddc4c664e199d15ef4f62ad67ea",
       "style": "IPY_MODEL_6f75844a06ae4e23a2b1a78c88f11d74"
      }
     },
     "3023362ea51a4b838722e38761b96715": {
      "model_module": "@jupyter-widgets/controls",
      "model_module_version": "1.5.0",
      "model_name": "DescriptionStyleModel",
      "state": {
       "description_width": ""
      }
     },
     "30305ddc4c664e199d15ef4f62ad67ea": {
      "model_module": "@jupyter-widgets/base",
      "model_module_version": "1.2.0",
      "model_name": "LayoutModel",
      "state": {}
     },
     "341a5d4cbf1c4c7095c47f76a9c48b1b": {
      "model_module": "@jupyter-widgets/base",
      "model_module_version": "1.2.0",
      "model_name": "LayoutModel",
      "state": {}
     },
     "62dc680ff91141e985ff7f0fe04ae0c4": {
      "model_module": "@jupyter-widgets/base",
      "model_module_version": "1.2.0",
      "model_name": "LayoutModel",
      "state": {}
     },
     "6779d4d67bb84f8d8c6187e36acb7330": {
      "model_module": "@jupyter-widgets/output",
      "model_module_version": "1.0.0",
      "model_name": "OutputModel",
      "state": {
       "layout": "IPY_MODEL_341a5d4cbf1c4c7095c47f76a9c48b1b",
       "outputs": [
        {
         "ename": "ValueError",
         "evalue": "\n    Invalid value of type 'builtins.str' received for the 'width' property of layout\n        Received value: '100vh'\n\n    The 'width' property is a number and may be specified as:\n      - An int or float in the interval [10, inf]",
         "output_type": "error",
         "traceback": [
          "\u001B[0;31m---------------------------------------------------------------------------\u001B[0m",
          "\u001B[0;31mValueError\u001B[0m                                Traceback (most recent call last)",
          "\u001B[0;32m~/Dev/routeOgimet/venv/lib/python3.9/site-packages/ipywidgets/widgets/interaction.py\u001B[0m in \u001B[0;36mupdate\u001B[0;34m(self, *args)\u001B[0m\n\u001B[1;32m    254\u001B[0m                     \u001B[0mvalue\u001B[0m \u001B[0;34m=\u001B[0m \u001B[0mwidget\u001B[0m\u001B[0;34m.\u001B[0m\u001B[0mget_interact_value\u001B[0m\u001B[0;34m(\u001B[0m\u001B[0;34m)\u001B[0m\u001B[0;34m\u001B[0m\u001B[0;34m\u001B[0m\u001B[0m\n\u001B[1;32m    255\u001B[0m                     \u001B[0mself\u001B[0m\u001B[0;34m.\u001B[0m\u001B[0mkwargs\u001B[0m\u001B[0;34m[\u001B[0m\u001B[0mwidget\u001B[0m\u001B[0;34m.\u001B[0m\u001B[0m_kwarg\u001B[0m\u001B[0;34m]\u001B[0m \u001B[0;34m=\u001B[0m \u001B[0mvalue\u001B[0m\u001B[0;34m\u001B[0m\u001B[0;34m\u001B[0m\u001B[0m\n\u001B[0;32m--> 256\u001B[0;31m                 \u001B[0mself\u001B[0m\u001B[0;34m.\u001B[0m\u001B[0mresult\u001B[0m \u001B[0;34m=\u001B[0m \u001B[0mself\u001B[0m\u001B[0;34m.\u001B[0m\u001B[0mf\u001B[0m\u001B[0;34m(\u001B[0m\u001B[0;34m**\u001B[0m\u001B[0mself\u001B[0m\u001B[0;34m.\u001B[0m\u001B[0mkwargs\u001B[0m\u001B[0;34m)\u001B[0m\u001B[0;34m\u001B[0m\u001B[0;34m\u001B[0m\u001B[0m\n\u001B[0m\u001B[1;32m    257\u001B[0m                 \u001B[0mshow_inline_matplotlib_plots\u001B[0m\u001B[0;34m(\u001B[0m\u001B[0;34m)\u001B[0m\u001B[0;34m\u001B[0m\u001B[0;34m\u001B[0m\u001B[0m\n\u001B[1;32m    258\u001B[0m                 \u001B[0;32mif\u001B[0m \u001B[0mself\u001B[0m\u001B[0;34m.\u001B[0m\u001B[0mauto_display\u001B[0m \u001B[0;32mand\u001B[0m \u001B[0mself\u001B[0m\u001B[0;34m.\u001B[0m\u001B[0mresult\u001B[0m \u001B[0;32mis\u001B[0m \u001B[0;32mnot\u001B[0m \u001B[0;32mNone\u001B[0m\u001B[0;34m:\u001B[0m\u001B[0;34m\u001B[0m\u001B[0;34m\u001B[0m\u001B[0m\n",
          "\u001B[0;32m<ipython-input-3-63d09ea7a571>\u001B[0m in \u001B[0;36mplot\u001B[0;34m(file, l, max_length, course_max_diff)\u001B[0m\n\u001B[1;32m     27\u001B[0m         \u001B[0;32mreturn\u001B[0m \u001B[0mold_route\u001B[0m\u001B[0;34m\u001B[0m\u001B[0;34m\u001B[0m\u001B[0m\n\u001B[1;32m     28\u001B[0m \u001B[0;34m\u001B[0m\u001B[0m\n\u001B[0;32m---> 29\u001B[0;31m     fig = basemap(route, nearby_wmo=get_nearby_wmo(route), nearest_wmo=get_nearest_wmo(route),\n\u001B[0m\u001B[1;32m     30\u001B[0m                   title='Ogimet route algorithms', text_labels=('splits',), legend_only=('splits', 'nearby wmo'))\n\u001B[1;32m     31\u001B[0m     fig.add_trace(\n",
          "\u001B[0;32m~/Dev/routeOgimet/editolidoProxy.py\u001B[0m in \u001B[0;36mbasemap\u001B[0;34m(route, nearby_wmo, nearest_wmo, route_color, title, text_labels, legend_only)\u001B[0m\n\u001B[1;32m    172\u001B[0m         \u001B[0mlegend\u001B[0m\u001B[0;34m=\u001B[0m\u001B[0mgo\u001B[0m\u001B[0;34m.\u001B[0m\u001B[0mlayout\u001B[0m\u001B[0;34m.\u001B[0m\u001B[0mLegend\u001B[0m\u001B[0;34m(\u001B[0m\u001B[0morientation\u001B[0m\u001B[0;34m=\u001B[0m\u001B[0;34m'h'\u001B[0m\u001B[0;34m)\u001B[0m\u001B[0;34m,\u001B[0m\u001B[0;34m\u001B[0m\u001B[0;34m\u001B[0m\u001B[0m\n\u001B[1;32m    173\u001B[0m     )\n\u001B[0;32m--> 174\u001B[0;31m     fig.update_layout(\n\u001B[0m\u001B[1;32m    175\u001B[0m         \u001B[0mautosize\u001B[0m\u001B[0;34m=\u001B[0m\u001B[0;32mFalse\u001B[0m\u001B[0;34m,\u001B[0m\u001B[0;34m\u001B[0m\u001B[0;34m\u001B[0m\u001B[0m\n\u001B[1;32m    176\u001B[0m         \u001B[0mwidth\u001B[0m\u001B[0;34m=\u001B[0m\u001B[0;34m'100vh'\u001B[0m\u001B[0;34m,\u001B[0m\u001B[0;34m\u001B[0m\u001B[0;34m\u001B[0m\u001B[0m\n",
          "\u001B[0;32m~/Dev/routeOgimet/venv/lib/python3.9/site-packages/plotly/basedatatypes.py\u001B[0m in \u001B[0;36mupdate_layout\u001B[0;34m(self, dict1, overwrite, **kwargs)\u001B[0m\n\u001B[1;32m   1401\u001B[0m             \u001B[0mThe\u001B[0m \u001B[0mFigure\u001B[0m \u001B[0mobject\u001B[0m \u001B[0mthat\u001B[0m \u001B[0mthe\u001B[0m \u001B[0mupdate_layout\u001B[0m \u001B[0mmethod\u001B[0m \u001B[0mwas\u001B[0m \u001B[0mcalled\u001B[0m \u001B[0mon\u001B[0m\u001B[0;34m\u001B[0m\u001B[0;34m\u001B[0m\u001B[0m\n\u001B[1;32m   1402\u001B[0m         \"\"\"\n\u001B[0;32m-> 1403\u001B[0;31m         \u001B[0mself\u001B[0m\u001B[0;34m.\u001B[0m\u001B[0mlayout\u001B[0m\u001B[0;34m.\u001B[0m\u001B[0mupdate\u001B[0m\u001B[0;34m(\u001B[0m\u001B[0mdict1\u001B[0m\u001B[0;34m,\u001B[0m \u001B[0moverwrite\u001B[0m\u001B[0;34m=\u001B[0m\u001B[0moverwrite\u001B[0m\u001B[0;34m,\u001B[0m \u001B[0;34m**\u001B[0m\u001B[0mkwargs\u001B[0m\u001B[0;34m)\u001B[0m\u001B[0;34m\u001B[0m\u001B[0;34m\u001B[0m\u001B[0m\n\u001B[0m\u001B[1;32m   1404\u001B[0m         \u001B[0;32mreturn\u001B[0m \u001B[0mself\u001B[0m\u001B[0;34m\u001B[0m\u001B[0;34m\u001B[0m\u001B[0m\n\u001B[1;32m   1405\u001B[0m \u001B[0;34m\u001B[0m\u001B[0m\n",
          "\u001B[0;32m~/Dev/routeOgimet/venv/lib/python3.9/site-packages/plotly/basedatatypes.py\u001B[0m in \u001B[0;36mupdate\u001B[0;34m(self, dict1, overwrite, **kwargs)\u001B[0m\n\u001B[1;32m   5065\u001B[0m             \u001B[0;32mwith\u001B[0m \u001B[0mself\u001B[0m\u001B[0;34m.\u001B[0m\u001B[0mfigure\u001B[0m\u001B[0;34m.\u001B[0m\u001B[0mbatch_update\u001B[0m\u001B[0;34m(\u001B[0m\u001B[0;34m)\u001B[0m\u001B[0;34m:\u001B[0m\u001B[0;34m\u001B[0m\u001B[0;34m\u001B[0m\u001B[0m\n\u001B[1;32m   5066\u001B[0m                 \u001B[0mBaseFigure\u001B[0m\u001B[0;34m.\u001B[0m\u001B[0m_perform_update\u001B[0m\u001B[0;34m(\u001B[0m\u001B[0mself\u001B[0m\u001B[0;34m,\u001B[0m \u001B[0mdict1\u001B[0m\u001B[0;34m,\u001B[0m \u001B[0moverwrite\u001B[0m\u001B[0;34m=\u001B[0m\u001B[0moverwrite\u001B[0m\u001B[0;34m)\u001B[0m\u001B[0;34m\u001B[0m\u001B[0;34m\u001B[0m\u001B[0m\n\u001B[0;32m-> 5067\u001B[0;31m                 \u001B[0mBaseFigure\u001B[0m\u001B[0;34m.\u001B[0m\u001B[0m_perform_update\u001B[0m\u001B[0;34m(\u001B[0m\u001B[0mself\u001B[0m\u001B[0;34m,\u001B[0m \u001B[0mkwargs\u001B[0m\u001B[0;34m,\u001B[0m \u001B[0moverwrite\u001B[0m\u001B[0;34m=\u001B[0m\u001B[0moverwrite\u001B[0m\u001B[0;34m)\u001B[0m\u001B[0;34m\u001B[0m\u001B[0;34m\u001B[0m\u001B[0m\n\u001B[0m\u001B[1;32m   5068\u001B[0m         \u001B[0;32melse\u001B[0m\u001B[0;34m:\u001B[0m\u001B[0;34m\u001B[0m\u001B[0;34m\u001B[0m\u001B[0m\n\u001B[1;32m   5069\u001B[0m             \u001B[0mBaseFigure\u001B[0m\u001B[0;34m.\u001B[0m\u001B[0m_perform_update\u001B[0m\u001B[0;34m(\u001B[0m\u001B[0mself\u001B[0m\u001B[0;34m,\u001B[0m \u001B[0mdict1\u001B[0m\u001B[0;34m,\u001B[0m \u001B[0moverwrite\u001B[0m\u001B[0;34m=\u001B[0m\u001B[0moverwrite\u001B[0m\u001B[0;34m)\u001B[0m\u001B[0;34m\u001B[0m\u001B[0;34m\u001B[0m\u001B[0m\n",
          "\u001B[0;32m~/Dev/routeOgimet/venv/lib/python3.9/site-packages/plotly/basedatatypes.py\u001B[0m in \u001B[0;36m_perform_update\u001B[0;34m(plotly_obj, update_obj, overwrite)\u001B[0m\n\u001B[1;32m   3904\u001B[0m                 \u001B[0;32melse\u001B[0m\u001B[0;34m:\u001B[0m\u001B[0;34m\u001B[0m\u001B[0;34m\u001B[0m\u001B[0m\n\u001B[1;32m   3905\u001B[0m                     \u001B[0;31m# Assign non-compound value\u001B[0m\u001B[0;34m\u001B[0m\u001B[0;34m\u001B[0m\u001B[0;34m\u001B[0m\u001B[0m\n\u001B[0;32m-> 3906\u001B[0;31m                     \u001B[0mplotly_obj\u001B[0m\u001B[0;34m[\u001B[0m\u001B[0mkey\u001B[0m\u001B[0;34m]\u001B[0m \u001B[0;34m=\u001B[0m \u001B[0mval\u001B[0m\u001B[0;34m\u001B[0m\u001B[0;34m\u001B[0m\u001B[0m\n\u001B[0m\u001B[1;32m   3907\u001B[0m \u001B[0;34m\u001B[0m\u001B[0m\n\u001B[1;32m   3908\u001B[0m         \u001B[0;32melif\u001B[0m \u001B[0misinstance\u001B[0m\u001B[0;34m(\u001B[0m\u001B[0mplotly_obj\u001B[0m\u001B[0;34m,\u001B[0m \u001B[0mtuple\u001B[0m\u001B[0;34m)\u001B[0m\u001B[0;34m:\u001B[0m\u001B[0;34m\u001B[0m\u001B[0;34m\u001B[0m\u001B[0m\n",
          "\u001B[0;32m~/Dev/routeOgimet/venv/lib/python3.9/site-packages/plotly/basedatatypes.py\u001B[0m in \u001B[0;36m__setitem__\u001B[0;34m(self, prop, value)\u001B[0m\n\u001B[1;32m   5804\u001B[0m         \u001B[0;32mif\u001B[0m \u001B[0mmatch\u001B[0m \u001B[0;32mis\u001B[0m \u001B[0;32mNone\u001B[0m\u001B[0;34m:\u001B[0m\u001B[0;34m\u001B[0m\u001B[0;34m\u001B[0m\u001B[0m\n\u001B[1;32m   5805\u001B[0m             \u001B[0;31m# Set as ordinary property\u001B[0m\u001B[0;34m\u001B[0m\u001B[0;34m\u001B[0m\u001B[0;34m\u001B[0m\u001B[0m\n\u001B[0;32m-> 5806\u001B[0;31m             \u001B[0msuper\u001B[0m\u001B[0;34m(\u001B[0m\u001B[0mBaseLayoutHierarchyType\u001B[0m\u001B[0;34m,\u001B[0m \u001B[0mself\u001B[0m\u001B[0;34m)\u001B[0m\u001B[0;34m.\u001B[0m\u001B[0m__setitem__\u001B[0m\u001B[0;34m(\u001B[0m\u001B[0mprop\u001B[0m\u001B[0;34m,\u001B[0m \u001B[0mvalue\u001B[0m\u001B[0;34m)\u001B[0m\u001B[0;34m\u001B[0m\u001B[0;34m\u001B[0m\u001B[0m\n\u001B[0m\u001B[1;32m   5807\u001B[0m         \u001B[0;32melse\u001B[0m\u001B[0;34m:\u001B[0m\u001B[0;34m\u001B[0m\u001B[0;34m\u001B[0m\u001B[0m\n\u001B[1;32m   5808\u001B[0m             \u001B[0;31m# Set as subplotid property\u001B[0m\u001B[0;34m\u001B[0m\u001B[0;34m\u001B[0m\u001B[0;34m\u001B[0m\u001B[0m\n",
          "\u001B[0;32m~/Dev/routeOgimet/venv/lib/python3.9/site-packages/plotly/basedatatypes.py\u001B[0m in \u001B[0;36m__setitem__\u001B[0;34m(self, prop, value)\u001B[0m\n\u001B[1;32m   4802\u001B[0m                 \u001B[0;31m# ### Handle simple property ###\u001B[0m\u001B[0;34m\u001B[0m\u001B[0;34m\u001B[0m\u001B[0;34m\u001B[0m\u001B[0m\n\u001B[1;32m   4803\u001B[0m                 \u001B[0;32melse\u001B[0m\u001B[0;34m:\u001B[0m\u001B[0;34m\u001B[0m\u001B[0;34m\u001B[0m\u001B[0m\n\u001B[0;32m-> 4804\u001B[0;31m                     \u001B[0mself\u001B[0m\u001B[0;34m.\u001B[0m\u001B[0m_set_prop\u001B[0m\u001B[0;34m(\u001B[0m\u001B[0mprop\u001B[0m\u001B[0;34m,\u001B[0m \u001B[0mvalue\u001B[0m\u001B[0;34m)\u001B[0m\u001B[0;34m\u001B[0m\u001B[0;34m\u001B[0m\u001B[0m\n\u001B[0m\u001B[1;32m   4805\u001B[0m             \u001B[0;32melse\u001B[0m\u001B[0;34m:\u001B[0m\u001B[0;34m\u001B[0m\u001B[0;34m\u001B[0m\u001B[0m\n\u001B[1;32m   4806\u001B[0m                 \u001B[0;31m# Make sure properties dict is initialized\u001B[0m\u001B[0;34m\u001B[0m\u001B[0;34m\u001B[0m\u001B[0;34m\u001B[0m\u001B[0m\n",
          "\u001B[0;32m~/Dev/routeOgimet/venv/lib/python3.9/site-packages/plotly/basedatatypes.py\u001B[0m in \u001B[0;36m_set_prop\u001B[0;34m(self, prop, val)\u001B[0m\n\u001B[1;32m   5146\u001B[0m                 \u001B[0;32mreturn\u001B[0m\u001B[0;34m\u001B[0m\u001B[0;34m\u001B[0m\u001B[0m\n\u001B[1;32m   5147\u001B[0m             \u001B[0;32melse\u001B[0m\u001B[0;34m:\u001B[0m\u001B[0;34m\u001B[0m\u001B[0;34m\u001B[0m\u001B[0m\n\u001B[0;32m-> 5148\u001B[0;31m                 \u001B[0;32mraise\u001B[0m \u001B[0merr\u001B[0m\u001B[0;34m\u001B[0m\u001B[0;34m\u001B[0m\u001B[0m\n\u001B[0m\u001B[1;32m   5149\u001B[0m \u001B[0;34m\u001B[0m\u001B[0m\n\u001B[1;32m   5150\u001B[0m         \u001B[0;31m# val is None\u001B[0m\u001B[0;34m\u001B[0m\u001B[0;34m\u001B[0m\u001B[0;34m\u001B[0m\u001B[0m\n",
          "\u001B[0;32m~/Dev/routeOgimet/venv/lib/python3.9/site-packages/plotly/basedatatypes.py\u001B[0m in \u001B[0;36m_set_prop\u001B[0;34m(self, prop, val)\u001B[0m\n\u001B[1;32m   5141\u001B[0m \u001B[0;34m\u001B[0m\u001B[0m\n\u001B[1;32m   5142\u001B[0m         \u001B[0;32mtry\u001B[0m\u001B[0;34m:\u001B[0m\u001B[0;34m\u001B[0m\u001B[0;34m\u001B[0m\u001B[0m\n\u001B[0;32m-> 5143\u001B[0;31m             \u001B[0mval\u001B[0m \u001B[0;34m=\u001B[0m \u001B[0mvalidator\u001B[0m\u001B[0;34m.\u001B[0m\u001B[0mvalidate_coerce\u001B[0m\u001B[0;34m(\u001B[0m\u001B[0mval\u001B[0m\u001B[0;34m)\u001B[0m\u001B[0;34m\u001B[0m\u001B[0;34m\u001B[0m\u001B[0m\n\u001B[0m\u001B[1;32m   5144\u001B[0m         \u001B[0;32mexcept\u001B[0m \u001B[0mValueError\u001B[0m \u001B[0;32mas\u001B[0m \u001B[0merr\u001B[0m\u001B[0;34m:\u001B[0m\u001B[0;34m\u001B[0m\u001B[0;34m\u001B[0m\u001B[0m\n\u001B[1;32m   5145\u001B[0m             \u001B[0;32mif\u001B[0m \u001B[0mself\u001B[0m\u001B[0;34m.\u001B[0m\u001B[0m_skip_invalid\u001B[0m\u001B[0;34m:\u001B[0m\u001B[0;34m\u001B[0m\u001B[0;34m\u001B[0m\u001B[0m\n",
          "\u001B[0;32m~/Dev/routeOgimet/venv/lib/python3.9/site-packages/_plotly_utils/basevalidators.py\u001B[0m in \u001B[0;36mvalidate_coerce\u001B[0;34m(self, v)\u001B[0m\n\u001B[1;32m    786\u001B[0m             \u001B[0;31m# Check numeric\u001B[0m\u001B[0;34m\u001B[0m\u001B[0;34m\u001B[0m\u001B[0;34m\u001B[0m\u001B[0m\n\u001B[1;32m    787\u001B[0m             \u001B[0;32mif\u001B[0m \u001B[0;32mnot\u001B[0m \u001B[0misinstance\u001B[0m\u001B[0;34m(\u001B[0m\u001B[0mv\u001B[0m\u001B[0;34m,\u001B[0m \u001B[0mnumbers\u001B[0m\u001B[0;34m.\u001B[0m\u001B[0mNumber\u001B[0m\u001B[0;34m)\u001B[0m\u001B[0;34m:\u001B[0m\u001B[0;34m\u001B[0m\u001B[0;34m\u001B[0m\u001B[0m\n\u001B[0;32m--> 788\u001B[0;31m                 \u001B[0mself\u001B[0m\u001B[0;34m.\u001B[0m\u001B[0mraise_invalid_val\u001B[0m\u001B[0;34m(\u001B[0m\u001B[0mv\u001B[0m\u001B[0;34m)\u001B[0m\u001B[0;34m\u001B[0m\u001B[0;34m\u001B[0m\u001B[0m\n\u001B[0m\u001B[1;32m    789\u001B[0m \u001B[0;34m\u001B[0m\u001B[0m\n\u001B[1;32m    790\u001B[0m             \u001B[0;31m# Check min/max\u001B[0m\u001B[0;34m\u001B[0m\u001B[0;34m\u001B[0m\u001B[0;34m\u001B[0m\u001B[0m\n",
          "\u001B[0;32m~/Dev/routeOgimet/venv/lib/python3.9/site-packages/_plotly_utils/basevalidators.py\u001B[0m in \u001B[0;36mraise_invalid_val\u001B[0;34m(self, v, inds)\u001B[0m\n\u001B[1;32m    275\u001B[0m                 \u001B[0mname\u001B[0m \u001B[0;34m+=\u001B[0m \u001B[0;34m\"[\"\u001B[0m \u001B[0;34m+\u001B[0m \u001B[0mstr\u001B[0m\u001B[0;34m(\u001B[0m\u001B[0mi\u001B[0m\u001B[0;34m)\u001B[0m \u001B[0;34m+\u001B[0m \u001B[0;34m\"]\"\u001B[0m\u001B[0;34m\u001B[0m\u001B[0;34m\u001B[0m\u001B[0m\n\u001B[1;32m    276\u001B[0m \u001B[0;34m\u001B[0m\u001B[0m\n\u001B[0;32m--> 277\u001B[0;31m         raise ValueError(\n\u001B[0m\u001B[1;32m    278\u001B[0m             \"\"\"\n\u001B[1;32m    279\u001B[0m     \u001B[0mInvalid\u001B[0m \u001B[0mvalue\u001B[0m \u001B[0mof\u001B[0m \u001B[0mtype\u001B[0m \u001B[0;34m{\u001B[0m\u001B[0mtyp\u001B[0m\u001B[0;34m}\u001B[0m \u001B[0mreceived\u001B[0m \u001B[0;32mfor\u001B[0m \u001B[0mthe\u001B[0m \u001B[0;34m'{name}'\u001B[0m \u001B[0mproperty\u001B[0m \u001B[0mof\u001B[0m \u001B[0;34m{\u001B[0m\u001B[0mpname\u001B[0m\u001B[0;34m}\u001B[0m\u001B[0;34m\u001B[0m\u001B[0;34m\u001B[0m\u001B[0m\n",
          "\u001B[0;31mValueError\u001B[0m: \n    Invalid value of type 'builtins.str' received for the 'width' property of layout\n        Received value: '100vh'\n\n    The 'width' property is a number and may be specified as:\n      - An int or float in the interval [10, inf]"
         ]
        }
       ]
      }
     },
     "6d2200925a8a4eea8e88983a9e669562": {
      "model_module": "@jupyter-widgets/controls",
      "model_module_version": "1.5.0",
      "model_name": "VBoxModel",
      "state": {
       "_dom_classes": [
        "widget-interact"
       ],
       "children": [
        "IPY_MODEL_25d853578a6e4587bd1f3835268b329d",
        "IPY_MODEL_e9bdf7a670124c4aaf3d512384fbe674",
        "IPY_MODEL_dd6ac8393d8b4e35aed10945f744d163",
        "IPY_MODEL_20e8458e039f485ea727f3dc0dddf1a6",
        "IPY_MODEL_6779d4d67bb84f8d8c6187e36acb7330"
       ],
       "layout": "IPY_MODEL_bc25be01d3a34b78a29a6ee24fbb5efb"
      }
     },
     "6f75844a06ae4e23a2b1a78c88f11d74": {
      "model_module": "@jupyter-widgets/controls",
      "model_module_version": "1.5.0",
      "model_name": "DescriptionStyleModel",
      "state": {
       "description_width": ""
      }
     },
     "7c94c9b7b4e148aeafd73287e83024f1": {
      "model_module": "@jupyter-widgets/base",
      "model_module_version": "1.2.0",
      "model_name": "LayoutModel",
      "state": {
       "border": "1px solid black"
      }
     },
     "a4c427d135c7433da5b3e35249e4694f": {
      "model_module": "@jupyter-widgets/base",
      "model_module_version": "1.2.0",
      "model_name": "LayoutModel",
      "state": {}
     },
     "aa9f4f52a6ef4fa1ab35d67a51e92643": {
      "model_module": "@jupyter-widgets/base",
      "model_module_version": "1.2.0",
      "model_name": "LayoutModel",
      "state": {}
     },
     "bb61f06e1de34071b65f0da60d8c8a24": {
      "model_module": "@jupyter-widgets/controls",
      "model_module_version": "1.5.0",
      "model_name": "DescriptionStyleModel",
      "state": {
       "description_width": ""
      }
     },
     "bc25be01d3a34b78a29a6ee24fbb5efb": {
      "model_module": "@jupyter-widgets/base",
      "model_module_version": "1.2.0",
      "model_name": "LayoutModel",
      "state": {}
     },
     "dd6ac8393d8b4e35aed10945f744d163": {
      "model_module": "@jupyter-widgets/controls",
      "model_module_version": "1.5.0",
      "model_name": "DropdownModel",
      "state": {
       "_options_labels": [
        "0",
        "route/10"
       ],
       "description": "max_length",
       "index": 0,
       "layout": "IPY_MODEL_a4c427d135c7433da5b3e35249e4694f",
       "style": "IPY_MODEL_13247aaa226741da8644e8a722e59f60"
      }
     },
     "e9bdf7a670124c4aaf3d512384fbe674": {
      "model_module": "@jupyter-widgets/controls",
      "model_module_version": "1.5.0",
      "model_name": "DropdownModel",
      "state": {
       "_options_labels": [
        "0",
        "5",
        "10",
        "35",
        "40",
        "100"
       ],
       "description": "l",
       "index": 3,
       "layout": "IPY_MODEL_62dc680ff91141e985ff7f0fe04ae0c4",
       "style": "IPY_MODEL_3023362ea51a4b838722e38761b96715"
      }
     },
     "f516e7c4eecf4b7383f5327adfdfc9f4": {
      "model_module": "@jupyter-widgets/output",
      "model_module_version": "1.0.0",
      "model_name": "OutputModel",
      "state": {
       "layout": "IPY_MODEL_7c94c9b7b4e148aeafd73287e83024f1"
      }
     }
    },
    "version_major": 2,
    "version_minor": 0
   }
  }
 },
 "nbformat": 4,
 "nbformat_minor": 4
}