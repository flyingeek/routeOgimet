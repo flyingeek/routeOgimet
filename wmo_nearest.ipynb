{
 "cells": [
  {
   "cell_type": "code",
   "execution_count": 1,
   "metadata": {
    "jupyter": {
     "source_hidden": true
    },
    "tags": []
   },
   "outputs": [],
   "source": [
    "import glob\n",
    "import plotly.graph_objects as go\n",
    "from ipywidgets import interact\n",
    "from editolidoHelper import (\n",
    "    get_bounded_wmo_stations,\n",
    "    load_ofp_route,\n",
    "    get_nearest_wmo,\n",
    "    get_nearby_wmo,\n",
    "    basemap\n",
    ")"
   ]
  },
  {
   "cell_type": "code",
   "execution_count": null,
   "outputs": [
    {
     "data": {
      "text/plain": "interactive(children=(Dropdown(description='file', options=('ofp/BST_AF650 _LFPG_MMUN_20180304_1355z.route.jso…",
      "application/vnd.jupyter.widget-view+json": {
       "version_major": 2,
       "version_minor": 0,
       "model_id": "47c26d89b53746d682143aaa2b0515ed"
      }
     },
     "metadata": {},
     "output_type": "display_data"
    }
   ],
   "source": [
    "@interact\n",
    "def plot(file=glob.glob('ofp/*.route.json')):\n",
    "    route = load_ofp_route(file)\n",
    "    fig = basemap(route=route,\n",
    "                  nearby_wmo=get_nearby_wmo(route),\n",
    "                  nearest_wmo=get_nearest_wmo(route),\n",
    "                  title='Route and nearest WMO')\n",
    "    wmo = get_bounded_wmo_stations(route)\n",
    "    fig.add_trace(\n",
    "        go.Scattergeo(\n",
    "            lon = wmo['lng'],\n",
    "            lat = wmo['lat'],\n",
    "            text = wmo['name'],\n",
    "            mode = 'markers',\n",
    "            visible='legendonly',\n",
    "            name='wmo stations',\n",
    "            marker=dict(size=4)\n",
    "        ))\n",
    "    return fig\n",
    "#plot('ofp/AF117_05OCT19_PVG_PDF NDV - OFP N°9.route.json')"
   ],
   "metadata": {
    "collapsed": false,
    "pycharm": {
     "name": "#%%\n",
     "is_executing": true
    }
   }
  }
 ],
 "metadata": {
  "hide_input": false,
  "kernelspec": {
   "display_name": "Python 3",
   "language": "python",
   "name": "python3"
  },
  "language_info": {
   "codemirror_mode": {
    "name": "ipython",
    "version": 3
   },
   "file_extension": ".py",
   "mimetype": "text/x-python",
   "name": "python",
   "nbconvert_exporter": "python",
   "pygments_lexer": "ipython3",
   "version": "3.9.2"
  },
  "widgets": {
   "application/vnd.jupyter.widget-state+json": {
    "state": {},
    "version_major": 2,
    "version_minor": 0
   }
  }
 },
 "nbformat": 4,
 "nbformat_minor": 4
}