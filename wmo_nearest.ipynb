{
 "cells": [
  {
   "cell_type": "code",
   "execution_count": 1,
   "metadata": {
    "jupyter": {
     "source_hidden": true
    },
    "tags": []
   },
   "outputs": [
    {
     "data": {
      "application/vnd.jupyter.widget-view+json": {
       "model_id": "a7c94f59580948a8aec2ab6bc5e1673e",
       "version_major": 2,
       "version_minor": 0
      },
      "text/plain": [
       "interactive(children=(Dropdown(description='file', options=('ofp/BST_AF650 _LFPG_MMUN_20180304_1355z.route.jso…"
      ]
     },
     "metadata": {},
     "output_type": "display_data"
    }
   ],
   "source": [
    "import glob\n",
    "import pandas as pd\n",
    "import plotly.graph_objects as go\n",
    "from ipywidgets import interact\n",
    "from editolido.geoindex import GeoGridIndex\n",
    "from editolidoProxy import (\n",
    "    load_ofp_route,\n",
    "    get_nearest_wmo,\n",
    "    get_nearby_wmo,\n",
    "    basemap\n",
    ")\n",
    "wmo_grid = GeoGridIndex()\n",
    "wmo_grid.load()\n",
    "wmo_stations = (dict(name=item[0], lat=item[1], lng=item[2]) for sublist in wmo_grid.data.values() for item in sublist)\n",
    "df = pd.DataFrame(wmo_stations)\n",
    "\n",
    "\n",
    "@interact\n",
    "def plot(file=glob.glob('ofp/*.route.json')):\n",
    "    route = load_ofp_route(file)\n",
    "    latmin = min([p.latitude for p in route]) - 1\n",
    "    latmax = max([p.latitude for p in route]) + 1\n",
    "    lngmin = min([p.longitude for p in route]) - 1\n",
    "    lngmax= max([p.longitude for p in route]) + 1\n",
    "    bb = df[(df['lat'] > latmin) & (df['lat'] < latmax) & (df['lng'] > lngmin) & (df['lng'] < lngmax)]\n",
    "    nearest_wmo = get_nearest_wmo(route)\n",
    "    nearby_wmo = get_nearby_wmo(route)\n",
    "    fig = basemap(route, nearby_wmo=nearby_wmo, nearest_wmo=nearest_wmo, title='Route and nearest WMO')\n",
    "    fig.add_trace(\n",
    "        go.Scattergeo(\n",
    "            lon = bb['lng'],\n",
    "            lat = bb['lat'],\n",
    "            text = bb['name'],\n",
    "            mode = 'markers',\n",
    "            visible='legendonly',\n",
    "            name='wmo stations',\n",
    "            marker=dict(size=4)\n",
    "        ))\n",
    "    return fig"
   ]
  },
  {
   "cell_type": "code",
   "execution_count": null,
   "metadata": {
    "collapsed": false,
    "jupyter": {
     "outputs_hidden": false
    },
    "pycharm": {
     "name": "#%%\n"
    }
   },
   "outputs": [],
   "source": [
    "\n"
   ]
  }
 ],
 "metadata": {
  "kernelspec": {
   "display_name": "Python 3",
   "language": "python",
   "name": "python3"
  },
  "language_info": {
   "codemirror_mode": {
    "name": "ipython",
    "version": 3
   },
   "file_extension": ".py",
   "mimetype": "text/x-python",
   "name": "python",
   "nbconvert_exporter": "python",
   "pygments_lexer": "ipython3",
   "version": "3.9.2"
  },
  "widgets": {
   "application/vnd.jupyter.widget-state+json": {
    "state": {},
    "version_major": 2,
    "version_minor": 0
   }
  }
 },
 "nbformat": 4,
 "nbformat_minor": 4
}
