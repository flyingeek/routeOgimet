{
 "cells": [
  {
   "cell_type": "code",
   "execution_count": 1526,
   "metadata": {
    "collapsed": true,
    "jupyter": {
     "outputs_hidden": true
    }
   },
   "outputs": [],
   "source": [
    "\n",
    "import numpy as np\n",
    "# import matplotlib.pyplot as plt\n",
    "# import plotly.express as px\n",
    "import plotly.graph_objects as go"
   ]
  },
  {
   "cell_type": "code",
   "execution_count": 1527,
   "metadata": {
    "collapsed": false,
    "jupyter": {
     "outputs_hidden": false
    },
    "pycharm": {
     "name": "#%%\n"
    }
   },
   "outputs": [],
   "source": [
    "N = 100000\n",
    "n_stations = 150"
   ]
  },
  {
   "cell_type": "code",
   "execution_count": 1528,
   "metadata": {
    "collapsed": false,
    "jupyter": {
     "outputs_hidden": false
    },
    "pycharm": {
     "name": "#%%\n"
    }
   },
   "outputs": [],
   "source": [
    "np.random.seed(42)"
   ]
  },
  {
   "cell_type": "code",
   "execution_count": 1529,
   "metadata": {
    "collapsed": false,
    "jupyter": {
     "outputs_hidden": false
    },
    "pycharm": {
     "name": "#%%\n"
    }
   },
   "outputs": [],
   "source": [
    "stations = np.random.uniform(low= 0, high=N, size=(n_stations, 2))\n"
   ]
  },
  {
   "cell_type": "code",
   "execution_count": 1530,
   "metadata": {
    "collapsed": false,
    "jupyter": {
     "outputs_hidden": false
    },
    "pycharm": {
     "name": "#%%\n"
    }
   },
   "outputs": [],
   "source": [
    "plane_route = np.array([[x,int(0.3 * x)] for x in range(0,int(N/2),1000 )] + [[x, x - int(0.7 * N/2)] for x in range(int(N/2),N+1,1000 )])"
   ]
  },
  {
   "cell_type": "code",
   "execution_count": 1531,
   "metadata": {
    "collapsed": false,
    "jupyter": {
     "outputs_hidden": false
    },
    "pycharm": {
     "name": "#%%\n"
    }
   },
   "outputs": [
    {
     "data": {
      "application/vnd.plotly.v1+json": {
       "config": {
        "plotlyServerURL": "https://plot.ly"
       },
       "data": [
        {
         "mode": "markers",
         "name": "stations",
         "type": "scatter",
         "x": [
          37454.01188473625,
          73199.39418114051,
          15601.864044243652,
          5808.361216819946,
          60111.50117432088,
          2058.4494295802447,
          83244.26408004218,
          18182.496720710064,
          30424.224295953773,
          43194.501864211576,
          61185.28947223795,
          29214.464853521815,
          45606.998421703596,
          19967.378215835975,
          59241.45688620424,
          60754.48519014384,
          6505.159298527951,
          96563.20330745593,
          30461.376917337067,
          68423.3026512157,
          12203.823484477882,
          3438.8521115218396,
          25877.99816000169,
          31171.107608941096,
          54671.02793432796,
          96958.46277645585,
          93949.89415641892,
          59789.99788110852,
          8849.25020519195,
          4522.728891053806,
          38867.7289689482,
          82873.75091519294,
          28093.450968738078,
          14092.422497476264,
          7455.064367977082,
          77224.47692966575,
          552.21171236024,
          70685.73438476172,
          77127.03466859457,
          35846.572854427264,
          86310.34258755935,
          33089.80248526492,
          31098.232171566222,
          72960.6178338064,
          88721.27425763266,
          11959.42459383017,
          76078.50486168974,
          77096.7179954561,
          52273.28293819941,
          2541.912674409519,
          3142.918568673425,
          31435.598107632668,
          90756.6473926093,
          41038.29230356297,
          22879.816549162246,
          28975.145291376804,
          92969.76523425731,
          63340.37565104235,
          80367.20768991145,
          89255.89984899778,
          80744.01551640626,
          31800.347497186387,
          22793.516254194168,
          81801.47659224931,
          695.2130531190703,
          41741.1003148779,
          11986.53673336828,
          94290.97039125192,
          51879.06217433661,
          36362.9602379294,
          96244.72949421112,
          49724.850589238544,
          28484.049437746762,
          60956.433397989684,
          5147.8751249989355,
          90826.58859666537,
          14489.48720912231,
          98565.04541106007,
          67213.55474058786,
          23763.754399239966,
          36778.31327192532,
          63352.97107608947,
          9028.97700544083,
          32078.006497173585,
          4077.514155476392,
          67756.43618422824,
          51209.3058299281,
          64517.27904094499,
          69093.7738102466,
          93672.99887367345,
          34106.63510502585,
          92469.36182785628,
          25794.16277151556,
          81722.22002012159,
          52965.05783560065,
          9310.27678058992,
          90041.80571633305,
          33902.979104870064,
          72595.56788702394,
          88708.64242651172,
          64203.164615428774,
          16162.871409461377,
          60642.90596595899,
          10147.15428660321,
          506.15838462186866,
          54873.37893665861,
          65196.12595026005,
          71217.9221347536,
          32539.969815926772,
          64963.28990472147,
          65761.28923003434,
          9367.476782809248,
          26520.236768172545,
          97301.05547524456,
          89204.65551771133,
          79481.13035416484,
          57690.388462635914,
          19524.29877980445,
          28077.23624408558,
          64547.22959071678,
          94045.85843529143,
          91486.43902204485,
          1545.6616528867428,
          42818.41483173143,
          96361.99770892528,
          29444.889206958567,
          85113.66715168569,
          16949.27466860925,
          93615.4774160781,
          57006.1170089365,
          61500.72266991698,
          14008.401523652403,
          87737.30719279555,
          69701.5740995268,
          35949.11512197552,
          80936.11554785137,
          86707.23185801037,
          51134.23988609378,
          79829.51789667751,
          70196.68772577033,
          89000.53418175664,
          37558.2952639944,
          57828.014099617394,
          46559.80181324601,
          28654.12521282844,
          3050.0249939049427,
          82260.05606596582,
          12706.051265188478,
          76999.35530986109,
          62289.04758190003
         ],
         "y": [
          95071.43064099162,
          59865.84841970366,
          15599.452033620264,
          86617.61457749351,
          70807.25777960455,
          96990.98521619943,
          21233.911067827616,
          18340.45098534338,
          52475.64316322379,
          29122.91401980419,
          13949.386065204184,
          36636.18432936917,
          78517.59613930136,
          51423.44384136116,
          4645.041271999772,
          17052.412368729154,
          94888.55372533333,
          80839.7348116461,
          9767.211400638387,
          44015.24937396013,
          49517.69101112702,
          90932.0402078782,
          66252.2284353982,
          52006.80211778108,
          18485.445552552705,
          77513.28233611146,
          89482.73504276488,
          92187.42350231168,
          19598.28624191452,
          32533.033076326436,
          27134.90317738959,
          35675.332669358926,
          54269.608315824844,
          80219.69807540397,
          98688.69366005174,
          19871.56815341724,
          81546.14284548341,
          72900.71680409873,
          7404.465173409036,
          11586.90595251297,
          62329.81268275579,
          6355.835028602363,
          32518.332202674705,
          63755.74713552131,
          47221.49251619493,
          71324.47872229951,
          56127.71975694962,
          49379.55963643907,
          42754.10183585496,
          10789.142699330445,
          63641.04112637804,
          50857.06911647028,
          24929.222914887494,
          75555.11385430487,
          7697.990982879299,
          16122.128725400442,
          80812.0379564417,
          87146.05901877178,
          18657.005888603584,
          53934.224191565074,
          89609.12999234932,
          11005.192452767677,
          42710.77886262563,
          86073.05832563434,
          51074.73025775657,
          22210.781047073026,
          33761.5171403628,
          32320.29320207552,
          70301.89588951778,
          97178.20827209606,
          25178.229582536416,
          30087.830981676965,
          3688.6947354532795,
          50267.90232288615,
          27864.646423661143,
          23956.189066697243,
          48945.2760277563,
          24205.52715115004,
          76161.96153287176,
          72821.63486118596,
          63230.583059357945,
          53577.46840747585,
          83530.2495589238,
          18651.851039985424,
          59089.294318824184,
          1658.782892785615,
          22649.577519793795,
          17436.642900499144,
          38673.53463005374,
          13752.094414599325,
          11347.352124058907,
          87733.9353380981,
          65998.4046034179,
          55520.08115994623,
          24185.22909004517,
          89721.57579533267,
          63310.145727326795,
          34920.95746126609,
          89711.0259952577,
          77987.55458576238,
          8413.996499504883,
          89855.41885270792,
          919.7051616629648,
          66350.17691080557,
          16080.805141749865,
          69189.51976926932,
          22426.930946055978,
          23724.908749680006,
          74649.14051180241,
          84922.3410494178,
          56830.86033354716,
          36771.58030594335,
          24398.964337908357,
          39309.77246667604,
          63113.862599726286,
          50263.70931051921,
          49251.76938188639,
          72245.21152615054,
          2431.596643145384,
          17711.067940704896,
          95392.85770025874,
          37015.87002554444,
          92831.85625877253,
          96665.48190436696,
          85300.94554673601,
          38509.77286019253,
          31692.200515627766,
          55680.12624583502,
          69602.9796674973,
          9717.649377076854,
          99005.38501042633,
          51832.965236373675,
          74076.86177542045,
          70248.40839871093,
          29359.184426449337,
          81011.33946791808,
          91324.05525564712,
          50151.62946871996,
          64996.39307777651,
          79579.2669436101,
          33799.51568515358,
          9398.1939840869,
          3594.2273796742084,
          54264.46347075766,
          59083.326056901074,
          3734.818874921442,
          36019.06414112629,
          52224.326005480434,
          21582.102749684316,
          8534.746499376799
         ]
        },
        {
         "mode": "lines",
         "name": "route",
         "type": "scatter",
         "x": [
          0,
          1000,
          2000,
          3000,
          4000,
          5000,
          6000,
          7000,
          8000,
          9000,
          10000,
          11000,
          12000,
          13000,
          14000,
          15000,
          16000,
          17000,
          18000,
          19000,
          20000,
          21000,
          22000,
          23000,
          24000,
          25000,
          26000,
          27000,
          28000,
          29000,
          30000,
          31000,
          32000,
          33000,
          34000,
          35000,
          36000,
          37000,
          38000,
          39000,
          40000,
          41000,
          42000,
          43000,
          44000,
          45000,
          46000,
          47000,
          48000,
          49000,
          50000,
          51000,
          52000,
          53000,
          54000,
          55000,
          56000,
          57000,
          58000,
          59000,
          60000,
          61000,
          62000,
          63000,
          64000,
          65000,
          66000,
          67000,
          68000,
          69000,
          70000,
          71000,
          72000,
          73000,
          74000,
          75000,
          76000,
          77000,
          78000,
          79000,
          80000,
          81000,
          82000,
          83000,
          84000,
          85000,
          86000,
          87000,
          88000,
          89000,
          90000,
          91000,
          92000,
          93000,
          94000,
          95000,
          96000,
          97000,
          98000,
          99000,
          100000
         ],
         "y": [
          0,
          300,
          600,
          900,
          1200,
          1500,
          1800,
          2100,
          2400,
          2700,
          3000,
          3300,
          3600,
          3900,
          4200,
          4500,
          4800,
          5100,
          5400,
          5700,
          6000,
          6300,
          6600,
          6900,
          7200,
          7500,
          7800,
          8100,
          8400,
          8700,
          9000,
          9300,
          9600,
          9900,
          10200,
          10500,
          10800,
          11100,
          11400,
          11700,
          12000,
          12300,
          12600,
          12900,
          13200,
          13500,
          13800,
          14100,
          14400,
          14700,
          15000,
          16000,
          17000,
          18000,
          19000,
          20000,
          21000,
          22000,
          23000,
          24000,
          25000,
          26000,
          27000,
          28000,
          29000,
          30000,
          31000,
          32000,
          33000,
          34000,
          35000,
          36000,
          37000,
          38000,
          39000,
          40000,
          41000,
          42000,
          43000,
          44000,
          45000,
          46000,
          47000,
          48000,
          49000,
          50000,
          51000,
          52000,
          53000,
          54000,
          55000,
          56000,
          57000,
          58000,
          59000,
          60000,
          61000,
          62000,
          63000,
          64000,
          65000
         ]
        }
       ],
       "layout": {
        "autosize": true,
        "template": {
         "data": {
          "bar": [
           {
            "error_x": {
             "color": "#2a3f5f"
            },
            "error_y": {
             "color": "#2a3f5f"
            },
            "marker": {
             "line": {
              "color": "#E5ECF6",
              "width": 0.5
             }
            },
            "type": "bar"
           }
          ],
          "barpolar": [
           {
            "marker": {
             "line": {
              "color": "#E5ECF6",
              "width": 0.5
             }
            },
            "type": "barpolar"
           }
          ],
          "carpet": [
           {
            "aaxis": {
             "endlinecolor": "#2a3f5f",
             "gridcolor": "white",
             "linecolor": "white",
             "minorgridcolor": "white",
             "startlinecolor": "#2a3f5f"
            },
            "baxis": {
             "endlinecolor": "#2a3f5f",
             "gridcolor": "white",
             "linecolor": "white",
             "minorgridcolor": "white",
             "startlinecolor": "#2a3f5f"
            },
            "type": "carpet"
           }
          ],
          "choropleth": [
           {
            "colorbar": {
             "outlinewidth": 0,
             "ticks": ""
            },
            "type": "choropleth"
           }
          ],
          "contour": [
           {
            "colorbar": {
             "outlinewidth": 0,
             "ticks": ""
            },
            "colorscale": [
             [
              0,
              "#0d0887"
             ],
             [
              0.1111111111111111,
              "#46039f"
             ],
             [
              0.2222222222222222,
              "#7201a8"
             ],
             [
              0.3333333333333333,
              "#9c179e"
             ],
             [
              0.4444444444444444,
              "#bd3786"
             ],
             [
              0.5555555555555556,
              "#d8576b"
             ],
             [
              0.6666666666666666,
              "#ed7953"
             ],
             [
              0.7777777777777778,
              "#fb9f3a"
             ],
             [
              0.8888888888888888,
              "#fdca26"
             ],
             [
              1,
              "#f0f921"
             ]
            ],
            "type": "contour"
           }
          ],
          "contourcarpet": [
           {
            "colorbar": {
             "outlinewidth": 0,
             "ticks": ""
            },
            "type": "contourcarpet"
           }
          ],
          "heatmap": [
           {
            "colorbar": {
             "outlinewidth": 0,
             "ticks": ""
            },
            "colorscale": [
             [
              0,
              "#0d0887"
             ],
             [
              0.1111111111111111,
              "#46039f"
             ],
             [
              0.2222222222222222,
              "#7201a8"
             ],
             [
              0.3333333333333333,
              "#9c179e"
             ],
             [
              0.4444444444444444,
              "#bd3786"
             ],
             [
              0.5555555555555556,
              "#d8576b"
             ],
             [
              0.6666666666666666,
              "#ed7953"
             ],
             [
              0.7777777777777778,
              "#fb9f3a"
             ],
             [
              0.8888888888888888,
              "#fdca26"
             ],
             [
              1,
              "#f0f921"
             ]
            ],
            "type": "heatmap"
           }
          ],
          "heatmapgl": [
           {
            "colorbar": {
             "outlinewidth": 0,
             "ticks": ""
            },
            "colorscale": [
             [
              0,
              "#0d0887"
             ],
             [
              0.1111111111111111,
              "#46039f"
             ],
             [
              0.2222222222222222,
              "#7201a8"
             ],
             [
              0.3333333333333333,
              "#9c179e"
             ],
             [
              0.4444444444444444,
              "#bd3786"
             ],
             [
              0.5555555555555556,
              "#d8576b"
             ],
             [
              0.6666666666666666,
              "#ed7953"
             ],
             [
              0.7777777777777778,
              "#fb9f3a"
             ],
             [
              0.8888888888888888,
              "#fdca26"
             ],
             [
              1,
              "#f0f921"
             ]
            ],
            "type": "heatmapgl"
           }
          ],
          "histogram": [
           {
            "marker": {
             "colorbar": {
              "outlinewidth": 0,
              "ticks": ""
             }
            },
            "type": "histogram"
           }
          ],
          "histogram2d": [
           {
            "colorbar": {
             "outlinewidth": 0,
             "ticks": ""
            },
            "colorscale": [
             [
              0,
              "#0d0887"
             ],
             [
              0.1111111111111111,
              "#46039f"
             ],
             [
              0.2222222222222222,
              "#7201a8"
             ],
             [
              0.3333333333333333,
              "#9c179e"
             ],
             [
              0.4444444444444444,
              "#bd3786"
             ],
             [
              0.5555555555555556,
              "#d8576b"
             ],
             [
              0.6666666666666666,
              "#ed7953"
             ],
             [
              0.7777777777777778,
              "#fb9f3a"
             ],
             [
              0.8888888888888888,
              "#fdca26"
             ],
             [
              1,
              "#f0f921"
             ]
            ],
            "type": "histogram2d"
           }
          ],
          "histogram2dcontour": [
           {
            "colorbar": {
             "outlinewidth": 0,
             "ticks": ""
            },
            "colorscale": [
             [
              0,
              "#0d0887"
             ],
             [
              0.1111111111111111,
              "#46039f"
             ],
             [
              0.2222222222222222,
              "#7201a8"
             ],
             [
              0.3333333333333333,
              "#9c179e"
             ],
             [
              0.4444444444444444,
              "#bd3786"
             ],
             [
              0.5555555555555556,
              "#d8576b"
             ],
             [
              0.6666666666666666,
              "#ed7953"
             ],
             [
              0.7777777777777778,
              "#fb9f3a"
             ],
             [
              0.8888888888888888,
              "#fdca26"
             ],
             [
              1,
              "#f0f921"
             ]
            ],
            "type": "histogram2dcontour"
           }
          ],
          "mesh3d": [
           {
            "colorbar": {
             "outlinewidth": 0,
             "ticks": ""
            },
            "type": "mesh3d"
           }
          ],
          "parcoords": [
           {
            "line": {
             "colorbar": {
              "outlinewidth": 0,
              "ticks": ""
             }
            },
            "type": "parcoords"
           }
          ],
          "pie": [
           {
            "automargin": true,
            "type": "pie"
           }
          ],
          "scatter": [
           {
            "marker": {
             "colorbar": {
              "outlinewidth": 0,
              "ticks": ""
             }
            },
            "type": "scatter"
           }
          ],
          "scatter3d": [
           {
            "line": {
             "colorbar": {
              "outlinewidth": 0,
              "ticks": ""
             }
            },
            "marker": {
             "colorbar": {
              "outlinewidth": 0,
              "ticks": ""
             }
            },
            "type": "scatter3d"
           }
          ],
          "scattercarpet": [
           {
            "marker": {
             "colorbar": {
              "outlinewidth": 0,
              "ticks": ""
             }
            },
            "type": "scattercarpet"
           }
          ],
          "scattergeo": [
           {
            "marker": {
             "colorbar": {
              "outlinewidth": 0,
              "ticks": ""
             }
            },
            "type": "scattergeo"
           }
          ],
          "scattergl": [
           {
            "marker": {
             "colorbar": {
              "outlinewidth": 0,
              "ticks": ""
             }
            },
            "type": "scattergl"
           }
          ],
          "scattermapbox": [
           {
            "marker": {
             "colorbar": {
              "outlinewidth": 0,
              "ticks": ""
             }
            },
            "type": "scattermapbox"
           }
          ],
          "scatterpolar": [
           {
            "marker": {
             "colorbar": {
              "outlinewidth": 0,
              "ticks": ""
             }
            },
            "type": "scatterpolar"
           }
          ],
          "scatterpolargl": [
           {
            "marker": {
             "colorbar": {
              "outlinewidth": 0,
              "ticks": ""
             }
            },
            "type": "scatterpolargl"
           }
          ],
          "scatterternary": [
           {
            "marker": {
             "colorbar": {
              "outlinewidth": 0,
              "ticks": ""
             }
            },
            "type": "scatterternary"
           }
          ],
          "surface": [
           {
            "colorbar": {
             "outlinewidth": 0,
             "ticks": ""
            },
            "colorscale": [
             [
              0,
              "#0d0887"
             ],
             [
              0.1111111111111111,
              "#46039f"
             ],
             [
              0.2222222222222222,
              "#7201a8"
             ],
             [
              0.3333333333333333,
              "#9c179e"
             ],
             [
              0.4444444444444444,
              "#bd3786"
             ],
             [
              0.5555555555555556,
              "#d8576b"
             ],
             [
              0.6666666666666666,
              "#ed7953"
             ],
             [
              0.7777777777777778,
              "#fb9f3a"
             ],
             [
              0.8888888888888888,
              "#fdca26"
             ],
             [
              1,
              "#f0f921"
             ]
            ],
            "type": "surface"
           }
          ],
          "table": [
           {
            "cells": {
             "fill": {
              "color": "#EBF0F8"
             },
             "line": {
              "color": "white"
             }
            },
            "header": {
             "fill": {
              "color": "#C8D4E3"
             },
             "line": {
              "color": "white"
             }
            },
            "type": "table"
           }
          ]
         },
         "layout": {
          "annotationdefaults": {
           "arrowcolor": "#2a3f5f",
           "arrowhead": 0,
           "arrowwidth": 1
          },
          "autotypenumbers": "strict",
          "coloraxis": {
           "colorbar": {
            "outlinewidth": 0,
            "ticks": ""
           }
          },
          "colorscale": {
           "diverging": [
            [
             0,
             "#8e0152"
            ],
            [
             0.1,
             "#c51b7d"
            ],
            [
             0.2,
             "#de77ae"
            ],
            [
             0.3,
             "#f1b6da"
            ],
            [
             0.4,
             "#fde0ef"
            ],
            [
             0.5,
             "#f7f7f7"
            ],
            [
             0.6,
             "#e6f5d0"
            ],
            [
             0.7,
             "#b8e186"
            ],
            [
             0.8,
             "#7fbc41"
            ],
            [
             0.9,
             "#4d9221"
            ],
            [
             1,
             "#276419"
            ]
           ],
           "sequential": [
            [
             0,
             "#0d0887"
            ],
            [
             0.1111111111111111,
             "#46039f"
            ],
            [
             0.2222222222222222,
             "#7201a8"
            ],
            [
             0.3333333333333333,
             "#9c179e"
            ],
            [
             0.4444444444444444,
             "#bd3786"
            ],
            [
             0.5555555555555556,
             "#d8576b"
            ],
            [
             0.6666666666666666,
             "#ed7953"
            ],
            [
             0.7777777777777778,
             "#fb9f3a"
            ],
            [
             0.8888888888888888,
             "#fdca26"
            ],
            [
             1,
             "#f0f921"
            ]
           ],
           "sequentialminus": [
            [
             0,
             "#0d0887"
            ],
            [
             0.1111111111111111,
             "#46039f"
            ],
            [
             0.2222222222222222,
             "#7201a8"
            ],
            [
             0.3333333333333333,
             "#9c179e"
            ],
            [
             0.4444444444444444,
             "#bd3786"
            ],
            [
             0.5555555555555556,
             "#d8576b"
            ],
            [
             0.6666666666666666,
             "#ed7953"
            ],
            [
             0.7777777777777778,
             "#fb9f3a"
            ],
            [
             0.8888888888888888,
             "#fdca26"
            ],
            [
             1,
             "#f0f921"
            ]
           ]
          },
          "colorway": [
           "#636efa",
           "#EF553B",
           "#00cc96",
           "#ab63fa",
           "#FFA15A",
           "#19d3f3",
           "#FF6692",
           "#B6E880",
           "#FF97FF",
           "#FECB52"
          ],
          "font": {
           "color": "#2a3f5f"
          },
          "geo": {
           "bgcolor": "white",
           "lakecolor": "white",
           "landcolor": "#E5ECF6",
           "showlakes": true,
           "showland": true,
           "subunitcolor": "white"
          },
          "hoverlabel": {
           "align": "left"
          },
          "hovermode": "closest",
          "mapbox": {
           "style": "light"
          },
          "paper_bgcolor": "white",
          "plot_bgcolor": "#E5ECF6",
          "polar": {
           "angularaxis": {
            "gridcolor": "white",
            "linecolor": "white",
            "ticks": ""
           },
           "bgcolor": "#E5ECF6",
           "radialaxis": {
            "gridcolor": "white",
            "linecolor": "white",
            "ticks": ""
           }
          },
          "scene": {
           "xaxis": {
            "backgroundcolor": "#E5ECF6",
            "gridcolor": "white",
            "gridwidth": 2,
            "linecolor": "white",
            "showbackground": true,
            "ticks": "",
            "zerolinecolor": "white"
           },
           "yaxis": {
            "backgroundcolor": "#E5ECF6",
            "gridcolor": "white",
            "gridwidth": 2,
            "linecolor": "white",
            "showbackground": true,
            "ticks": "",
            "zerolinecolor": "white"
           },
           "zaxis": {
            "backgroundcolor": "#E5ECF6",
            "gridcolor": "white",
            "gridwidth": 2,
            "linecolor": "white",
            "showbackground": true,
            "ticks": "",
            "zerolinecolor": "white"
           }
          },
          "shapedefaults": {
           "line": {
            "color": "#2a3f5f"
           }
          },
          "ternary": {
           "aaxis": {
            "gridcolor": "white",
            "linecolor": "white",
            "ticks": ""
           },
           "baxis": {
            "gridcolor": "white",
            "linecolor": "white",
            "ticks": ""
           },
           "bgcolor": "#E5ECF6",
           "caxis": {
            "gridcolor": "white",
            "linecolor": "white",
            "ticks": ""
           }
          },
          "title": {
           "x": 0.05
          },
          "xaxis": {
           "automargin": true,
           "gridcolor": "white",
           "linecolor": "white",
           "ticks": "",
           "title": {
            "standoff": 15
           },
           "zerolinecolor": "white",
           "zerolinewidth": 2
          },
          "yaxis": {
           "automargin": true,
           "gridcolor": "white",
           "linecolor": "white",
           "ticks": "",
           "title": {
            "standoff": 15
           },
           "zerolinecolor": "white",
           "zerolinewidth": 2
          }
         }
        },
        "xaxis": {
         "autorange": true,
         "range": [
          -5236.219825782562,
          104307.4236214645
         ],
         "type": "linear"
        },
        "yaxis": {
         "autorange": true,
         "range": [
          -6264.914699870657,
          106190.00487195994
         ],
         "type": "linear"
        }
       }
      },
      "image/png": "[encoded data removed]",
      "text/html": [
       "<div>                            <div id=\"c797b30a-a690-4b91-bf3e-ea766167061d\" class=\"plotly-graph-div\" style=\"height:525px; width:100%;\"></div>            <script type=\"text/javascript\">                require([\"plotly\"], function(Plotly) {                    window.PLOTLYENV=window.PLOTLYENV || {};                                    if (document.getElementById(\"c797b30a-a690-4b91-bf3e-ea766167061d\")) {                    Plotly.newPlot(                        \"c797b30a-a690-4b91-bf3e-ea766167061d\",                        [{\"mode\": \"markers\", \"name\": \"stations\", \"type\": \"scatter\", \"x\": [37454.01188473625, 73199.39418114051, 15601.864044243652, 5808.361216819946, 60111.50117432088, 2058.4494295802447, 83244.26408004218, 18182.496720710064, 30424.224295953773, 43194.501864211576, 61185.28947223795, 29214.464853521815, 45606.998421703596, 19967.378215835975, 59241.45688620424, 60754.48519014384, 6505.159298527951, 96563.20330745593, 30461.376917337067, 68423.3026512157, 12203.823484477882, 3438.8521115218396, 25877.99816000169, 31171.107608941096, 54671.02793432796, 96958.46277645585, 93949.89415641892, 59789.99788110852, 8849.25020519195, 4522.728891053806, 38867.7289689482, 82873.75091519294, 28093.450968738078, 14092.422497476264, 7455.064367977082, 77224.47692966575, 552.21171236024, 70685.73438476172, 77127.03466859457, 35846.572854427264, 86310.34258755935, 33089.80248526492, 31098.232171566222, 72960.6178338064, 88721.27425763266, 11959.42459383017, 76078.50486168974, 77096.7179954561, 52273.28293819941, 2541.912674409519, 3142.918568673425, 31435.598107632668, 90756.6473926093, 41038.29230356297, 22879.816549162246, 28975.145291376804, 92969.76523425731, 63340.37565104235, 80367.20768991145, 89255.89984899778, 80744.01551640626, 31800.347497186387, 22793.516254194168, 81801.47659224931, 695.2130531190703, 41741.1003148779, 11986.53673336828, 94290.97039125192, 51879.06217433661, 36362.9602379294, 96244.72949421112, 49724.850589238544, 28484.049437746762, 60956.433397989684, 5147.8751249989355, 90826.58859666537, 14489.48720912231, 98565.04541106007, 67213.55474058786, 23763.754399239966, 36778.31327192532, 63352.97107608947, 9028.97700544083, 32078.006497173585, 4077.514155476392, 67756.43618422824, 51209.3058299281, 64517.27904094499, 69093.7738102466, 93672.99887367345, 34106.63510502585, 92469.36182785628, 25794.16277151556, 81722.22002012159, 52965.05783560065, 9310.27678058992, 90041.80571633305, 33902.979104870064, 72595.56788702394, 88708.64242651172, 64203.164615428774, 16162.871409461377, 60642.90596595899, 10147.15428660321, 506.15838462186866, 54873.37893665861, 65196.12595026005, 71217.9221347536, 32539.969815926772, 64963.28990472147, 65761.28923003434, 9367.476782809248, 26520.236768172545, 97301.05547524456, 89204.65551771133, 79481.13035416484, 57690.388462635914, 19524.29877980445, 28077.23624408558, 64547.22959071678, 94045.85843529143, 91486.43902204485, 1545.6616528867428, 42818.41483173143, 96361.99770892528, 29444.889206958567, 85113.66715168569, 16949.27466860925, 93615.4774160781, 57006.1170089365, 61500.72266991698, 14008.401523652403, 87737.30719279555, 69701.5740995268, 35949.11512197552, 80936.11554785137, 86707.23185801037, 51134.23988609378, 79829.51789667751, 70196.68772577033, 89000.53418175664, 37558.2952639944, 57828.014099617394, 46559.80181324601, 28654.12521282844, 3050.0249939049427, 82260.05606596582, 12706.051265188478, 76999.35530986109, 62289.04758190003], \"y\": [95071.43064099162, 59865.84841970366, 15599.452033620264, 86617.61457749351, 70807.25777960455, 96990.98521619943, 21233.911067827616, 18340.45098534338, 52475.64316322379, 29122.91401980419, 13949.386065204184, 36636.18432936917, 78517.59613930136, 51423.44384136116, 4645.041271999772, 17052.412368729154, 94888.55372533333, 80839.7348116461, 9767.211400638387, 44015.24937396013, 49517.69101112702, 90932.0402078782, 66252.2284353982, 52006.80211778108, 18485.445552552705, 77513.28233611146, 89482.73504276488, 92187.42350231168, 19598.28624191452, 32533.033076326436, 27134.90317738959, 35675.332669358926, 54269.608315824844, 80219.69807540397, 98688.69366005174, 19871.56815341724, 81546.14284548341, 72900.71680409873, 7404.465173409036, 11586.90595251297, 62329.81268275579, 6355.835028602363, 32518.332202674705, 63755.74713552131, 47221.49251619493, 71324.47872229951, 56127.71975694962, 49379.55963643907, 42754.10183585496, 10789.142699330445, 63641.04112637804, 50857.06911647028, 24929.222914887494, 75555.11385430487, 7697.990982879299, 16122.128725400442, 80812.0379564417, 87146.05901877178, 18657.005888603584, 53934.224191565074, 89609.12999234932, 11005.192452767677, 42710.77886262563, 86073.05832563434, 51074.73025775657, 22210.781047073026, 33761.5171403628, 32320.29320207552, 70301.89588951778, 97178.20827209606, 25178.229582536416, 30087.830981676965, 3688.6947354532795, 50267.90232288615, 27864.646423661143, 23956.189066697243, 48945.2760277563, 24205.52715115004, 76161.96153287176, 72821.63486118596, 63230.583059357945, 53577.46840747585, 83530.2495589238, 18651.851039985424, 59089.294318824184, 1658.782892785615, 22649.577519793795, 17436.642900499144, 38673.53463005374, 13752.094414599325, 11347.352124058907, 87733.9353380981, 65998.4046034179, 55520.08115994623, 24185.22909004517, 89721.57579533267, 63310.145727326795, 34920.95746126609, 89711.0259952577, 77987.55458576238, 8413.996499504883, 89855.41885270792, 919.7051616629648, 66350.17691080557, 16080.805141749865, 69189.51976926932, 22426.930946055978, 23724.908749680006, 74649.14051180241, 84922.3410494178, 56830.86033354716, 36771.58030594335, 24398.964337908357, 39309.77246667604, 63113.862599726286, 50263.70931051921, 49251.76938188639, 72245.21152615054, 2431.596643145384, 17711.067940704896, 95392.85770025874, 37015.87002554444, 92831.85625877253, 96665.48190436696, 85300.94554673601, 38509.77286019253, 31692.200515627766, 55680.12624583502, 69602.9796674973, 9717.649377076854, 99005.38501042633, 51832.965236373675, 74076.86177542045, 70248.40839871093, 29359.184426449337, 81011.33946791808, 91324.05525564712, 50151.62946871996, 64996.39307777651, 79579.2669436101, 33799.51568515358, 9398.1939840869, 3594.2273796742084, 54264.46347075766, 59083.326056901074, 3734.818874921442, 36019.06414112629, 52224.326005480434, 21582.102749684316, 8534.746499376799]}, {\"mode\": \"lines\", \"name\": \"route\", \"type\": \"scatter\", \"x\": [0, 1000, 2000, 3000, 4000, 5000, 6000, 7000, 8000, 9000, 10000, 11000, 12000, 13000, 14000, 15000, 16000, 17000, 18000, 19000, 20000, 21000, 22000, 23000, 24000, 25000, 26000, 27000, 28000, 29000, 30000, 31000, 32000, 33000, 34000, 35000, 36000, 37000, 38000, 39000, 40000, 41000, 42000, 43000, 44000, 45000, 46000, 47000, 48000, 49000, 50000, 51000, 52000, 53000, 54000, 55000, 56000, 57000, 58000, 59000, 60000, 61000, 62000, 63000, 64000, 65000, 66000, 67000, 68000, 69000, 70000, 71000, 72000, 73000, 74000, 75000, 76000, 77000, 78000, 79000, 80000, 81000, 82000, 83000, 84000, 85000, 86000, 87000, 88000, 89000, 90000, 91000, 92000, 93000, 94000, 95000, 96000, 97000, 98000, 99000, 100000], \"y\": [0, 300, 600, 900, 1200, 1500, 1800, 2100, 2400, 2700, 3000, 3300, 3600, 3900, 4200, 4500, 4800, 5100, 5400, 5700, 6000, 6300, 6600, 6900, 7200, 7500, 7800, 8100, 8400, 8700, 9000, 9300, 9600, 9900, 10200, 10500, 10800, 11100, 11400, 11700, 12000, 12300, 12600, 12900, 13200, 13500, 13800, 14100, 14400, 14700, 15000, 16000, 17000, 18000, 19000, 20000, 21000, 22000, 23000, 24000, 25000, 26000, 27000, 28000, 29000, 30000, 31000, 32000, 33000, 34000, 35000, 36000, 37000, 38000, 39000, 40000, 41000, 42000, 43000, 44000, 45000, 46000, 47000, 48000, 49000, 50000, 51000, 52000, 53000, 54000, 55000, 56000, 57000, 58000, 59000, 60000, 61000, 62000, 63000, 64000, 65000]}],                        {\"template\": {\"data\": {\"bar\": [{\"error_x\": {\"color\": \"#2a3f5f\"}, \"error_y\": {\"color\": \"#2a3f5f\"}, \"marker\": {\"line\": {\"color\": \"#E5ECF6\", \"width\": 0.5}}, \"type\": \"bar\"}], \"barpolar\": [{\"marker\": {\"line\": {\"color\": \"#E5ECF6\", \"width\": 0.5}}, \"type\": \"barpolar\"}], \"carpet\": [{\"aaxis\": {\"endlinecolor\": \"#2a3f5f\", \"gridcolor\": \"white\", \"linecolor\": \"white\", \"minorgridcolor\": \"white\", \"startlinecolor\": \"#2a3f5f\"}, \"baxis\": {\"endlinecolor\": \"#2a3f5f\", \"gridcolor\": \"white\", \"linecolor\": \"white\", \"minorgridcolor\": \"white\", \"startlinecolor\": \"#2a3f5f\"}, \"type\": \"carpet\"}], \"choropleth\": [{\"colorbar\": {\"outlinewidth\": 0, \"ticks\": \"\"}, \"type\": \"choropleth\"}], \"contour\": [{\"colorbar\": {\"outlinewidth\": 0, \"ticks\": \"\"}, \"colorscale\": [[0.0, \"#0d0887\"], [0.1111111111111111, \"#46039f\"], [0.2222222222222222, \"#7201a8\"], [0.3333333333333333, \"#9c179e\"], [0.4444444444444444, \"#bd3786\"], [0.5555555555555556, \"#d8576b\"], [0.6666666666666666, \"#ed7953\"], [0.7777777777777778, \"#fb9f3a\"], [0.8888888888888888, \"#fdca26\"], [1.0, \"#f0f921\"]], \"type\": \"contour\"}], \"contourcarpet\": [{\"colorbar\": {\"outlinewidth\": 0, \"ticks\": \"\"}, \"type\": \"contourcarpet\"}], \"heatmap\": [{\"colorbar\": {\"outlinewidth\": 0, \"ticks\": \"\"}, \"colorscale\": [[0.0, \"#0d0887\"], [0.1111111111111111, \"#46039f\"], [0.2222222222222222, \"#7201a8\"], [0.3333333333333333, \"#9c179e\"], [0.4444444444444444, \"#bd3786\"], [0.5555555555555556, \"#d8576b\"], [0.6666666666666666, \"#ed7953\"], [0.7777777777777778, \"#fb9f3a\"], [0.8888888888888888, \"#fdca26\"], [1.0, \"#f0f921\"]], \"type\": \"heatmap\"}], \"heatmapgl\": [{\"colorbar\": {\"outlinewidth\": 0, \"ticks\": \"\"}, \"colorscale\": [[0.0, \"#0d0887\"], [0.1111111111111111, \"#46039f\"], [0.2222222222222222, \"#7201a8\"], [0.3333333333333333, \"#9c179e\"], [0.4444444444444444, \"#bd3786\"], [0.5555555555555556, \"#d8576b\"], [0.6666666666666666, \"#ed7953\"], [0.7777777777777778, \"#fb9f3a\"], [0.8888888888888888, \"#fdca26\"], [1.0, \"#f0f921\"]], \"type\": \"heatmapgl\"}], \"histogram\": [{\"marker\": {\"colorbar\": {\"outlinewidth\": 0, \"ticks\": \"\"}}, \"type\": \"histogram\"}], \"histogram2d\": [{\"colorbar\": {\"outlinewidth\": 0, \"ticks\": \"\"}, \"colorscale\": [[0.0, \"#0d0887\"], [0.1111111111111111, \"#46039f\"], [0.2222222222222222, \"#7201a8\"], [0.3333333333333333, \"#9c179e\"], [0.4444444444444444, \"#bd3786\"], [0.5555555555555556, \"#d8576b\"], [0.6666666666666666, \"#ed7953\"], [0.7777777777777778, \"#fb9f3a\"], [0.8888888888888888, \"#fdca26\"], [1.0, \"#f0f921\"]], \"type\": \"histogram2d\"}], \"histogram2dcontour\": [{\"colorbar\": {\"outlinewidth\": 0, \"ticks\": \"\"}, \"colorscale\": [[0.0, \"#0d0887\"], [0.1111111111111111, \"#46039f\"], [0.2222222222222222, \"#7201a8\"], [0.3333333333333333, \"#9c179e\"], [0.4444444444444444, \"#bd3786\"], [0.5555555555555556, \"#d8576b\"], [0.6666666666666666, \"#ed7953\"], [0.7777777777777778, \"#fb9f3a\"], [0.8888888888888888, \"#fdca26\"], [1.0, \"#f0f921\"]], \"type\": \"histogram2dcontour\"}], \"mesh3d\": [{\"colorbar\": {\"outlinewidth\": 0, \"ticks\": \"\"}, \"type\": \"mesh3d\"}], \"parcoords\": [{\"line\": {\"colorbar\": {\"outlinewidth\": 0, \"ticks\": \"\"}}, \"type\": \"parcoords\"}], \"pie\": [{\"automargin\": true, \"type\": \"pie\"}], \"scatter\": [{\"marker\": {\"colorbar\": {\"outlinewidth\": 0, \"ticks\": \"\"}}, \"type\": \"scatter\"}], \"scatter3d\": [{\"line\": {\"colorbar\": {\"outlinewidth\": 0, \"ticks\": \"\"}}, \"marker\": {\"colorbar\": {\"outlinewidth\": 0, \"ticks\": \"\"}}, \"type\": \"scatter3d\"}], \"scattercarpet\": [{\"marker\": {\"colorbar\": {\"outlinewidth\": 0, \"ticks\": \"\"}}, \"type\": \"scattercarpet\"}], \"scattergeo\": [{\"marker\": {\"colorbar\": {\"outlinewidth\": 0, \"ticks\": \"\"}}, \"type\": \"scattergeo\"}], \"scattergl\": [{\"marker\": {\"colorbar\": {\"outlinewidth\": 0, \"ticks\": \"\"}}, \"type\": \"scattergl\"}], \"scattermapbox\": [{\"marker\": {\"colorbar\": {\"outlinewidth\": 0, \"ticks\": \"\"}}, \"type\": \"scattermapbox\"}], \"scatterpolar\": [{\"marker\": {\"colorbar\": {\"outlinewidth\": 0, \"ticks\": \"\"}}, \"type\": \"scatterpolar\"}], \"scatterpolargl\": [{\"marker\": {\"colorbar\": {\"outlinewidth\": 0, \"ticks\": \"\"}}, \"type\": \"scatterpolargl\"}], \"scatterternary\": [{\"marker\": {\"colorbar\": {\"outlinewidth\": 0, \"ticks\": \"\"}}, \"type\": \"scatterternary\"}], \"surface\": [{\"colorbar\": {\"outlinewidth\": 0, \"ticks\": \"\"}, \"colorscale\": [[0.0, \"#0d0887\"], [0.1111111111111111, \"#46039f\"], [0.2222222222222222, \"#7201a8\"], [0.3333333333333333, \"#9c179e\"], [0.4444444444444444, \"#bd3786\"], [0.5555555555555556, \"#d8576b\"], [0.6666666666666666, \"#ed7953\"], [0.7777777777777778, \"#fb9f3a\"], [0.8888888888888888, \"#fdca26\"], [1.0, \"#f0f921\"]], \"type\": \"surface\"}], \"table\": [{\"cells\": {\"fill\": {\"color\": \"#EBF0F8\"}, \"line\": {\"color\": \"white\"}}, \"header\": {\"fill\": {\"color\": \"#C8D4E3\"}, \"line\": {\"color\": \"white\"}}, \"type\": \"table\"}]}, \"layout\": {\"annotationdefaults\": {\"arrowcolor\": \"#2a3f5f\", \"arrowhead\": 0, \"arrowwidth\": 1}, \"autotypenumbers\": \"strict\", \"coloraxis\": {\"colorbar\": {\"outlinewidth\": 0, \"ticks\": \"\"}}, \"colorscale\": {\"diverging\": [[0, \"#8e0152\"], [0.1, \"#c51b7d\"], [0.2, \"#de77ae\"], [0.3, \"#f1b6da\"], [0.4, \"#fde0ef\"], [0.5, \"#f7f7f7\"], [0.6, \"#e6f5d0\"], [0.7, \"#b8e186\"], [0.8, \"#7fbc41\"], [0.9, \"#4d9221\"], [1, \"#276419\"]], \"sequential\": [[0.0, \"#0d0887\"], [0.1111111111111111, \"#46039f\"], [0.2222222222222222, \"#7201a8\"], [0.3333333333333333, \"#9c179e\"], [0.4444444444444444, \"#bd3786\"], [0.5555555555555556, \"#d8576b\"], [0.6666666666666666, \"#ed7953\"], [0.7777777777777778, \"#fb9f3a\"], [0.8888888888888888, \"#fdca26\"], [1.0, \"#f0f921\"]], \"sequentialminus\": [[0.0, \"#0d0887\"], [0.1111111111111111, \"#46039f\"], [0.2222222222222222, \"#7201a8\"], [0.3333333333333333, \"#9c179e\"], [0.4444444444444444, \"#bd3786\"], [0.5555555555555556, \"#d8576b\"], [0.6666666666666666, \"#ed7953\"], [0.7777777777777778, \"#fb9f3a\"], [0.8888888888888888, \"#fdca26\"], [1.0, \"#f0f921\"]]}, \"colorway\": [\"#636efa\", \"#EF553B\", \"#00cc96\", \"#ab63fa\", \"#FFA15A\", \"#19d3f3\", \"#FF6692\", \"#B6E880\", \"#FF97FF\", \"#FECB52\"], \"font\": {\"color\": \"#2a3f5f\"}, \"geo\": {\"bgcolor\": \"white\", \"lakecolor\": \"white\", \"landcolor\": \"#E5ECF6\", \"showlakes\": true, \"showland\": true, \"subunitcolor\": \"white\"}, \"hoverlabel\": {\"align\": \"left\"}, \"hovermode\": \"closest\", \"mapbox\": {\"style\": \"light\"}, \"paper_bgcolor\": \"white\", \"plot_bgcolor\": \"#E5ECF6\", \"polar\": {\"angularaxis\": {\"gridcolor\": \"white\", \"linecolor\": \"white\", \"ticks\": \"\"}, \"bgcolor\": \"#E5ECF6\", \"radialaxis\": {\"gridcolor\": \"white\", \"linecolor\": \"white\", \"ticks\": \"\"}}, \"scene\": {\"xaxis\": {\"backgroundcolor\": \"#E5ECF6\", \"gridcolor\": \"white\", \"gridwidth\": 2, \"linecolor\": \"white\", \"showbackground\": true, \"ticks\": \"\", \"zerolinecolor\": \"white\"}, \"yaxis\": {\"backgroundcolor\": \"#E5ECF6\", \"gridcolor\": \"white\", \"gridwidth\": 2, \"linecolor\": \"white\", \"showbackground\": true, \"ticks\": \"\", \"zerolinecolor\": \"white\"}, \"zaxis\": {\"backgroundcolor\": \"#E5ECF6\", \"gridcolor\": \"white\", \"gridwidth\": 2, \"linecolor\": \"white\", \"showbackground\": true, \"ticks\": \"\", \"zerolinecolor\": \"white\"}}, \"shapedefaults\": {\"line\": {\"color\": \"#2a3f5f\"}}, \"ternary\": {\"aaxis\": {\"gridcolor\": \"white\", \"linecolor\": \"white\", \"ticks\": \"\"}, \"baxis\": {\"gridcolor\": \"white\", \"linecolor\": \"white\", \"ticks\": \"\"}, \"bgcolor\": \"#E5ECF6\", \"caxis\": {\"gridcolor\": \"white\", \"linecolor\": \"white\", \"ticks\": \"\"}}, \"title\": {\"x\": 0.05}, \"xaxis\": {\"automargin\": true, \"gridcolor\": \"white\", \"linecolor\": \"white\", \"ticks\": \"\", \"title\": {\"standoff\": 15}, \"zerolinecolor\": \"white\", \"zerolinewidth\": 2}, \"yaxis\": {\"automargin\": true, \"gridcolor\": \"white\", \"linecolor\": \"white\", \"ticks\": \"\", \"title\": {\"standoff\": 15}, \"zerolinecolor\": \"white\", \"zerolinewidth\": 2}}}},                        {\"responsive\": true}                    ).then(function(){\n",
       "                            \n",
       "var gd = document.getElementById('c797b30a-a690-4b91-bf3e-ea766167061d');\n",
       "var x = new MutationObserver(function (mutations, observer) {{\n",
       "        var display = window.getComputedStyle(gd).display;\n",
       "        if (!display || display === 'none') {{\n",
       "            console.log([gd, 'removed!']);\n",
       "            Plotly.purge(gd);\n",
       "            observer.disconnect();\n",
       "        }}\n",
       "}});\n",
       "\n",
       "// Listen for the removal of the full notebook cells\n",
       "var notebookContainer = gd.closest('#notebook-container');\n",
       "if (notebookContainer) {{\n",
       "    x.observe(notebookContainer, {childList: true});\n",
       "}}\n",
       "\n",
       "// Listen for the clearing of the current output cell\n",
       "var outputEl = gd.closest('.output');\n",
       "if (outputEl) {{\n",
       "    x.observe(outputEl, {childList: true});\n",
       "}}\n",
       "\n",
       "                        })                };                });            </script>        </div>"
      ]
     },
     "metadata": {},
     "output_type": "display_data"
    }
   ],
   "source": [
    "fig = go.Figure()\n",
    "\n",
    "# Add traces\n",
    "fig.add_trace(go.Scatter(x=stations[:,0], y=stations[:,1],\n",
    "                    mode='markers',\n",
    "                    name='stations'))\n",
    "fig.add_trace(go.Scatter(x=plane_route[:,0], y=plane_route[:,1],\n",
    "                    mode='lines',\n",
    "                    name='route'))\n"
   ]
  },
  {
   "cell_type": "code",
   "execution_count": 1532,
   "metadata": {
    "collapsed": false,
    "jupyter": {
     "outputs_hidden": false
    },
    "pycharm": {
     "name": "#%%\n"
    }
   },
   "outputs": [],
   "source": [
    "def find_closest_point(point, stations):\n",
    "    d = np.linalg.norm(stations - point, axis=1)\n",
    "    return np.argmin(d)"
   ]
  },
  {
   "cell_type": "code",
   "execution_count": 1533,
   "metadata": {
    "collapsed": false,
    "jupyter": {
     "outputs_hidden": false
    },
    "pycharm": {
     "name": "#%%\n"
    }
   },
   "outputs": [],
   "source": [
    "def closest_path(route, stations):\n",
    "    res = [stations[find_closest_point(p, stations), :] for p in route]\n",
    "    return res\n"
   ]
  },
  {
   "cell_type": "code",
   "execution_count": 1534,
   "metadata": {
    "collapsed": false,
    "jupyter": {
     "outputs_hidden": false
    },
    "pycharm": {
     "name": "#%%\n"
    }
   },
   "outputs": [],
   "source": [
    "path_long = np.array(closest_path(plane_route, stations))\n",
    "path = np.unique(path_long, axis=0)"
   ]
  },
  {
   "cell_type": "code",
   "execution_count": 1535,
   "metadata": {
    "collapsed": false,
    "jupyter": {
     "outputs_hidden": false
    },
    "pycharm": {
     "name": "#%%\n"
    }
   },
   "outputs": [
    {
     "data": {
      "application/vnd.plotly.v1+json": {
       "config": {
        "plotlyServerURL": "https://plot.ly"
       },
       "data": [
        {
         "mode": "markers",
         "name": "stations",
         "type": "scatter",
         "x": [
          37454.01188473625,
          73199.39418114051,
          15601.864044243652,
          5808.361216819946,
          60111.50117432088,
          2058.4494295802447,
          83244.26408004218,
          18182.496720710064,
          30424.224295953773,
          43194.501864211576,
          61185.28947223795,
          29214.464853521815,
          45606.998421703596,
          19967.378215835975,
          59241.45688620424,
          60754.48519014384,
          6505.159298527951,
          96563.20330745593,
          30461.376917337067,
          68423.3026512157,
          12203.823484477882,
          3438.8521115218396,
          25877.99816000169,
          31171.107608941096,
          54671.02793432796,
          96958.46277645585,
          93949.89415641892,
          59789.99788110852,
          8849.25020519195,
          4522.728891053806,
          38867.7289689482,
          82873.75091519294,
          28093.450968738078,
          14092.422497476264,
          7455.064367977082,
          77224.47692966575,
          552.21171236024,
          70685.73438476172,
          77127.03466859457,
          35846.572854427264,
          86310.34258755935,
          33089.80248526492,
          31098.232171566222,
          72960.6178338064,
          88721.27425763266,
          11959.42459383017,
          76078.50486168974,
          77096.7179954561,
          52273.28293819941,
          2541.912674409519,
          3142.918568673425,
          31435.598107632668,
          90756.6473926093,
          41038.29230356297,
          22879.816549162246,
          28975.145291376804,
          92969.76523425731,
          63340.37565104235,
          80367.20768991145,
          89255.89984899778,
          80744.01551640626,
          31800.347497186387,
          22793.516254194168,
          81801.47659224931,
          695.2130531190703,
          41741.1003148779,
          11986.53673336828,
          94290.97039125192,
          51879.06217433661,
          36362.9602379294,
          96244.72949421112,
          49724.850589238544,
          28484.049437746762,
          60956.433397989684,
          5147.8751249989355,
          90826.58859666537,
          14489.48720912231,
          98565.04541106007,
          67213.55474058786,
          23763.754399239966,
          36778.31327192532,
          63352.97107608947,
          9028.97700544083,
          32078.006497173585,
          4077.514155476392,
          67756.43618422824,
          51209.3058299281,
          64517.27904094499,
          69093.7738102466,
          93672.99887367345,
          34106.63510502585,
          92469.36182785628,
          25794.16277151556,
          81722.22002012159,
          52965.05783560065,
          9310.27678058992,
          90041.80571633305,
          33902.979104870064,
          72595.56788702394,
          88708.64242651172,
          64203.164615428774,
          16162.871409461377,
          60642.90596595899,
          10147.15428660321,
          506.15838462186866,
          54873.37893665861,
          65196.12595026005,
          71217.9221347536,
          32539.969815926772,
          64963.28990472147,
          65761.28923003434,
          9367.476782809248,
          26520.236768172545,
          97301.05547524456,
          89204.65551771133,
          79481.13035416484,
          57690.388462635914,
          19524.29877980445,
          28077.23624408558,
          64547.22959071678,
          94045.85843529143,
          91486.43902204485,
          1545.6616528867428,
          42818.41483173143,
          96361.99770892528,
          29444.889206958567,
          85113.66715168569,
          16949.27466860925,
          93615.4774160781,
          57006.1170089365,
          61500.72266991698,
          14008.401523652403,
          87737.30719279555,
          69701.5740995268,
          35949.11512197552,
          80936.11554785137,
          86707.23185801037,
          51134.23988609378,
          79829.51789667751,
          70196.68772577033,
          89000.53418175664,
          37558.2952639944,
          57828.014099617394,
          46559.80181324601,
          28654.12521282844,
          3050.0249939049427,
          82260.05606596582,
          12706.051265188478,
          76999.35530986109,
          62289.04758190003
         ],
         "y": [
          95071.43064099162,
          59865.84841970366,
          15599.452033620264,
          86617.61457749351,
          70807.25777960455,
          96990.98521619943,
          21233.911067827616,
          18340.45098534338,
          52475.64316322379,
          29122.91401980419,
          13949.386065204184,
          36636.18432936917,
          78517.59613930136,
          51423.44384136116,
          4645.041271999772,
          17052.412368729154,
          94888.55372533333,
          80839.7348116461,
          9767.211400638387,
          44015.24937396013,
          49517.69101112702,
          90932.0402078782,
          66252.2284353982,
          52006.80211778108,
          18485.445552552705,
          77513.28233611146,
          89482.73504276488,
          92187.42350231168,
          19598.28624191452,
          32533.033076326436,
          27134.90317738959,
          35675.332669358926,
          54269.608315824844,
          80219.69807540397,
          98688.69366005174,
          19871.56815341724,
          81546.14284548341,
          72900.71680409873,
          7404.465173409036,
          11586.90595251297,
          62329.81268275579,
          6355.835028602363,
          32518.332202674705,
          63755.74713552131,
          47221.49251619493,
          71324.47872229951,
          56127.71975694962,
          49379.55963643907,
          42754.10183585496,
          10789.142699330445,
          63641.04112637804,
          50857.06911647028,
          24929.222914887494,
          75555.11385430487,
          7697.990982879299,
          16122.128725400442,
          80812.0379564417,
          87146.05901877178,
          18657.005888603584,
          53934.224191565074,
          89609.12999234932,
          11005.192452767677,
          42710.77886262563,
          86073.05832563434,
          51074.73025775657,
          22210.781047073026,
          33761.5171403628,
          32320.29320207552,
          70301.89588951778,
          97178.20827209606,
          25178.229582536416,
          30087.830981676965,
          3688.6947354532795,
          50267.90232288615,
          27864.646423661143,
          23956.189066697243,
          48945.2760277563,
          24205.52715115004,
          76161.96153287176,
          72821.63486118596,
          63230.583059357945,
          53577.46840747585,
          83530.2495589238,
          18651.851039985424,
          59089.294318824184,
          1658.782892785615,
          22649.577519793795,
          17436.642900499144,
          38673.53463005374,
          13752.094414599325,
          11347.352124058907,
          87733.9353380981,
          65998.4046034179,
          55520.08115994623,
          24185.22909004517,
          89721.57579533267,
          63310.145727326795,
          34920.95746126609,
          89711.0259952577,
          77987.55458576238,
          8413.996499504883,
          89855.41885270792,
          919.7051616629648,
          66350.17691080557,
          16080.805141749865,
          69189.51976926932,
          22426.930946055978,
          23724.908749680006,
          74649.14051180241,
          84922.3410494178,
          56830.86033354716,
          36771.58030594335,
          24398.964337908357,
          39309.77246667604,
          63113.862599726286,
          50263.70931051921,
          49251.76938188639,
          72245.21152615054,
          2431.596643145384,
          17711.067940704896,
          95392.85770025874,
          37015.87002554444,
          92831.85625877253,
          96665.48190436696,
          85300.94554673601,
          38509.77286019253,
          31692.200515627766,
          55680.12624583502,
          69602.9796674973,
          9717.649377076854,
          99005.38501042633,
          51832.965236373675,
          74076.86177542045,
          70248.40839871093,
          29359.184426449337,
          81011.33946791808,
          91324.05525564712,
          50151.62946871996,
          64996.39307777651,
          79579.2669436101,
          33799.51568515358,
          9398.1939840869,
          3594.2273796742084,
          54264.46347075766,
          59083.326056901074,
          3734.818874921442,
          36019.06414112629,
          52224.326005480434,
          21582.102749684316,
          8534.746499376799
         ]
        },
        {
         "mode": "lines",
         "name": "route",
         "type": "scatter",
         "x": [
          0,
          1000,
          2000,
          3000,
          4000,
          5000,
          6000,
          7000,
          8000,
          9000,
          10000,
          11000,
          12000,
          13000,
          14000,
          15000,
          16000,
          17000,
          18000,
          19000,
          20000,
          21000,
          22000,
          23000,
          24000,
          25000,
          26000,
          27000,
          28000,
          29000,
          30000,
          31000,
          32000,
          33000,
          34000,
          35000,
          36000,
          37000,
          38000,
          39000,
          40000,
          41000,
          42000,
          43000,
          44000,
          45000,
          46000,
          47000,
          48000,
          49000,
          50000,
          51000,
          52000,
          53000,
          54000,
          55000,
          56000,
          57000,
          58000,
          59000,
          60000,
          61000,
          62000,
          63000,
          64000,
          65000,
          66000,
          67000,
          68000,
          69000,
          70000,
          71000,
          72000,
          73000,
          74000,
          75000,
          76000,
          77000,
          78000,
          79000,
          80000,
          81000,
          82000,
          83000,
          84000,
          85000,
          86000,
          87000,
          88000,
          89000,
          90000,
          91000,
          92000,
          93000,
          94000,
          95000,
          96000,
          97000,
          98000,
          99000,
          100000
         ],
         "y": [
          0,
          300,
          600,
          900,
          1200,
          1500,
          1800,
          2100,
          2400,
          2700,
          3000,
          3300,
          3600,
          3900,
          4200,
          4500,
          4800,
          5100,
          5400,
          5700,
          6000,
          6300,
          6600,
          6900,
          7200,
          7500,
          7800,
          8100,
          8400,
          8700,
          9000,
          9300,
          9600,
          9900,
          10200,
          10500,
          10800,
          11100,
          11400,
          11700,
          12000,
          12300,
          12600,
          12900,
          13200,
          13500,
          13800,
          14100,
          14400,
          14700,
          15000,
          16000,
          17000,
          18000,
          19000,
          20000,
          21000,
          22000,
          23000,
          24000,
          25000,
          26000,
          27000,
          28000,
          29000,
          30000,
          31000,
          32000,
          33000,
          34000,
          35000,
          36000,
          37000,
          38000,
          39000,
          40000,
          41000,
          42000,
          43000,
          44000,
          45000,
          46000,
          47000,
          48000,
          49000,
          50000,
          51000,
          52000,
          53000,
          54000,
          55000,
          56000,
          57000,
          58000,
          59000,
          60000,
          61000,
          62000,
          63000,
          64000,
          65000
         ]
        },
        {
         "mode": "lines",
         "name": "meteo",
         "type": "scatter",
         "x": [
          3050.0249939049427,
          22879.816549162246,
          30461.376917337067,
          31800.347497186387,
          34106.63510502585,
          35846.572854427264,
          37558.2952639944,
          41741.1003148779,
          52965.05783560065,
          54671.02793432796,
          65196.12595026005,
          69093.7738102466,
          77096.7179954561,
          79481.13035416484,
          88721.27425763266,
          89255.89984899778,
          90041.80571633305,
          93615.4774160781
         ],
         "y": [
          3734.818874921442,
          7697.990982879299,
          9767.211400638387,
          11005.192452767677,
          11347.352124058907,
          11586.90595251297,
          9398.1939840869,
          22210.781047073026,
          24185.22909004517,
          18485.445552552705,
          22426.930946055978,
          38673.53463005374,
          49379.55963643907,
          50263.70931051921,
          47221.49251619493,
          53934.224191565074,
          63310.145727326795,
          69602.9796674973
         ]
        }
       ],
       "layout": {
        "autosize": true,
        "template": {
         "data": {
          "bar": [
           {
            "error_x": {
             "color": "#2a3f5f"
            },
            "error_y": {
             "color": "#2a3f5f"
            },
            "marker": {
             "line": {
              "color": "#E5ECF6",
              "width": 0.5
             }
            },
            "type": "bar"
           }
          ],
          "barpolar": [
           {
            "marker": {
             "line": {
              "color": "#E5ECF6",
              "width": 0.5
             }
            },
            "type": "barpolar"
           }
          ],
          "carpet": [
           {
            "aaxis": {
             "endlinecolor": "#2a3f5f",
             "gridcolor": "white",
             "linecolor": "white",
             "minorgridcolor": "white",
             "startlinecolor": "#2a3f5f"
            },
            "baxis": {
             "endlinecolor": "#2a3f5f",
             "gridcolor": "white",
             "linecolor": "white",
             "minorgridcolor": "white",
             "startlinecolor": "#2a3f5f"
            },
            "type": "carpet"
           }
          ],
          "choropleth": [
           {
            "colorbar": {
             "outlinewidth": 0,
             "ticks": ""
            },
            "type": "choropleth"
           }
          ],
          "contour": [
           {
            "colorbar": {
             "outlinewidth": 0,
             "ticks": ""
            },
            "colorscale": [
             [
              0,
              "#0d0887"
             ],
             [
              0.1111111111111111,
              "#46039f"
             ],
             [
              0.2222222222222222,
              "#7201a8"
             ],
             [
              0.3333333333333333,
              "#9c179e"
             ],
             [
              0.4444444444444444,
              "#bd3786"
             ],
             [
              0.5555555555555556,
              "#d8576b"
             ],
             [
              0.6666666666666666,
              "#ed7953"
             ],
             [
              0.7777777777777778,
              "#fb9f3a"
             ],
             [
              0.8888888888888888,
              "#fdca26"
             ],
             [
              1,
              "#f0f921"
             ]
            ],
            "type": "contour"
           }
          ],
          "contourcarpet": [
           {
            "colorbar": {
             "outlinewidth": 0,
             "ticks": ""
            },
            "type": "contourcarpet"
           }
          ],
          "heatmap": [
           {
            "colorbar": {
             "outlinewidth": 0,
             "ticks": ""
            },
            "colorscale": [
             [
              0,
              "#0d0887"
             ],
             [
              0.1111111111111111,
              "#46039f"
             ],
             [
              0.2222222222222222,
              "#7201a8"
             ],
             [
              0.3333333333333333,
              "#9c179e"
             ],
             [
              0.4444444444444444,
              "#bd3786"
             ],
             [
              0.5555555555555556,
              "#d8576b"
             ],
             [
              0.6666666666666666,
              "#ed7953"
             ],
             [
              0.7777777777777778,
              "#fb9f3a"
             ],
             [
              0.8888888888888888,
              "#fdca26"
             ],
             [
              1,
              "#f0f921"
             ]
            ],
            "type": "heatmap"
           }
          ],
          "heatmapgl": [
           {
            "colorbar": {
             "outlinewidth": 0,
             "ticks": ""
            },
            "colorscale": [
             [
              0,
              "#0d0887"
             ],
             [
              0.1111111111111111,
              "#46039f"
             ],
             [
              0.2222222222222222,
              "#7201a8"
             ],
             [
              0.3333333333333333,
              "#9c179e"
             ],
             [
              0.4444444444444444,
              "#bd3786"
             ],
             [
              0.5555555555555556,
              "#d8576b"
             ],
             [
              0.6666666666666666,
              "#ed7953"
             ],
             [
              0.7777777777777778,
              "#fb9f3a"
             ],
             [
              0.8888888888888888,
              "#fdca26"
             ],
             [
              1,
              "#f0f921"
             ]
            ],
            "type": "heatmapgl"
           }
          ],
          "histogram": [
           {
            "marker": {
             "colorbar": {
              "outlinewidth": 0,
              "ticks": ""
             }
            },
            "type": "histogram"
           }
          ],
          "histogram2d": [
           {
            "colorbar": {
             "outlinewidth": 0,
             "ticks": ""
            },
            "colorscale": [
             [
              0,
              "#0d0887"
             ],
             [
              0.1111111111111111,
              "#46039f"
             ],
             [
              0.2222222222222222,
              "#7201a8"
             ],
             [
              0.3333333333333333,
              "#9c179e"
             ],
             [
              0.4444444444444444,
              "#bd3786"
             ],
             [
              0.5555555555555556,
              "#d8576b"
             ],
             [
              0.6666666666666666,
              "#ed7953"
             ],
             [
              0.7777777777777778,
              "#fb9f3a"
             ],
             [
              0.8888888888888888,
              "#fdca26"
             ],
             [
              1,
              "#f0f921"
             ]
            ],
            "type": "histogram2d"
           }
          ],
          "histogram2dcontour": [
           {
            "colorbar": {
             "outlinewidth": 0,
             "ticks": ""
            },
            "colorscale": [
             [
              0,
              "#0d0887"
             ],
             [
              0.1111111111111111,
              "#46039f"
             ],
             [
              0.2222222222222222,
              "#7201a8"
             ],
             [
              0.3333333333333333,
              "#9c179e"
             ],
             [
              0.4444444444444444,
              "#bd3786"
             ],
             [
              0.5555555555555556,
              "#d8576b"
             ],
             [
              0.6666666666666666,
              "#ed7953"
             ],
             [
              0.7777777777777778,
              "#fb9f3a"
             ],
             [
              0.8888888888888888,
              "#fdca26"
             ],
             [
              1,
              "#f0f921"
             ]
            ],
            "type": "histogram2dcontour"
           }
          ],
          "mesh3d": [
           {
            "colorbar": {
             "outlinewidth": 0,
             "ticks": ""
            },
            "type": "mesh3d"
           }
          ],
          "parcoords": [
           {
            "line": {
             "colorbar": {
              "outlinewidth": 0,
              "ticks": ""
             }
            },
            "type": "parcoords"
           }
          ],
          "pie": [
           {
            "automargin": true,
            "type": "pie"
           }
          ],
          "scatter": [
           {
            "marker": {
             "colorbar": {
              "outlinewidth": 0,
              "ticks": ""
             }
            },
            "type": "scatter"
           }
          ],
          "scatter3d": [
           {
            "line": {
             "colorbar": {
              "outlinewidth": 0,
              "ticks": ""
             }
            },
            "marker": {
             "colorbar": {
              "outlinewidth": 0,
              "ticks": ""
             }
            },
            "type": "scatter3d"
           }
          ],
          "scattercarpet": [
           {
            "marker": {
             "colorbar": {
              "outlinewidth": 0,
              "ticks": ""
             }
            },
            "type": "scattercarpet"
           }
          ],
          "scattergeo": [
           {
            "marker": {
             "colorbar": {
              "outlinewidth": 0,
              "ticks": ""
             }
            },
            "type": "scattergeo"
           }
          ],
          "scattergl": [
           {
            "marker": {
             "colorbar": {
              "outlinewidth": 0,
              "ticks": ""
             }
            },
            "type": "scattergl"
           }
          ],
          "scattermapbox": [
           {
            "marker": {
             "colorbar": {
              "outlinewidth": 0,
              "ticks": ""
             }
            },
            "type": "scattermapbox"
           }
          ],
          "scatterpolar": [
           {
            "marker": {
             "colorbar": {
              "outlinewidth": 0,
              "ticks": ""
             }
            },
            "type": "scatterpolar"
           }
          ],
          "scatterpolargl": [
           {
            "marker": {
             "colorbar": {
              "outlinewidth": 0,
              "ticks": ""
             }
            },
            "type": "scatterpolargl"
           }
          ],
          "scatterternary": [
           {
            "marker": {
             "colorbar": {
              "outlinewidth": 0,
              "ticks": ""
             }
            },
            "type": "scatterternary"
           }
          ],
          "surface": [
           {
            "colorbar": {
             "outlinewidth": 0,
             "ticks": ""
            },
            "colorscale": [
             [
              0,
              "#0d0887"
             ],
             [
              0.1111111111111111,
              "#46039f"
             ],
             [
              0.2222222222222222,
              "#7201a8"
             ],
             [
              0.3333333333333333,
              "#9c179e"
             ],
             [
              0.4444444444444444,
              "#bd3786"
             ],
             [
              0.5555555555555556,
              "#d8576b"
             ],
             [
              0.6666666666666666,
              "#ed7953"
             ],
             [
              0.7777777777777778,
              "#fb9f3a"
             ],
             [
              0.8888888888888888,
              "#fdca26"
             ],
             [
              1,
              "#f0f921"
             ]
            ],
            "type": "surface"
           }
          ],
          "table": [
           {
            "cells": {
             "fill": {
              "color": "#EBF0F8"
             },
             "line": {
              "color": "white"
             }
            },
            "header": {
             "fill": {
              "color": "#C8D4E3"
             },
             "line": {
              "color": "white"
             }
            },
            "type": "table"
           }
          ]
         },
         "layout": {
          "annotationdefaults": {
           "arrowcolor": "#2a3f5f",
           "arrowhead": 0,
           "arrowwidth": 1
          },
          "autotypenumbers": "strict",
          "coloraxis": {
           "colorbar": {
            "outlinewidth": 0,
            "ticks": ""
           }
          },
          "colorscale": {
           "diverging": [
            [
             0,
             "#8e0152"
            ],
            [
             0.1,
             "#c51b7d"
            ],
            [
             0.2,
             "#de77ae"
            ],
            [
             0.3,
             "#f1b6da"
            ],
            [
             0.4,
             "#fde0ef"
            ],
            [
             0.5,
             "#f7f7f7"
            ],
            [
             0.6,
             "#e6f5d0"
            ],
            [
             0.7,
             "#b8e186"
            ],
            [
             0.8,
             "#7fbc41"
            ],
            [
             0.9,
             "#4d9221"
            ],
            [
             1,
             "#276419"
            ]
           ],
           "sequential": [
            [
             0,
             "#0d0887"
            ],
            [
             0.1111111111111111,
             "#46039f"
            ],
            [
             0.2222222222222222,
             "#7201a8"
            ],
            [
             0.3333333333333333,
             "#9c179e"
            ],
            [
             0.4444444444444444,
             "#bd3786"
            ],
            [
             0.5555555555555556,
             "#d8576b"
            ],
            [
             0.6666666666666666,
             "#ed7953"
            ],
            [
             0.7777777777777778,
             "#fb9f3a"
            ],
            [
             0.8888888888888888,
             "#fdca26"
            ],
            [
             1,
             "#f0f921"
            ]
           ],
           "sequentialminus": [
            [
             0,
             "#0d0887"
            ],
            [
             0.1111111111111111,
             "#46039f"
            ],
            [
             0.2222222222222222,
             "#7201a8"
            ],
            [
             0.3333333333333333,
             "#9c179e"
            ],
            [
             0.4444444444444444,
             "#bd3786"
            ],
            [
             0.5555555555555556,
             "#d8576b"
            ],
            [
             0.6666666666666666,
             "#ed7953"
            ],
            [
             0.7777777777777778,
             "#fb9f3a"
            ],
            [
             0.8888888888888888,
             "#fdca26"
            ],
            [
             1,
             "#f0f921"
            ]
           ]
          },
          "colorway": [
           "#636efa",
           "#EF553B",
           "#00cc96",
           "#ab63fa",
           "#FFA15A",
           "#19d3f3",
           "#FF6692",
           "#B6E880",
           "#FF97FF",
           "#FECB52"
          ],
          "font": {
           "color": "#2a3f5f"
          },
          "geo": {
           "bgcolor": "white",
           "lakecolor": "white",
           "landcolor": "#E5ECF6",
           "showlakes": true,
           "showland": true,
           "subunitcolor": "white"
          },
          "hoverlabel": {
           "align": "left"
          },
          "hovermode": "closest",
          "mapbox": {
           "style": "light"
          },
          "paper_bgcolor": "white",
          "plot_bgcolor": "#E5ECF6",
          "polar": {
           "angularaxis": {
            "gridcolor": "white",
            "linecolor": "white",
            "ticks": ""
           },
           "bgcolor": "#E5ECF6",
           "radialaxis": {
            "gridcolor": "white",
            "linecolor": "white",
            "ticks": ""
           }
          },
          "scene": {
           "xaxis": {
            "backgroundcolor": "#E5ECF6",
            "gridcolor": "white",
            "gridwidth": 2,
            "linecolor": "white",
            "showbackground": true,
            "ticks": "",
            "zerolinecolor": "white"
           },
           "yaxis": {
            "backgroundcolor": "#E5ECF6",
            "gridcolor": "white",
            "gridwidth": 2,
            "linecolor": "white",
            "showbackground": true,
            "ticks": "",
            "zerolinecolor": "white"
           },
           "zaxis": {
            "backgroundcolor": "#E5ECF6",
            "gridcolor": "white",
            "gridwidth": 2,
            "linecolor": "white",
            "showbackground": true,
            "ticks": "",
            "zerolinecolor": "white"
           }
          },
          "shapedefaults": {
           "line": {
            "color": "#2a3f5f"
           }
          },
          "ternary": {
           "aaxis": {
            "gridcolor": "white",
            "linecolor": "white",
            "ticks": ""
           },
           "baxis": {
            "gridcolor": "white",
            "linecolor": "white",
            "ticks": ""
           },
           "bgcolor": "#E5ECF6",
           "caxis": {
            "gridcolor": "white",
            "linecolor": "white",
            "ticks": ""
           }
          },
          "title": {
           "x": 0.05
          },
          "xaxis": {
           "automargin": true,
           "gridcolor": "white",
           "linecolor": "white",
           "ticks": "",
           "title": {
            "standoff": 15
           },
           "zerolinecolor": "white",
           "zerolinewidth": 2
          },
          "yaxis": {
           "automargin": true,
           "gridcolor": "white",
           "linecolor": "white",
           "ticks": "",
           "title": {
            "standoff": 15
           },
           "zerolinecolor": "white",
           "zerolinewidth": 2
          }
         }
        },
        "xaxis": {
         "autorange": true,
         "range": [
          -5236.219825782562,
          104307.4236214645
         ],
         "type": "linear"
        },
        "yaxis": {
         "autorange": true,
         "range": [
          -6264.914699870657,
          106190.00487195994
         ],
         "type": "linear"
        }
       }
      },
      "image/png": "[encoded data removed]",
      "text/html": [
       "<div>                            <div id=\"564fd074-8146-4e4f-81c4-57cbc9e74af3\" class=\"plotly-graph-div\" style=\"height:525px; width:100%;\"></div>            <script type=\"text/javascript\">                require([\"plotly\"], function(Plotly) {                    window.PLOTLYENV=window.PLOTLYENV || {};                                    if (document.getElementById(\"564fd074-8146-4e4f-81c4-57cbc9e74af3\")) {                    Plotly.newPlot(                        \"564fd074-8146-4e4f-81c4-57cbc9e74af3\",                        [{\"mode\": \"markers\", \"name\": \"stations\", \"type\": \"scatter\", \"x\": [37454.01188473625, 73199.39418114051, 15601.864044243652, 5808.361216819946, 60111.50117432088, 2058.4494295802447, 83244.26408004218, 18182.496720710064, 30424.224295953773, 43194.501864211576, 61185.28947223795, 29214.464853521815, 45606.998421703596, 19967.378215835975, 59241.45688620424, 60754.48519014384, 6505.159298527951, 96563.20330745593, 30461.376917337067, 68423.3026512157, 12203.823484477882, 3438.8521115218396, 25877.99816000169, 31171.107608941096, 54671.02793432796, 96958.46277645585, 93949.89415641892, 59789.99788110852, 8849.25020519195, 4522.728891053806, 38867.7289689482, 82873.75091519294, 28093.450968738078, 14092.422497476264, 7455.064367977082, 77224.47692966575, 552.21171236024, 70685.73438476172, 77127.03466859457, 35846.572854427264, 86310.34258755935, 33089.80248526492, 31098.232171566222, 72960.6178338064, 88721.27425763266, 11959.42459383017, 76078.50486168974, 77096.7179954561, 52273.28293819941, 2541.912674409519, 3142.918568673425, 31435.598107632668, 90756.6473926093, 41038.29230356297, 22879.816549162246, 28975.145291376804, 92969.76523425731, 63340.37565104235, 80367.20768991145, 89255.89984899778, 80744.01551640626, 31800.347497186387, 22793.516254194168, 81801.47659224931, 695.2130531190703, 41741.1003148779, 11986.53673336828, 94290.97039125192, 51879.06217433661, 36362.9602379294, 96244.72949421112, 49724.850589238544, 28484.049437746762, 60956.433397989684, 5147.8751249989355, 90826.58859666537, 14489.48720912231, 98565.04541106007, 67213.55474058786, 23763.754399239966, 36778.31327192532, 63352.97107608947, 9028.97700544083, 32078.006497173585, 4077.514155476392, 67756.43618422824, 51209.3058299281, 64517.27904094499, 69093.7738102466, 93672.99887367345, 34106.63510502585, 92469.36182785628, 25794.16277151556, 81722.22002012159, 52965.05783560065, 9310.27678058992, 90041.80571633305, 33902.979104870064, 72595.56788702394, 88708.64242651172, 64203.164615428774, 16162.871409461377, 60642.90596595899, 10147.15428660321, 506.15838462186866, 54873.37893665861, 65196.12595026005, 71217.9221347536, 32539.969815926772, 64963.28990472147, 65761.28923003434, 9367.476782809248, 26520.236768172545, 97301.05547524456, 89204.65551771133, 79481.13035416484, 57690.388462635914, 19524.29877980445, 28077.23624408558, 64547.22959071678, 94045.85843529143, 91486.43902204485, 1545.6616528867428, 42818.41483173143, 96361.99770892528, 29444.889206958567, 85113.66715168569, 16949.27466860925, 93615.4774160781, 57006.1170089365, 61500.72266991698, 14008.401523652403, 87737.30719279555, 69701.5740995268, 35949.11512197552, 80936.11554785137, 86707.23185801037, 51134.23988609378, 79829.51789667751, 70196.68772577033, 89000.53418175664, 37558.2952639944, 57828.014099617394, 46559.80181324601, 28654.12521282844, 3050.0249939049427, 82260.05606596582, 12706.051265188478, 76999.35530986109, 62289.04758190003], \"y\": [95071.43064099162, 59865.84841970366, 15599.452033620264, 86617.61457749351, 70807.25777960455, 96990.98521619943, 21233.911067827616, 18340.45098534338, 52475.64316322379, 29122.91401980419, 13949.386065204184, 36636.18432936917, 78517.59613930136, 51423.44384136116, 4645.041271999772, 17052.412368729154, 94888.55372533333, 80839.7348116461, 9767.211400638387, 44015.24937396013, 49517.69101112702, 90932.0402078782, 66252.2284353982, 52006.80211778108, 18485.445552552705, 77513.28233611146, 89482.73504276488, 92187.42350231168, 19598.28624191452, 32533.033076326436, 27134.90317738959, 35675.332669358926, 54269.608315824844, 80219.69807540397, 98688.69366005174, 19871.56815341724, 81546.14284548341, 72900.71680409873, 7404.465173409036, 11586.90595251297, 62329.81268275579, 6355.835028602363, 32518.332202674705, 63755.74713552131, 47221.49251619493, 71324.47872229951, 56127.71975694962, 49379.55963643907, 42754.10183585496, 10789.142699330445, 63641.04112637804, 50857.06911647028, 24929.222914887494, 75555.11385430487, 7697.990982879299, 16122.128725400442, 80812.0379564417, 87146.05901877178, 18657.005888603584, 53934.224191565074, 89609.12999234932, 11005.192452767677, 42710.77886262563, 86073.05832563434, 51074.73025775657, 22210.781047073026, 33761.5171403628, 32320.29320207552, 70301.89588951778, 97178.20827209606, 25178.229582536416, 30087.830981676965, 3688.6947354532795, 50267.90232288615, 27864.646423661143, 23956.189066697243, 48945.2760277563, 24205.52715115004, 76161.96153287176, 72821.63486118596, 63230.583059357945, 53577.46840747585, 83530.2495589238, 18651.851039985424, 59089.294318824184, 1658.782892785615, 22649.577519793795, 17436.642900499144, 38673.53463005374, 13752.094414599325, 11347.352124058907, 87733.9353380981, 65998.4046034179, 55520.08115994623, 24185.22909004517, 89721.57579533267, 63310.145727326795, 34920.95746126609, 89711.0259952577, 77987.55458576238, 8413.996499504883, 89855.41885270792, 919.7051616629648, 66350.17691080557, 16080.805141749865, 69189.51976926932, 22426.930946055978, 23724.908749680006, 74649.14051180241, 84922.3410494178, 56830.86033354716, 36771.58030594335, 24398.964337908357, 39309.77246667604, 63113.862599726286, 50263.70931051921, 49251.76938188639, 72245.21152615054, 2431.596643145384, 17711.067940704896, 95392.85770025874, 37015.87002554444, 92831.85625877253, 96665.48190436696, 85300.94554673601, 38509.77286019253, 31692.200515627766, 55680.12624583502, 69602.9796674973, 9717.649377076854, 99005.38501042633, 51832.965236373675, 74076.86177542045, 70248.40839871093, 29359.184426449337, 81011.33946791808, 91324.05525564712, 50151.62946871996, 64996.39307777651, 79579.2669436101, 33799.51568515358, 9398.1939840869, 3594.2273796742084, 54264.46347075766, 59083.326056901074, 3734.818874921442, 36019.06414112629, 52224.326005480434, 21582.102749684316, 8534.746499376799]}, {\"mode\": \"lines\", \"name\": \"route\", \"type\": \"scatter\", \"x\": [0, 1000, 2000, 3000, 4000, 5000, 6000, 7000, 8000, 9000, 10000, 11000, 12000, 13000, 14000, 15000, 16000, 17000, 18000, 19000, 20000, 21000, 22000, 23000, 24000, 25000, 26000, 27000, 28000, 29000, 30000, 31000, 32000, 33000, 34000, 35000, 36000, 37000, 38000, 39000, 40000, 41000, 42000, 43000, 44000, 45000, 46000, 47000, 48000, 49000, 50000, 51000, 52000, 53000, 54000, 55000, 56000, 57000, 58000, 59000, 60000, 61000, 62000, 63000, 64000, 65000, 66000, 67000, 68000, 69000, 70000, 71000, 72000, 73000, 74000, 75000, 76000, 77000, 78000, 79000, 80000, 81000, 82000, 83000, 84000, 85000, 86000, 87000, 88000, 89000, 90000, 91000, 92000, 93000, 94000, 95000, 96000, 97000, 98000, 99000, 100000], \"y\": [0, 300, 600, 900, 1200, 1500, 1800, 2100, 2400, 2700, 3000, 3300, 3600, 3900, 4200, 4500, 4800, 5100, 5400, 5700, 6000, 6300, 6600, 6900, 7200, 7500, 7800, 8100, 8400, 8700, 9000, 9300, 9600, 9900, 10200, 10500, 10800, 11100, 11400, 11700, 12000, 12300, 12600, 12900, 13200, 13500, 13800, 14100, 14400, 14700, 15000, 16000, 17000, 18000, 19000, 20000, 21000, 22000, 23000, 24000, 25000, 26000, 27000, 28000, 29000, 30000, 31000, 32000, 33000, 34000, 35000, 36000, 37000, 38000, 39000, 40000, 41000, 42000, 43000, 44000, 45000, 46000, 47000, 48000, 49000, 50000, 51000, 52000, 53000, 54000, 55000, 56000, 57000, 58000, 59000, 60000, 61000, 62000, 63000, 64000, 65000]}, {\"mode\": \"lines\", \"name\": \"meteo\", \"type\": \"scatter\", \"x\": [3050.0249939049427, 22879.816549162246, 30461.376917337067, 31800.347497186387, 34106.63510502585, 35846.572854427264, 37558.2952639944, 41741.1003148779, 52965.05783560065, 54671.02793432796, 65196.12595026005, 69093.7738102466, 77096.7179954561, 79481.13035416484, 88721.27425763266, 89255.89984899778, 90041.80571633305, 93615.4774160781], \"y\": [3734.818874921442, 7697.990982879299, 9767.211400638387, 11005.192452767677, 11347.352124058907, 11586.90595251297, 9398.1939840869, 22210.781047073026, 24185.22909004517, 18485.445552552705, 22426.930946055978, 38673.53463005374, 49379.55963643907, 50263.70931051921, 47221.49251619493, 53934.224191565074, 63310.145727326795, 69602.9796674973]}],                        {\"template\": {\"data\": {\"bar\": [{\"error_x\": {\"color\": \"#2a3f5f\"}, \"error_y\": {\"color\": \"#2a3f5f\"}, \"marker\": {\"line\": {\"color\": \"#E5ECF6\", \"width\": 0.5}}, \"type\": \"bar\"}], \"barpolar\": [{\"marker\": {\"line\": {\"color\": \"#E5ECF6\", \"width\": 0.5}}, \"type\": \"barpolar\"}], \"carpet\": [{\"aaxis\": {\"endlinecolor\": \"#2a3f5f\", \"gridcolor\": \"white\", \"linecolor\": \"white\", \"minorgridcolor\": \"white\", \"startlinecolor\": \"#2a3f5f\"}, \"baxis\": {\"endlinecolor\": \"#2a3f5f\", \"gridcolor\": \"white\", \"linecolor\": \"white\", \"minorgridcolor\": \"white\", \"startlinecolor\": \"#2a3f5f\"}, \"type\": \"carpet\"}], \"choropleth\": [{\"colorbar\": {\"outlinewidth\": 0, \"ticks\": \"\"}, \"type\": \"choropleth\"}], \"contour\": [{\"colorbar\": {\"outlinewidth\": 0, \"ticks\": \"\"}, \"colorscale\": [[0.0, \"#0d0887\"], [0.1111111111111111, \"#46039f\"], [0.2222222222222222, \"#7201a8\"], [0.3333333333333333, \"#9c179e\"], [0.4444444444444444, \"#bd3786\"], [0.5555555555555556, \"#d8576b\"], [0.6666666666666666, \"#ed7953\"], [0.7777777777777778, \"#fb9f3a\"], [0.8888888888888888, \"#fdca26\"], [1.0, \"#f0f921\"]], \"type\": \"contour\"}], \"contourcarpet\": [{\"colorbar\": {\"outlinewidth\": 0, \"ticks\": \"\"}, \"type\": \"contourcarpet\"}], \"heatmap\": [{\"colorbar\": {\"outlinewidth\": 0, \"ticks\": \"\"}, \"colorscale\": [[0.0, \"#0d0887\"], [0.1111111111111111, \"#46039f\"], [0.2222222222222222, \"#7201a8\"], [0.3333333333333333, \"#9c179e\"], [0.4444444444444444, \"#bd3786\"], [0.5555555555555556, \"#d8576b\"], [0.6666666666666666, \"#ed7953\"], [0.7777777777777778, \"#fb9f3a\"], [0.8888888888888888, \"#fdca26\"], [1.0, \"#f0f921\"]], \"type\": \"heatmap\"}], \"heatmapgl\": [{\"colorbar\": {\"outlinewidth\": 0, \"ticks\": \"\"}, \"colorscale\": [[0.0, \"#0d0887\"], [0.1111111111111111, \"#46039f\"], [0.2222222222222222, \"#7201a8\"], [0.3333333333333333, \"#9c179e\"], [0.4444444444444444, \"#bd3786\"], [0.5555555555555556, \"#d8576b\"], [0.6666666666666666, \"#ed7953\"], [0.7777777777777778, \"#fb9f3a\"], [0.8888888888888888, \"#fdca26\"], [1.0, \"#f0f921\"]], \"type\": \"heatmapgl\"}], \"histogram\": [{\"marker\": {\"colorbar\": {\"outlinewidth\": 0, \"ticks\": \"\"}}, \"type\": \"histogram\"}], \"histogram2d\": [{\"colorbar\": {\"outlinewidth\": 0, \"ticks\": \"\"}, \"colorscale\": [[0.0, \"#0d0887\"], [0.1111111111111111, \"#46039f\"], [0.2222222222222222, \"#7201a8\"], [0.3333333333333333, \"#9c179e\"], [0.4444444444444444, \"#bd3786\"], [0.5555555555555556, \"#d8576b\"], [0.6666666666666666, \"#ed7953\"], [0.7777777777777778, \"#fb9f3a\"], [0.8888888888888888, \"#fdca26\"], [1.0, \"#f0f921\"]], \"type\": \"histogram2d\"}], \"histogram2dcontour\": [{\"colorbar\": {\"outlinewidth\": 0, \"ticks\": \"\"}, \"colorscale\": [[0.0, \"#0d0887\"], [0.1111111111111111, \"#46039f\"], [0.2222222222222222, \"#7201a8\"], [0.3333333333333333, \"#9c179e\"], [0.4444444444444444, \"#bd3786\"], [0.5555555555555556, \"#d8576b\"], [0.6666666666666666, \"#ed7953\"], [0.7777777777777778, \"#fb9f3a\"], [0.8888888888888888, \"#fdca26\"], [1.0, \"#f0f921\"]], \"type\": \"histogram2dcontour\"}], \"mesh3d\": [{\"colorbar\": {\"outlinewidth\": 0, \"ticks\": \"\"}, \"type\": \"mesh3d\"}], \"parcoords\": [{\"line\": {\"colorbar\": {\"outlinewidth\": 0, \"ticks\": \"\"}}, \"type\": \"parcoords\"}], \"pie\": [{\"automargin\": true, \"type\": \"pie\"}], \"scatter\": [{\"marker\": {\"colorbar\": {\"outlinewidth\": 0, \"ticks\": \"\"}}, \"type\": \"scatter\"}], \"scatter3d\": [{\"line\": {\"colorbar\": {\"outlinewidth\": 0, \"ticks\": \"\"}}, \"marker\": {\"colorbar\": {\"outlinewidth\": 0, \"ticks\": \"\"}}, \"type\": \"scatter3d\"}], \"scattercarpet\": [{\"marker\": {\"colorbar\": {\"outlinewidth\": 0, \"ticks\": \"\"}}, \"type\": \"scattercarpet\"}], \"scattergeo\": [{\"marker\": {\"colorbar\": {\"outlinewidth\": 0, \"ticks\": \"\"}}, \"type\": \"scattergeo\"}], \"scattergl\": [{\"marker\": {\"colorbar\": {\"outlinewidth\": 0, \"ticks\": \"\"}}, \"type\": \"scattergl\"}], \"scattermapbox\": [{\"marker\": {\"colorbar\": {\"outlinewidth\": 0, \"ticks\": \"\"}}, \"type\": \"scattermapbox\"}], \"scatterpolar\": [{\"marker\": {\"colorbar\": {\"outlinewidth\": 0, \"ticks\": \"\"}}, \"type\": \"scatterpolar\"}], \"scatterpolargl\": [{\"marker\": {\"colorbar\": {\"outlinewidth\": 0, \"ticks\": \"\"}}, \"type\": \"scatterpolargl\"}], \"scatterternary\": [{\"marker\": {\"colorbar\": {\"outlinewidth\": 0, \"ticks\": \"\"}}, \"type\": \"scatterternary\"}], \"surface\": [{\"colorbar\": {\"outlinewidth\": 0, \"ticks\": \"\"}, \"colorscale\": [[0.0, \"#0d0887\"], [0.1111111111111111, \"#46039f\"], [0.2222222222222222, \"#7201a8\"], [0.3333333333333333, \"#9c179e\"], [0.4444444444444444, \"#bd3786\"], [0.5555555555555556, \"#d8576b\"], [0.6666666666666666, \"#ed7953\"], [0.7777777777777778, \"#fb9f3a\"], [0.8888888888888888, \"#fdca26\"], [1.0, \"#f0f921\"]], \"type\": \"surface\"}], \"table\": [{\"cells\": {\"fill\": {\"color\": \"#EBF0F8\"}, \"line\": {\"color\": \"white\"}}, \"header\": {\"fill\": {\"color\": \"#C8D4E3\"}, \"line\": {\"color\": \"white\"}}, \"type\": \"table\"}]}, \"layout\": {\"annotationdefaults\": {\"arrowcolor\": \"#2a3f5f\", \"arrowhead\": 0, \"arrowwidth\": 1}, \"autotypenumbers\": \"strict\", \"coloraxis\": {\"colorbar\": {\"outlinewidth\": 0, \"ticks\": \"\"}}, \"colorscale\": {\"diverging\": [[0, \"#8e0152\"], [0.1, \"#c51b7d\"], [0.2, \"#de77ae\"], [0.3, \"#f1b6da\"], [0.4, \"#fde0ef\"], [0.5, \"#f7f7f7\"], [0.6, \"#e6f5d0\"], [0.7, \"#b8e186\"], [0.8, \"#7fbc41\"], [0.9, \"#4d9221\"], [1, \"#276419\"]], \"sequential\": [[0.0, \"#0d0887\"], [0.1111111111111111, \"#46039f\"], [0.2222222222222222, \"#7201a8\"], [0.3333333333333333, \"#9c179e\"], [0.4444444444444444, \"#bd3786\"], [0.5555555555555556, \"#d8576b\"], [0.6666666666666666, \"#ed7953\"], [0.7777777777777778, \"#fb9f3a\"], [0.8888888888888888, \"#fdca26\"], [1.0, \"#f0f921\"]], \"sequentialminus\": [[0.0, \"#0d0887\"], [0.1111111111111111, \"#46039f\"], [0.2222222222222222, \"#7201a8\"], [0.3333333333333333, \"#9c179e\"], [0.4444444444444444, \"#bd3786\"], [0.5555555555555556, \"#d8576b\"], [0.6666666666666666, \"#ed7953\"], [0.7777777777777778, \"#fb9f3a\"], [0.8888888888888888, \"#fdca26\"], [1.0, \"#f0f921\"]]}, \"colorway\": [\"#636efa\", \"#EF553B\", \"#00cc96\", \"#ab63fa\", \"#FFA15A\", \"#19d3f3\", \"#FF6692\", \"#B6E880\", \"#FF97FF\", \"#FECB52\"], \"font\": {\"color\": \"#2a3f5f\"}, \"geo\": {\"bgcolor\": \"white\", \"lakecolor\": \"white\", \"landcolor\": \"#E5ECF6\", \"showlakes\": true, \"showland\": true, \"subunitcolor\": \"white\"}, \"hoverlabel\": {\"align\": \"left\"}, \"hovermode\": \"closest\", \"mapbox\": {\"style\": \"light\"}, \"paper_bgcolor\": \"white\", \"plot_bgcolor\": \"#E5ECF6\", \"polar\": {\"angularaxis\": {\"gridcolor\": \"white\", \"linecolor\": \"white\", \"ticks\": \"\"}, \"bgcolor\": \"#E5ECF6\", \"radialaxis\": {\"gridcolor\": \"white\", \"linecolor\": \"white\", \"ticks\": \"\"}}, \"scene\": {\"xaxis\": {\"backgroundcolor\": \"#E5ECF6\", \"gridcolor\": \"white\", \"gridwidth\": 2, \"linecolor\": \"white\", \"showbackground\": true, \"ticks\": \"\", \"zerolinecolor\": \"white\"}, \"yaxis\": {\"backgroundcolor\": \"#E5ECF6\", \"gridcolor\": \"white\", \"gridwidth\": 2, \"linecolor\": \"white\", \"showbackground\": true, \"ticks\": \"\", \"zerolinecolor\": \"white\"}, \"zaxis\": {\"backgroundcolor\": \"#E5ECF6\", \"gridcolor\": \"white\", \"gridwidth\": 2, \"linecolor\": \"white\", \"showbackground\": true, \"ticks\": \"\", \"zerolinecolor\": \"white\"}}, \"shapedefaults\": {\"line\": {\"color\": \"#2a3f5f\"}}, \"ternary\": {\"aaxis\": {\"gridcolor\": \"white\", \"linecolor\": \"white\", \"ticks\": \"\"}, \"baxis\": {\"gridcolor\": \"white\", \"linecolor\": \"white\", \"ticks\": \"\"}, \"bgcolor\": \"#E5ECF6\", \"caxis\": {\"gridcolor\": \"white\", \"linecolor\": \"white\", \"ticks\": \"\"}}, \"title\": {\"x\": 0.05}, \"xaxis\": {\"automargin\": true, \"gridcolor\": \"white\", \"linecolor\": \"white\", \"ticks\": \"\", \"title\": {\"standoff\": 15}, \"zerolinecolor\": \"white\", \"zerolinewidth\": 2}, \"yaxis\": {\"automargin\": true, \"gridcolor\": \"white\", \"linecolor\": \"white\", \"ticks\": \"\", \"title\": {\"standoff\": 15}, \"zerolinecolor\": \"white\", \"zerolinewidth\": 2}}}},                        {\"responsive\": true}                    ).then(function(){\n",
       "                            \n",
       "var gd = document.getElementById('564fd074-8146-4e4f-81c4-57cbc9e74af3');\n",
       "var x = new MutationObserver(function (mutations, observer) {{\n",
       "        var display = window.getComputedStyle(gd).display;\n",
       "        if (!display || display === 'none') {{\n",
       "            console.log([gd, 'removed!']);\n",
       "            Plotly.purge(gd);\n",
       "            observer.disconnect();\n",
       "        }}\n",
       "}});\n",
       "\n",
       "// Listen for the removal of the full notebook cells\n",
       "var notebookContainer = gd.closest('#notebook-container');\n",
       "if (notebookContainer) {{\n",
       "    x.observe(notebookContainer, {childList: true});\n",
       "}}\n",
       "\n",
       "// Listen for the clearing of the current output cell\n",
       "var outputEl = gd.closest('.output');\n",
       "if (outputEl) {{\n",
       "    x.observe(outputEl, {childList: true});\n",
       "}}\n",
       "\n",
       "                        })                };                });            </script>        </div>"
      ]
     },
     "metadata": {},
     "output_type": "display_data"
    }
   ],
   "source": [
    "fig = go.Figure()\n",
    "\n",
    "# Add traces\n",
    "fig.add_trace(go.Scatter(x=stations[:,0], y=stations[:,1],\n",
    "                    mode='markers',\n",
    "                    name='stations'))\n",
    "fig.add_trace(go.Scatter(x=plane_route[:,0], y=plane_route[:,1],\n",
    "                    mode='lines',\n",
    "                    name='route'))\n",
    "fig.add_trace(go.Scatter(x=path[:,0], y=path[:,1],\n",
    "                    mode='lines',\n",
    "                    name='meteo'))"
   ]
  },
  {
   "cell_type": "code",
   "execution_count": 1536,
   "metadata": {
    "collapsed": false,
    "jupyter": {
     "outputs_hidden": false
    },
    "pycharm": {
     "name": "#%%\n"
    }
   },
   "outputs": [],
   "source": [
    "from scipy.spatial.distance import cosine\n"
   ]
  },
  {
   "cell_type": "code",
   "execution_count": 1537,
   "metadata": {
    "collapsed": false,
    "jupyter": {
     "outputs_hidden": false
    },
    "pycharm": {
     "name": "#%%\n"
    }
   },
   "outputs": [],
   "source": [
    "def compute_penalty(path):\n",
    "    return sum([cosine(path[i+1]-path[i], path[i]- path[i-1]) for i in range(1,len(path)-1)])"
   ]
  },
  {
   "cell_type": "code",
   "execution_count": 1538,
   "metadata": {
    "collapsed": false,
    "jupyter": {
     "outputs_hidden": false
    },
    "pycharm": {
     "name": "#%%\n"
    }
   },
   "outputs": [],
   "source": [
    "def compute_distances(path, route):\n",
    "    return np.array([np.linalg.norm(path-r,axis=1)**2 for r in route])\n"
   ]
  },
  {
   "cell_type": "code",
   "execution_count": 1539,
   "metadata": {
    "collapsed": false,
    "jupyter": {
     "outputs_hidden": false
    },
    "pycharm": {
     "name": "#%%\n"
    }
   },
   "outputs": [],
   "source": [
    "distances = compute_distances(path, plane_route)"
   ]
  },
  {
   "cell_type": "code",
   "execution_count": 1540,
   "metadata": {
    "collapsed": false,
    "jupyter": {
     "outputs_hidden": false
    },
    "pycharm": {
     "name": "#%%\n"
    }
   },
   "outputs": [],
   "source": [
    "distance_dict = {i:min(distances[:, i]) for i in range(len(path))}"
   ]
  },
  {
   "cell_type": "code",
   "execution_count": 1541,
   "metadata": {
    "collapsed": false,
    "jupyter": {
     "outputs_hidden": false
    },
    "pycharm": {
     "name": "#%%\n"
    }
   },
   "outputs": [],
   "source": [
    "def l2_loss(distances, indices):\n",
    "    dd = distances[:, indices]\n",
    "    return sum(dd.min(axis=1))\n"
   ]
  },
  {
   "cell_type": "code",
   "execution_count": 1542,
   "metadata": {
    "collapsed": false,
    "jupyter": {
     "outputs_hidden": false
    },
    "pycharm": {
     "name": "#%%\n"
    }
   },
   "outputs": [],
   "source": [
    "def global_loss(path, route, distances, indices, l):\n",
    "    return (np.log(l2_loss(distances, indices)) + l*compute_penalty(path[indices]))/len(indices)\n"
   ]
  },
  {
   "cell_type": "code",
   "execution_count": 1543,
   "metadata": {
    "collapsed": false,
    "jupyter": {
     "outputs_hidden": false
    },
    "pycharm": {
     "name": "#%%\n"
    }
   },
   "outputs": [],
   "source": [
    "from itertools import combinations\n",
    "from tqdm import tqdm"
   ]
  },
  {
   "cell_type": "code",
   "execution_count": 1544,
   "metadata": {
    "collapsed": false,
    "jupyter": {
     "outputs_hidden": false
    },
    "pycharm": {
     "name": "#%%\n"
    }
   },
   "outputs": [],
   "source": [
    "def find_opt_path(path, plane_route, distances, min_points_to_remove, max_points_to_remove, l):\n",
    "    best_loss = global_loss(path, plane_route, distances, [i for i in range(len(path))], l )\n",
    "\n",
    "    min_loss_path = path\n",
    "    for k in tqdm(range(min_points_to_remove+1)):\n",
    "        min_loss = N\n",
    "        current_path = min_loss_path\n",
    "        if len(current_path) <= len(path) - min_points_to_remove:\n",
    "            break\n",
    "        for p in combinations(range(1,len(current_path)-1), k):\n",
    "            indices = [i for i in range(len(current_path)) if i not in p]\n",
    "            new_loss = global_loss(current_path, plane_route, distances, indices, l)\n",
    "            if new_loss < min_loss:\n",
    "                min_loss = new_loss\n",
    "                min_loss_path = current_path[indices]\n",
    "\n",
    "\n",
    "    losses = [best_loss]\n",
    "    current_path = min_loss_path\n",
    "    best_path = min_loss_path\n",
    "    print(\"length after min_removal\", len(current_path))\n",
    "    for k in tqdm(range(max_points_to_remove-min_points_to_remove+1)):\n",
    "        for p in combinations(range(1,len(current_path)-1), k):\n",
    "            indices = [i for i in range(len(current_path)) if i not in p]\n",
    "            new_loss = global_loss(current_path, plane_route, distances, indices, l)\n",
    "            if new_loss < best_loss:\n",
    "                best_loss = new_loss\n",
    "                losses.append(new_loss)\n",
    "                best_path = current_path[indices]\n",
    "    print(\"length after optimization\", len(best_path))\n",
    "    return best_path, losses"
   ]
  },
  {
   "cell_type": "code",
   "execution_count": 1545,
   "metadata": {
    "collapsed": false,
    "jupyter": {
     "outputs_hidden": false
    },
    "pycharm": {
     "name": "#%%\n"
    }
   },
   "outputs": [],
   "source": [
    "def plot_res(stations, plane_route, path, best_paths):\n",
    "    fig = go.Figure()\n",
    "\n",
    "    # Add traces\n",
    "    fig.add_trace(go.Scatter(x=stations[:,0], y=stations[:,1],\n",
    "                        mode='markers',\n",
    "                        name='stations'))\n",
    "    fig.add_trace(go.Scatter(x=plane_route[:,0], y=plane_route[:,1],\n",
    "                        mode='lines',\n",
    "                        name='route'))\n",
    "    fig.add_trace(go.Scatter(x=path[:,0], y=path[:,1],\n",
    "                    mode='lines',\n",
    "                    name='meteo'))\n",
    "    for i, best_path in enumerate(best_paths):\n",
    "        fig.add_trace(go.Scatter(x=best_path[:,0], y=best_path[:,1],\n",
    "                            mode='lines',\n",
    "                            name='meteo_opt_' + str(i)))\n",
    "    return fig"
   ]
  },
  {
   "cell_type": "code",
   "execution_count": 1546,
   "metadata": {
    "collapsed": false,
    "jupyter": {
     "outputs_hidden": false
    },
    "pycharm": {
     "name": "#%%\n"
    }
   },
   "outputs": [
    {
     "name": "stderr",
     "output_type": "stream",
     "text": [
      " 67%|██████▋   | 4/6 [00:00<00:00, 30.17it/s]\n",
      "100%|██████████| 4/4 [00:00<00:00, 96.31it/s]\n",
      " 67%|██████▋   | 4/6 [00:00<00:00, 29.78it/s]\n",
      "100%|██████████| 4/4 [00:00<00:00, 95.88it/s]\n",
      " 67%|██████▋   | 4/6 [00:00<00:00, 29.86it/s]\n",
      "100%|██████████| 4/4 [00:00<00:00, 96.81it/s]\n"
     ]
    },
    {
     "name": "stdout",
     "output_type": "stream",
     "text": [
      "Meteo route length: 18\n",
      "length after min_removal 12\n",
      "length after optimization 12\n",
      "12 [1.2472146705880092]\n",
      "length after min_removal 12\n",
      "length after optimization 12\n",
      "12 [1.5999008113714843]\n",
      "length after min_removal 12\n",
      "length after optimization 12\n",
      "12 [5.1267622192062365, 2.577508334460582]\n"
     ]
    }
   ],
   "source": [
    "min_points_to_remove = 5\n",
    "max_points_to_remove = 8\n",
    "best_paths = []\n",
    "print(\"Meteo route length:\", len(path))\n",
    "for l in [0.1, 1, 10]:\n",
    "    opt_path = find_opt_path(path, plane_route, distances, min_points_to_remove, max_points_to_remove, l)\n",
    "    best_paths.append(opt_path[0])\n",
    "    print(len(best_paths[-1]), opt_path[1])"
   ]
  },
  {
   "cell_type": "code",
   "execution_count": 1547,
   "metadata": {
    "collapsed": false,
    "jupyter": {
     "outputs_hidden": false
    },
    "pycharm": {
     "name": "#%%\n"
    }
   },
   "outputs": [
    {
     "data": {
      "application/vnd.plotly.v1+json": {
       "config": {
        "plotlyServerURL": "https://plot.ly"
       },
       "data": [
        {
         "mode": "markers",
         "name": "stations",
         "type": "scatter",
         "x": [
          37454.01188473625,
          73199.39418114051,
          15601.864044243652,
          5808.361216819946,
          60111.50117432088,
          2058.4494295802447,
          83244.26408004218,
          18182.496720710064,
          30424.224295953773,
          43194.501864211576,
          61185.28947223795,
          29214.464853521815,
          45606.998421703596,
          19967.378215835975,
          59241.45688620424,
          60754.48519014384,
          6505.159298527951,
          96563.20330745593,
          30461.376917337067,
          68423.3026512157,
          12203.823484477882,
          3438.8521115218396,
          25877.99816000169,
          31171.107608941096,
          54671.02793432796,
          96958.46277645585,
          93949.89415641892,
          59789.99788110852,
          8849.25020519195,
          4522.728891053806,
          38867.7289689482,
          82873.75091519294,
          28093.450968738078,
          14092.422497476264,
          7455.064367977082,
          77224.47692966575,
          552.21171236024,
          70685.73438476172,
          77127.03466859457,
          35846.572854427264,
          86310.34258755935,
          33089.80248526492,
          31098.232171566222,
          72960.6178338064,
          88721.27425763266,
          11959.42459383017,
          76078.50486168974,
          77096.7179954561,
          52273.28293819941,
          2541.912674409519,
          3142.918568673425,
          31435.598107632668,
          90756.6473926093,
          41038.29230356297,
          22879.816549162246,
          28975.145291376804,
          92969.76523425731,
          63340.37565104235,
          80367.20768991145,
          89255.89984899778,
          80744.01551640626,
          31800.347497186387,
          22793.516254194168,
          81801.47659224931,
          695.2130531190703,
          41741.1003148779,
          11986.53673336828,
          94290.97039125192,
          51879.06217433661,
          36362.9602379294,
          96244.72949421112,
          49724.850589238544,
          28484.049437746762,
          60956.433397989684,
          5147.8751249989355,
          90826.58859666537,
          14489.48720912231,
          98565.04541106007,
          67213.55474058786,
          23763.754399239966,
          36778.31327192532,
          63352.97107608947,
          9028.97700544083,
          32078.006497173585,
          4077.514155476392,
          67756.43618422824,
          51209.3058299281,
          64517.27904094499,
          69093.7738102466,
          93672.99887367345,
          34106.63510502585,
          92469.36182785628,
          25794.16277151556,
          81722.22002012159,
          52965.05783560065,
          9310.27678058992,
          90041.80571633305,
          33902.979104870064,
          72595.56788702394,
          88708.64242651172,
          64203.164615428774,
          16162.871409461377,
          60642.90596595899,
          10147.15428660321,
          506.15838462186866,
          54873.37893665861,
          65196.12595026005,
          71217.9221347536,
          32539.969815926772,
          64963.28990472147,
          65761.28923003434,
          9367.476782809248,
          26520.236768172545,
          97301.05547524456,
          89204.65551771133,
          79481.13035416484,
          57690.388462635914,
          19524.29877980445,
          28077.23624408558,
          64547.22959071678,
          94045.85843529143,
          91486.43902204485,
          1545.6616528867428,
          42818.41483173143,
          96361.99770892528,
          29444.889206958567,
          85113.66715168569,
          16949.27466860925,
          93615.4774160781,
          57006.1170089365,
          61500.72266991698,
          14008.401523652403,
          87737.30719279555,
          69701.5740995268,
          35949.11512197552,
          80936.11554785137,
          86707.23185801037,
          51134.23988609378,
          79829.51789667751,
          70196.68772577033,
          89000.53418175664,
          37558.2952639944,
          57828.014099617394,
          46559.80181324601,
          28654.12521282844,
          3050.0249939049427,
          82260.05606596582,
          12706.051265188478,
          76999.35530986109,
          62289.04758190003
         ],
         "y": [
          95071.43064099162,
          59865.84841970366,
          15599.452033620264,
          86617.61457749351,
          70807.25777960455,
          96990.98521619943,
          21233.911067827616,
          18340.45098534338,
          52475.64316322379,
          29122.91401980419,
          13949.386065204184,
          36636.18432936917,
          78517.59613930136,
          51423.44384136116,
          4645.041271999772,
          17052.412368729154,
          94888.55372533333,
          80839.7348116461,
          9767.211400638387,
          44015.24937396013,
          49517.69101112702,
          90932.0402078782,
          66252.2284353982,
          52006.80211778108,
          18485.445552552705,
          77513.28233611146,
          89482.73504276488,
          92187.42350231168,
          19598.28624191452,
          32533.033076326436,
          27134.90317738959,
          35675.332669358926,
          54269.608315824844,
          80219.69807540397,
          98688.69366005174,
          19871.56815341724,
          81546.14284548341,
          72900.71680409873,
          7404.465173409036,
          11586.90595251297,
          62329.81268275579,
          6355.835028602363,
          32518.332202674705,
          63755.74713552131,
          47221.49251619493,
          71324.47872229951,
          56127.71975694962,
          49379.55963643907,
          42754.10183585496,
          10789.142699330445,
          63641.04112637804,
          50857.06911647028,
          24929.222914887494,
          75555.11385430487,
          7697.990982879299,
          16122.128725400442,
          80812.0379564417,
          87146.05901877178,
          18657.005888603584,
          53934.224191565074,
          89609.12999234932,
          11005.192452767677,
          42710.77886262563,
          86073.05832563434,
          51074.73025775657,
          22210.781047073026,
          33761.5171403628,
          32320.29320207552,
          70301.89588951778,
          97178.20827209606,
          25178.229582536416,
          30087.830981676965,
          3688.6947354532795,
          50267.90232288615,
          27864.646423661143,
          23956.189066697243,
          48945.2760277563,
          24205.52715115004,
          76161.96153287176,
          72821.63486118596,
          63230.583059357945,
          53577.46840747585,
          83530.2495589238,
          18651.851039985424,
          59089.294318824184,
          1658.782892785615,
          22649.577519793795,
          17436.642900499144,
          38673.53463005374,
          13752.094414599325,
          11347.352124058907,
          87733.9353380981,
          65998.4046034179,
          55520.08115994623,
          24185.22909004517,
          89721.57579533267,
          63310.145727326795,
          34920.95746126609,
          89711.0259952577,
          77987.55458576238,
          8413.996499504883,
          89855.41885270792,
          919.7051616629648,
          66350.17691080557,
          16080.805141749865,
          69189.51976926932,
          22426.930946055978,
          23724.908749680006,
          74649.14051180241,
          84922.3410494178,
          56830.86033354716,
          36771.58030594335,
          24398.964337908357,
          39309.77246667604,
          63113.862599726286,
          50263.70931051921,
          49251.76938188639,
          72245.21152615054,
          2431.596643145384,
          17711.067940704896,
          95392.85770025874,
          37015.87002554444,
          92831.85625877253,
          96665.48190436696,
          85300.94554673601,
          38509.77286019253,
          31692.200515627766,
          55680.12624583502,
          69602.9796674973,
          9717.649377076854,
          99005.38501042633,
          51832.965236373675,
          74076.86177542045,
          70248.40839871093,
          29359.184426449337,
          81011.33946791808,
          91324.05525564712,
          50151.62946871996,
          64996.39307777651,
          79579.2669436101,
          33799.51568515358,
          9398.1939840869,
          3594.2273796742084,
          54264.46347075766,
          59083.326056901074,
          3734.818874921442,
          36019.06414112629,
          52224.326005480434,
          21582.102749684316,
          8534.746499376799
         ]
        },
        {
         "mode": "lines",
         "name": "route",
         "type": "scatter",
         "x": [
          0,
          1000,
          2000,
          3000,
          4000,
          5000,
          6000,
          7000,
          8000,
          9000,
          10000,
          11000,
          12000,
          13000,
          14000,
          15000,
          16000,
          17000,
          18000,
          19000,
          20000,
          21000,
          22000,
          23000,
          24000,
          25000,
          26000,
          27000,
          28000,
          29000,
          30000,
          31000,
          32000,
          33000,
          34000,
          35000,
          36000,
          37000,
          38000,
          39000,
          40000,
          41000,
          42000,
          43000,
          44000,
          45000,
          46000,
          47000,
          48000,
          49000,
          50000,
          51000,
          52000,
          53000,
          54000,
          55000,
          56000,
          57000,
          58000,
          59000,
          60000,
          61000,
          62000,
          63000,
          64000,
          65000,
          66000,
          67000,
          68000,
          69000,
          70000,
          71000,
          72000,
          73000,
          74000,
          75000,
          76000,
          77000,
          78000,
          79000,
          80000,
          81000,
          82000,
          83000,
          84000,
          85000,
          86000,
          87000,
          88000,
          89000,
          90000,
          91000,
          92000,
          93000,
          94000,
          95000,
          96000,
          97000,
          98000,
          99000,
          100000
         ],
         "y": [
          0,
          300,
          600,
          900,
          1200,
          1500,
          1800,
          2100,
          2400,
          2700,
          3000,
          3300,
          3600,
          3900,
          4200,
          4500,
          4800,
          5100,
          5400,
          5700,
          6000,
          6300,
          6600,
          6900,
          7200,
          7500,
          7800,
          8100,
          8400,
          8700,
          9000,
          9300,
          9600,
          9900,
          10200,
          10500,
          10800,
          11100,
          11400,
          11700,
          12000,
          12300,
          12600,
          12900,
          13200,
          13500,
          13800,
          14100,
          14400,
          14700,
          15000,
          16000,
          17000,
          18000,
          19000,
          20000,
          21000,
          22000,
          23000,
          24000,
          25000,
          26000,
          27000,
          28000,
          29000,
          30000,
          31000,
          32000,
          33000,
          34000,
          35000,
          36000,
          37000,
          38000,
          39000,
          40000,
          41000,
          42000,
          43000,
          44000,
          45000,
          46000,
          47000,
          48000,
          49000,
          50000,
          51000,
          52000,
          53000,
          54000,
          55000,
          56000,
          57000,
          58000,
          59000,
          60000,
          61000,
          62000,
          63000,
          64000,
          65000
         ]
        },
        {
         "mode": "lines",
         "name": "meteo",
         "type": "scatter",
         "x": [
          3050.0249939049427,
          22879.816549162246,
          30461.376917337067,
          31800.347497186387,
          34106.63510502585,
          35846.572854427264,
          37558.2952639944,
          41741.1003148779,
          52965.05783560065,
          54671.02793432796,
          65196.12595026005,
          69093.7738102466,
          77096.7179954561,
          79481.13035416484,
          88721.27425763266,
          89255.89984899778,
          90041.80571633305,
          93615.4774160781
         ],
         "y": [
          3734.818874921442,
          7697.990982879299,
          9767.211400638387,
          11005.192452767677,
          11347.352124058907,
          11586.90595251297,
          9398.1939840869,
          22210.781047073026,
          24185.22909004517,
          18485.445552552705,
          22426.930946055978,
          38673.53463005374,
          49379.55963643907,
          50263.70931051921,
          47221.49251619493,
          53934.224191565074,
          63310.145727326795,
          69602.9796674973
         ]
        },
        {
         "mode": "lines",
         "name": "meteo_opt_0",
         "type": "scatter",
         "x": [
          3050.0249939049427,
          22879.816549162246,
          30461.376917337067,
          35846.572854427264,
          54671.02793432796,
          69093.7738102466,
          77096.7179954561,
          79481.13035416484,
          88721.27425763266,
          89255.89984899778,
          90041.80571633305,
          93615.4774160781
         ],
         "y": [
          3734.818874921442,
          7697.990982879299,
          9767.211400638387,
          11586.90595251297,
          18485.445552552705,
          38673.53463005374,
          49379.55963643907,
          50263.70931051921,
          47221.49251619493,
          53934.224191565074,
          63310.145727326795,
          69602.9796674973
         ]
        },
        {
         "mode": "lines",
         "name": "meteo_opt_1",
         "type": "scatter",
         "x": [
          3050.0249939049427,
          22879.816549162246,
          30461.376917337067,
          31800.347497186387,
          34106.63510502585,
          35846.572854427264,
          54671.02793432796,
          69093.7738102466,
          77096.7179954561,
          79481.13035416484,
          90041.80571633305,
          93615.4774160781
         ],
         "y": [
          3734.818874921442,
          7697.990982879299,
          9767.211400638387,
          11005.192452767677,
          11347.352124058907,
          11586.90595251297,
          18485.445552552705,
          38673.53463005374,
          49379.55963643907,
          50263.70931051921,
          63310.145727326795,
          69602.9796674973
         ]
        },
        {
         "mode": "lines",
         "name": "meteo_opt_2",
         "type": "scatter",
         "x": [
          3050.0249939049427,
          22879.816549162246,
          30461.376917337067,
          31800.347497186387,
          34106.63510502585,
          35846.572854427264,
          54671.02793432796,
          65196.12595026005,
          88721.27425763266,
          89255.89984899778,
          90041.80571633305,
          93615.4774160781
         ],
         "y": [
          3734.818874921442,
          7697.990982879299,
          9767.211400638387,
          11005.192452767677,
          11347.352124058907,
          11586.90595251297,
          18485.445552552705,
          22426.930946055978,
          47221.49251619493,
          53934.224191565074,
          63310.145727326795,
          69602.9796674973
         ]
        }
       ],
       "layout": {
        "autosize": true,
        "template": {
         "data": {
          "bar": [
           {
            "error_x": {
             "color": "#2a3f5f"
            },
            "error_y": {
             "color": "#2a3f5f"
            },
            "marker": {
             "line": {
              "color": "#E5ECF6",
              "width": 0.5
             }
            },
            "type": "bar"
           }
          ],
          "barpolar": [
           {
            "marker": {
             "line": {
              "color": "#E5ECF6",
              "width": 0.5
             }
            },
            "type": "barpolar"
           }
          ],
          "carpet": [
           {
            "aaxis": {
             "endlinecolor": "#2a3f5f",
             "gridcolor": "white",
             "linecolor": "white",
             "minorgridcolor": "white",
             "startlinecolor": "#2a3f5f"
            },
            "baxis": {
             "endlinecolor": "#2a3f5f",
             "gridcolor": "white",
             "linecolor": "white",
             "minorgridcolor": "white",
             "startlinecolor": "#2a3f5f"
            },
            "type": "carpet"
           }
          ],
          "choropleth": [
           {
            "colorbar": {
             "outlinewidth": 0,
             "ticks": ""
            },
            "type": "choropleth"
           }
          ],
          "contour": [
           {
            "colorbar": {
             "outlinewidth": 0,
             "ticks": ""
            },
            "colorscale": [
             [
              0,
              "#0d0887"
             ],
             [
              0.1111111111111111,
              "#46039f"
             ],
             [
              0.2222222222222222,
              "#7201a8"
             ],
             [
              0.3333333333333333,
              "#9c179e"
             ],
             [
              0.4444444444444444,
              "#bd3786"
             ],
             [
              0.5555555555555556,
              "#d8576b"
             ],
             [
              0.6666666666666666,
              "#ed7953"
             ],
             [
              0.7777777777777778,
              "#fb9f3a"
             ],
             [
              0.8888888888888888,
              "#fdca26"
             ],
             [
              1,
              "#f0f921"
             ]
            ],
            "type": "contour"
           }
          ],
          "contourcarpet": [
           {
            "colorbar": {
             "outlinewidth": 0,
             "ticks": ""
            },
            "type": "contourcarpet"
           }
          ],
          "heatmap": [
           {
            "colorbar": {
             "outlinewidth": 0,
             "ticks": ""
            },
            "colorscale": [
             [
              0,
              "#0d0887"
             ],
             [
              0.1111111111111111,
              "#46039f"
             ],
             [
              0.2222222222222222,
              "#7201a8"
             ],
             [
              0.3333333333333333,
              "#9c179e"
             ],
             [
              0.4444444444444444,
              "#bd3786"
             ],
             [
              0.5555555555555556,
              "#d8576b"
             ],
             [
              0.6666666666666666,
              "#ed7953"
             ],
             [
              0.7777777777777778,
              "#fb9f3a"
             ],
             [
              0.8888888888888888,
              "#fdca26"
             ],
             [
              1,
              "#f0f921"
             ]
            ],
            "type": "heatmap"
           }
          ],
          "heatmapgl": [
           {
            "colorbar": {
             "outlinewidth": 0,
             "ticks": ""
            },
            "colorscale": [
             [
              0,
              "#0d0887"
             ],
             [
              0.1111111111111111,
              "#46039f"
             ],
             [
              0.2222222222222222,
              "#7201a8"
             ],
             [
              0.3333333333333333,
              "#9c179e"
             ],
             [
              0.4444444444444444,
              "#bd3786"
             ],
             [
              0.5555555555555556,
              "#d8576b"
             ],
             [
              0.6666666666666666,
              "#ed7953"
             ],
             [
              0.7777777777777778,
              "#fb9f3a"
             ],
             [
              0.8888888888888888,
              "#fdca26"
             ],
             [
              1,
              "#f0f921"
             ]
            ],
            "type": "heatmapgl"
           }
          ],
          "histogram": [
           {
            "marker": {
             "colorbar": {
              "outlinewidth": 0,
              "ticks": ""
             }
            },
            "type": "histogram"
           }
          ],
          "histogram2d": [
           {
            "colorbar": {
             "outlinewidth": 0,
             "ticks": ""
            },
            "colorscale": [
             [
              0,
              "#0d0887"
             ],
             [
              0.1111111111111111,
              "#46039f"
             ],
             [
              0.2222222222222222,
              "#7201a8"
             ],
             [
              0.3333333333333333,
              "#9c179e"
             ],
             [
              0.4444444444444444,
              "#bd3786"
             ],
             [
              0.5555555555555556,
              "#d8576b"
             ],
             [
              0.6666666666666666,
              "#ed7953"
             ],
             [
              0.7777777777777778,
              "#fb9f3a"
             ],
             [
              0.8888888888888888,
              "#fdca26"
             ],
             [
              1,
              "#f0f921"
             ]
            ],
            "type": "histogram2d"
           }
          ],
          "histogram2dcontour": [
           {
            "colorbar": {
             "outlinewidth": 0,
             "ticks": ""
            },
            "colorscale": [
             [
              0,
              "#0d0887"
             ],
             [
              0.1111111111111111,
              "#46039f"
             ],
             [
              0.2222222222222222,
              "#7201a8"
             ],
             [
              0.3333333333333333,
              "#9c179e"
             ],
             [
              0.4444444444444444,
              "#bd3786"
             ],
             [
              0.5555555555555556,
              "#d8576b"
             ],
             [
              0.6666666666666666,
              "#ed7953"
             ],
             [
              0.7777777777777778,
              "#fb9f3a"
             ],
             [
              0.8888888888888888,
              "#fdca26"
             ],
             [
              1,
              "#f0f921"
             ]
            ],
            "type": "histogram2dcontour"
           }
          ],
          "mesh3d": [
           {
            "colorbar": {
             "outlinewidth": 0,
             "ticks": ""
            },
            "type": "mesh3d"
           }
          ],
          "parcoords": [
           {
            "line": {
             "colorbar": {
              "outlinewidth": 0,
              "ticks": ""
             }
            },
            "type": "parcoords"
           }
          ],
          "pie": [
           {
            "automargin": true,
            "type": "pie"
           }
          ],
          "scatter": [
           {
            "marker": {
             "colorbar": {
              "outlinewidth": 0,
              "ticks": ""
             }
            },
            "type": "scatter"
           }
          ],
          "scatter3d": [
           {
            "line": {
             "colorbar": {
              "outlinewidth": 0,
              "ticks": ""
             }
            },
            "marker": {
             "colorbar": {
              "outlinewidth": 0,
              "ticks": ""
             }
            },
            "type": "scatter3d"
           }
          ],
          "scattercarpet": [
           {
            "marker": {
             "colorbar": {
              "outlinewidth": 0,
              "ticks": ""
             }
            },
            "type": "scattercarpet"
           }
          ],
          "scattergeo": [
           {
            "marker": {
             "colorbar": {
              "outlinewidth": 0,
              "ticks": ""
             }
            },
            "type": "scattergeo"
           }
          ],
          "scattergl": [
           {
            "marker": {
             "colorbar": {
              "outlinewidth": 0,
              "ticks": ""
             }
            },
            "type": "scattergl"
           }
          ],
          "scattermapbox": [
           {
            "marker": {
             "colorbar": {
              "outlinewidth": 0,
              "ticks": ""
             }
            },
            "type": "scattermapbox"
           }
          ],
          "scatterpolar": [
           {
            "marker": {
             "colorbar": {
              "outlinewidth": 0,
              "ticks": ""
             }
            },
            "type": "scatterpolar"
           }
          ],
          "scatterpolargl": [
           {
            "marker": {
             "colorbar": {
              "outlinewidth": 0,
              "ticks": ""
             }
            },
            "type": "scatterpolargl"
           }
          ],
          "scatterternary": [
           {
            "marker": {
             "colorbar": {
              "outlinewidth": 0,
              "ticks": ""
             }
            },
            "type": "scatterternary"
           }
          ],
          "surface": [
           {
            "colorbar": {
             "outlinewidth": 0,
             "ticks": ""
            },
            "colorscale": [
             [
              0,
              "#0d0887"
             ],
             [
              0.1111111111111111,
              "#46039f"
             ],
             [
              0.2222222222222222,
              "#7201a8"
             ],
             [
              0.3333333333333333,
              "#9c179e"
             ],
             [
              0.4444444444444444,
              "#bd3786"
             ],
             [
              0.5555555555555556,
              "#d8576b"
             ],
             [
              0.6666666666666666,
              "#ed7953"
             ],
             [
              0.7777777777777778,
              "#fb9f3a"
             ],
             [
              0.8888888888888888,
              "#fdca26"
             ],
             [
              1,
              "#f0f921"
             ]
            ],
            "type": "surface"
           }
          ],
          "table": [
           {
            "cells": {
             "fill": {
              "color": "#EBF0F8"
             },
             "line": {
              "color": "white"
             }
            },
            "header": {
             "fill": {
              "color": "#C8D4E3"
             },
             "line": {
              "color": "white"
             }
            },
            "type": "table"
           }
          ]
         },
         "layout": {
          "annotationdefaults": {
           "arrowcolor": "#2a3f5f",
           "arrowhead": 0,
           "arrowwidth": 1
          },
          "autotypenumbers": "strict",
          "coloraxis": {
           "colorbar": {
            "outlinewidth": 0,
            "ticks": ""
           }
          },
          "colorscale": {
           "diverging": [
            [
             0,
             "#8e0152"
            ],
            [
             0.1,
             "#c51b7d"
            ],
            [
             0.2,
             "#de77ae"
            ],
            [
             0.3,
             "#f1b6da"
            ],
            [
             0.4,
             "#fde0ef"
            ],
            [
             0.5,
             "#f7f7f7"
            ],
            [
             0.6,
             "#e6f5d0"
            ],
            [
             0.7,
             "#b8e186"
            ],
            [
             0.8,
             "#7fbc41"
            ],
            [
             0.9,
             "#4d9221"
            ],
            [
             1,
             "#276419"
            ]
           ],
           "sequential": [
            [
             0,
             "#0d0887"
            ],
            [
             0.1111111111111111,
             "#46039f"
            ],
            [
             0.2222222222222222,
             "#7201a8"
            ],
            [
             0.3333333333333333,
             "#9c179e"
            ],
            [
             0.4444444444444444,
             "#bd3786"
            ],
            [
             0.5555555555555556,
             "#d8576b"
            ],
            [
             0.6666666666666666,
             "#ed7953"
            ],
            [
             0.7777777777777778,
             "#fb9f3a"
            ],
            [
             0.8888888888888888,
             "#fdca26"
            ],
            [
             1,
             "#f0f921"
            ]
           ],
           "sequentialminus": [
            [
             0,
             "#0d0887"
            ],
            [
             0.1111111111111111,
             "#46039f"
            ],
            [
             0.2222222222222222,
             "#7201a8"
            ],
            [
             0.3333333333333333,
             "#9c179e"
            ],
            [
             0.4444444444444444,
             "#bd3786"
            ],
            [
             0.5555555555555556,
             "#d8576b"
            ],
            [
             0.6666666666666666,
             "#ed7953"
            ],
            [
             0.7777777777777778,
             "#fb9f3a"
            ],
            [
             0.8888888888888888,
             "#fdca26"
            ],
            [
             1,
             "#f0f921"
            ]
           ]
          },
          "colorway": [
           "#636efa",
           "#EF553B",
           "#00cc96",
           "#ab63fa",
           "#FFA15A",
           "#19d3f3",
           "#FF6692",
           "#B6E880",
           "#FF97FF",
           "#FECB52"
          ],
          "font": {
           "color": "#2a3f5f"
          },
          "geo": {
           "bgcolor": "white",
           "lakecolor": "white",
           "landcolor": "#E5ECF6",
           "showlakes": true,
           "showland": true,
           "subunitcolor": "white"
          },
          "hoverlabel": {
           "align": "left"
          },
          "hovermode": "closest",
          "mapbox": {
           "style": "light"
          },
          "paper_bgcolor": "white",
          "plot_bgcolor": "#E5ECF6",
          "polar": {
           "angularaxis": {
            "gridcolor": "white",
            "linecolor": "white",
            "ticks": ""
           },
           "bgcolor": "#E5ECF6",
           "radialaxis": {
            "gridcolor": "white",
            "linecolor": "white",
            "ticks": ""
           }
          },
          "scene": {
           "xaxis": {
            "backgroundcolor": "#E5ECF6",
            "gridcolor": "white",
            "gridwidth": 2,
            "linecolor": "white",
            "showbackground": true,
            "ticks": "",
            "zerolinecolor": "white"
           },
           "yaxis": {
            "backgroundcolor": "#E5ECF6",
            "gridcolor": "white",
            "gridwidth": 2,
            "linecolor": "white",
            "showbackground": true,
            "ticks": "",
            "zerolinecolor": "white"
           },
           "zaxis": {
            "backgroundcolor": "#E5ECF6",
            "gridcolor": "white",
            "gridwidth": 2,
            "linecolor": "white",
            "showbackground": true,
            "ticks": "",
            "zerolinecolor": "white"
           }
          },
          "shapedefaults": {
           "line": {
            "color": "#2a3f5f"
           }
          },
          "ternary": {
           "aaxis": {
            "gridcolor": "white",
            "linecolor": "white",
            "ticks": ""
           },
           "baxis": {
            "gridcolor": "white",
            "linecolor": "white",
            "ticks": ""
           },
           "bgcolor": "#E5ECF6",
           "caxis": {
            "gridcolor": "white",
            "linecolor": "white",
            "ticks": ""
           }
          },
          "title": {
           "x": 0.05
          },
          "xaxis": {
           "automargin": true,
           "gridcolor": "white",
           "linecolor": "white",
           "ticks": "",
           "title": {
            "standoff": 15
           },
           "zerolinecolor": "white",
           "zerolinewidth": 2
          },
          "yaxis": {
           "automargin": true,
           "gridcolor": "white",
           "linecolor": "white",
           "ticks": "",
           "title": {
            "standoff": 15
           },
           "zerolinecolor": "white",
           "zerolinewidth": 2
          }
         }
        },
        "xaxis": {
         "autorange": true,
         "range": [
          -5242.469842881799,
          104313.67363856373
         ],
         "type": "linear"
        },
        "yaxis": {
         "autorange": true,
         "range": [
          -6264.914699870657,
          106190.00487195994
         ],
         "type": "linear"
        }
       }
      },
      "image/png": "[encoded data removed]",
      "text/html": [
       "<div>                            <div id=\"976668c9-ec4e-405b-ae71-59a196c42d7c\" class=\"plotly-graph-div\" style=\"height:525px; width:100%;\"></div>            <script type=\"text/javascript\">                require([\"plotly\"], function(Plotly) {                    window.PLOTLYENV=window.PLOTLYENV || {};                                    if (document.getElementById(\"976668c9-ec4e-405b-ae71-59a196c42d7c\")) {                    Plotly.newPlot(                        \"976668c9-ec4e-405b-ae71-59a196c42d7c\",                        [{\"mode\": \"markers\", \"name\": \"stations\", \"type\": \"scatter\", \"x\": [37454.01188473625, 73199.39418114051, 15601.864044243652, 5808.361216819946, 60111.50117432088, 2058.4494295802447, 83244.26408004218, 18182.496720710064, 30424.224295953773, 43194.501864211576, 61185.28947223795, 29214.464853521815, 45606.998421703596, 19967.378215835975, 59241.45688620424, 60754.48519014384, 6505.159298527951, 96563.20330745593, 30461.376917337067, 68423.3026512157, 12203.823484477882, 3438.8521115218396, 25877.99816000169, 31171.107608941096, 54671.02793432796, 96958.46277645585, 93949.89415641892, 59789.99788110852, 8849.25020519195, 4522.728891053806, 38867.7289689482, 82873.75091519294, 28093.450968738078, 14092.422497476264, 7455.064367977082, 77224.47692966575, 552.21171236024, 70685.73438476172, 77127.03466859457, 35846.572854427264, 86310.34258755935, 33089.80248526492, 31098.232171566222, 72960.6178338064, 88721.27425763266, 11959.42459383017, 76078.50486168974, 77096.7179954561, 52273.28293819941, 2541.912674409519, 3142.918568673425, 31435.598107632668, 90756.6473926093, 41038.29230356297, 22879.816549162246, 28975.145291376804, 92969.76523425731, 63340.37565104235, 80367.20768991145, 89255.89984899778, 80744.01551640626, 31800.347497186387, 22793.516254194168, 81801.47659224931, 695.2130531190703, 41741.1003148779, 11986.53673336828, 94290.97039125192, 51879.06217433661, 36362.9602379294, 96244.72949421112, 49724.850589238544, 28484.049437746762, 60956.433397989684, 5147.8751249989355, 90826.58859666537, 14489.48720912231, 98565.04541106007, 67213.55474058786, 23763.754399239966, 36778.31327192532, 63352.97107608947, 9028.97700544083, 32078.006497173585, 4077.514155476392, 67756.43618422824, 51209.3058299281, 64517.27904094499, 69093.7738102466, 93672.99887367345, 34106.63510502585, 92469.36182785628, 25794.16277151556, 81722.22002012159, 52965.05783560065, 9310.27678058992, 90041.80571633305, 33902.979104870064, 72595.56788702394, 88708.64242651172, 64203.164615428774, 16162.871409461377, 60642.90596595899, 10147.15428660321, 506.15838462186866, 54873.37893665861, 65196.12595026005, 71217.9221347536, 32539.969815926772, 64963.28990472147, 65761.28923003434, 9367.476782809248, 26520.236768172545, 97301.05547524456, 89204.65551771133, 79481.13035416484, 57690.388462635914, 19524.29877980445, 28077.23624408558, 64547.22959071678, 94045.85843529143, 91486.43902204485, 1545.6616528867428, 42818.41483173143, 96361.99770892528, 29444.889206958567, 85113.66715168569, 16949.27466860925, 93615.4774160781, 57006.1170089365, 61500.72266991698, 14008.401523652403, 87737.30719279555, 69701.5740995268, 35949.11512197552, 80936.11554785137, 86707.23185801037, 51134.23988609378, 79829.51789667751, 70196.68772577033, 89000.53418175664, 37558.2952639944, 57828.014099617394, 46559.80181324601, 28654.12521282844, 3050.0249939049427, 82260.05606596582, 12706.051265188478, 76999.35530986109, 62289.04758190003], \"y\": [95071.43064099162, 59865.84841970366, 15599.452033620264, 86617.61457749351, 70807.25777960455, 96990.98521619943, 21233.911067827616, 18340.45098534338, 52475.64316322379, 29122.91401980419, 13949.386065204184, 36636.18432936917, 78517.59613930136, 51423.44384136116, 4645.041271999772, 17052.412368729154, 94888.55372533333, 80839.7348116461, 9767.211400638387, 44015.24937396013, 49517.69101112702, 90932.0402078782, 66252.2284353982, 52006.80211778108, 18485.445552552705, 77513.28233611146, 89482.73504276488, 92187.42350231168, 19598.28624191452, 32533.033076326436, 27134.90317738959, 35675.332669358926, 54269.608315824844, 80219.69807540397, 98688.69366005174, 19871.56815341724, 81546.14284548341, 72900.71680409873, 7404.465173409036, 11586.90595251297, 62329.81268275579, 6355.835028602363, 32518.332202674705, 63755.74713552131, 47221.49251619493, 71324.47872229951, 56127.71975694962, 49379.55963643907, 42754.10183585496, 10789.142699330445, 63641.04112637804, 50857.06911647028, 24929.222914887494, 75555.11385430487, 7697.990982879299, 16122.128725400442, 80812.0379564417, 87146.05901877178, 18657.005888603584, 53934.224191565074, 89609.12999234932, 11005.192452767677, 42710.77886262563, 86073.05832563434, 51074.73025775657, 22210.781047073026, 33761.5171403628, 32320.29320207552, 70301.89588951778, 97178.20827209606, 25178.229582536416, 30087.830981676965, 3688.6947354532795, 50267.90232288615, 27864.646423661143, 23956.189066697243, 48945.2760277563, 24205.52715115004, 76161.96153287176, 72821.63486118596, 63230.583059357945, 53577.46840747585, 83530.2495589238, 18651.851039985424, 59089.294318824184, 1658.782892785615, 22649.577519793795, 17436.642900499144, 38673.53463005374, 13752.094414599325, 11347.352124058907, 87733.9353380981, 65998.4046034179, 55520.08115994623, 24185.22909004517, 89721.57579533267, 63310.145727326795, 34920.95746126609, 89711.0259952577, 77987.55458576238, 8413.996499504883, 89855.41885270792, 919.7051616629648, 66350.17691080557, 16080.805141749865, 69189.51976926932, 22426.930946055978, 23724.908749680006, 74649.14051180241, 84922.3410494178, 56830.86033354716, 36771.58030594335, 24398.964337908357, 39309.77246667604, 63113.862599726286, 50263.70931051921, 49251.76938188639, 72245.21152615054, 2431.596643145384, 17711.067940704896, 95392.85770025874, 37015.87002554444, 92831.85625877253, 96665.48190436696, 85300.94554673601, 38509.77286019253, 31692.200515627766, 55680.12624583502, 69602.9796674973, 9717.649377076854, 99005.38501042633, 51832.965236373675, 74076.86177542045, 70248.40839871093, 29359.184426449337, 81011.33946791808, 91324.05525564712, 50151.62946871996, 64996.39307777651, 79579.2669436101, 33799.51568515358, 9398.1939840869, 3594.2273796742084, 54264.46347075766, 59083.326056901074, 3734.818874921442, 36019.06414112629, 52224.326005480434, 21582.102749684316, 8534.746499376799]}, {\"mode\": \"lines\", \"name\": \"route\", \"type\": \"scatter\", \"x\": [0, 1000, 2000, 3000, 4000, 5000, 6000, 7000, 8000, 9000, 10000, 11000, 12000, 13000, 14000, 15000, 16000, 17000, 18000, 19000, 20000, 21000, 22000, 23000, 24000, 25000, 26000, 27000, 28000, 29000, 30000, 31000, 32000, 33000, 34000, 35000, 36000, 37000, 38000, 39000, 40000, 41000, 42000, 43000, 44000, 45000, 46000, 47000, 48000, 49000, 50000, 51000, 52000, 53000, 54000, 55000, 56000, 57000, 58000, 59000, 60000, 61000, 62000, 63000, 64000, 65000, 66000, 67000, 68000, 69000, 70000, 71000, 72000, 73000, 74000, 75000, 76000, 77000, 78000, 79000, 80000, 81000, 82000, 83000, 84000, 85000, 86000, 87000, 88000, 89000, 90000, 91000, 92000, 93000, 94000, 95000, 96000, 97000, 98000, 99000, 100000], \"y\": [0, 300, 600, 900, 1200, 1500, 1800, 2100, 2400, 2700, 3000, 3300, 3600, 3900, 4200, 4500, 4800, 5100, 5400, 5700, 6000, 6300, 6600, 6900, 7200, 7500, 7800, 8100, 8400, 8700, 9000, 9300, 9600, 9900, 10200, 10500, 10800, 11100, 11400, 11700, 12000, 12300, 12600, 12900, 13200, 13500, 13800, 14100, 14400, 14700, 15000, 16000, 17000, 18000, 19000, 20000, 21000, 22000, 23000, 24000, 25000, 26000, 27000, 28000, 29000, 30000, 31000, 32000, 33000, 34000, 35000, 36000, 37000, 38000, 39000, 40000, 41000, 42000, 43000, 44000, 45000, 46000, 47000, 48000, 49000, 50000, 51000, 52000, 53000, 54000, 55000, 56000, 57000, 58000, 59000, 60000, 61000, 62000, 63000, 64000, 65000]}, {\"mode\": \"lines\", \"name\": \"meteo\", \"type\": \"scatter\", \"x\": [3050.0249939049427, 22879.816549162246, 30461.376917337067, 31800.347497186387, 34106.63510502585, 35846.572854427264, 37558.2952639944, 41741.1003148779, 52965.05783560065, 54671.02793432796, 65196.12595026005, 69093.7738102466, 77096.7179954561, 79481.13035416484, 88721.27425763266, 89255.89984899778, 90041.80571633305, 93615.4774160781], \"y\": [3734.818874921442, 7697.990982879299, 9767.211400638387, 11005.192452767677, 11347.352124058907, 11586.90595251297, 9398.1939840869, 22210.781047073026, 24185.22909004517, 18485.445552552705, 22426.930946055978, 38673.53463005374, 49379.55963643907, 50263.70931051921, 47221.49251619493, 53934.224191565074, 63310.145727326795, 69602.9796674973]}, {\"mode\": \"lines\", \"name\": \"meteo_opt_0\", \"type\": \"scatter\", \"x\": [3050.0249939049427, 22879.816549162246, 30461.376917337067, 35846.572854427264, 54671.02793432796, 69093.7738102466, 77096.7179954561, 79481.13035416484, 88721.27425763266, 89255.89984899778, 90041.80571633305, 93615.4774160781], \"y\": [3734.818874921442, 7697.990982879299, 9767.211400638387, 11586.90595251297, 18485.445552552705, 38673.53463005374, 49379.55963643907, 50263.70931051921, 47221.49251619493, 53934.224191565074, 63310.145727326795, 69602.9796674973]}, {\"mode\": \"lines\", \"name\": \"meteo_opt_1\", \"type\": \"scatter\", \"x\": [3050.0249939049427, 22879.816549162246, 30461.376917337067, 31800.347497186387, 34106.63510502585, 35846.572854427264, 54671.02793432796, 69093.7738102466, 77096.7179954561, 79481.13035416484, 90041.80571633305, 93615.4774160781], \"y\": [3734.818874921442, 7697.990982879299, 9767.211400638387, 11005.192452767677, 11347.352124058907, 11586.90595251297, 18485.445552552705, 38673.53463005374, 49379.55963643907, 50263.70931051921, 63310.145727326795, 69602.9796674973]}, {\"mode\": \"lines\", \"name\": \"meteo_opt_2\", \"type\": \"scatter\", \"x\": [3050.0249939049427, 22879.816549162246, 30461.376917337067, 31800.347497186387, 34106.63510502585, 35846.572854427264, 54671.02793432796, 65196.12595026005, 88721.27425763266, 89255.89984899778, 90041.80571633305, 93615.4774160781], \"y\": [3734.818874921442, 7697.990982879299, 9767.211400638387, 11005.192452767677, 11347.352124058907, 11586.90595251297, 18485.445552552705, 22426.930946055978, 47221.49251619493, 53934.224191565074, 63310.145727326795, 69602.9796674973]}],                        {\"template\": {\"data\": {\"bar\": [{\"error_x\": {\"color\": \"#2a3f5f\"}, \"error_y\": {\"color\": \"#2a3f5f\"}, \"marker\": {\"line\": {\"color\": \"#E5ECF6\", \"width\": 0.5}}, \"type\": \"bar\"}], \"barpolar\": [{\"marker\": {\"line\": {\"color\": \"#E5ECF6\", \"width\": 0.5}}, \"type\": \"barpolar\"}], \"carpet\": [{\"aaxis\": {\"endlinecolor\": \"#2a3f5f\", \"gridcolor\": \"white\", \"linecolor\": \"white\", \"minorgridcolor\": \"white\", \"startlinecolor\": \"#2a3f5f\"}, \"baxis\": {\"endlinecolor\": \"#2a3f5f\", \"gridcolor\": \"white\", \"linecolor\": \"white\", \"minorgridcolor\": \"white\", \"startlinecolor\": \"#2a3f5f\"}, \"type\": \"carpet\"}], \"choropleth\": [{\"colorbar\": {\"outlinewidth\": 0, \"ticks\": \"\"}, \"type\": \"choropleth\"}], \"contour\": [{\"colorbar\": {\"outlinewidth\": 0, \"ticks\": \"\"}, \"colorscale\": [[0.0, \"#0d0887\"], [0.1111111111111111, \"#46039f\"], [0.2222222222222222, \"#7201a8\"], [0.3333333333333333, \"#9c179e\"], [0.4444444444444444, \"#bd3786\"], [0.5555555555555556, \"#d8576b\"], [0.6666666666666666, \"#ed7953\"], [0.7777777777777778, \"#fb9f3a\"], [0.8888888888888888, \"#fdca26\"], [1.0, \"#f0f921\"]], \"type\": \"contour\"}], \"contourcarpet\": [{\"colorbar\": {\"outlinewidth\": 0, \"ticks\": \"\"}, \"type\": \"contourcarpet\"}], \"heatmap\": [{\"colorbar\": {\"outlinewidth\": 0, \"ticks\": \"\"}, \"colorscale\": [[0.0, \"#0d0887\"], [0.1111111111111111, \"#46039f\"], [0.2222222222222222, \"#7201a8\"], [0.3333333333333333, \"#9c179e\"], [0.4444444444444444, \"#bd3786\"], [0.5555555555555556, \"#d8576b\"], [0.6666666666666666, \"#ed7953\"], [0.7777777777777778, \"#fb9f3a\"], [0.8888888888888888, \"#fdca26\"], [1.0, \"#f0f921\"]], \"type\": \"heatmap\"}], \"heatmapgl\": [{\"colorbar\": {\"outlinewidth\": 0, \"ticks\": \"\"}, \"colorscale\": [[0.0, \"#0d0887\"], [0.1111111111111111, \"#46039f\"], [0.2222222222222222, \"#7201a8\"], [0.3333333333333333, \"#9c179e\"], [0.4444444444444444, \"#bd3786\"], [0.5555555555555556, \"#d8576b\"], [0.6666666666666666, \"#ed7953\"], [0.7777777777777778, \"#fb9f3a\"], [0.8888888888888888, \"#fdca26\"], [1.0, \"#f0f921\"]], \"type\": \"heatmapgl\"}], \"histogram\": [{\"marker\": {\"colorbar\": {\"outlinewidth\": 0, \"ticks\": \"\"}}, \"type\": \"histogram\"}], \"histogram2d\": [{\"colorbar\": {\"outlinewidth\": 0, \"ticks\": \"\"}, \"colorscale\": [[0.0, \"#0d0887\"], [0.1111111111111111, \"#46039f\"], [0.2222222222222222, \"#7201a8\"], [0.3333333333333333, \"#9c179e\"], [0.4444444444444444, \"#bd3786\"], [0.5555555555555556, \"#d8576b\"], [0.6666666666666666, \"#ed7953\"], [0.7777777777777778, \"#fb9f3a\"], [0.8888888888888888, \"#fdca26\"], [1.0, \"#f0f921\"]], \"type\": \"histogram2d\"}], \"histogram2dcontour\": [{\"colorbar\": {\"outlinewidth\": 0, \"ticks\": \"\"}, \"colorscale\": [[0.0, \"#0d0887\"], [0.1111111111111111, \"#46039f\"], [0.2222222222222222, \"#7201a8\"], [0.3333333333333333, \"#9c179e\"], [0.4444444444444444, \"#bd3786\"], [0.5555555555555556, \"#d8576b\"], [0.6666666666666666, \"#ed7953\"], [0.7777777777777778, \"#fb9f3a\"], [0.8888888888888888, \"#fdca26\"], [1.0, \"#f0f921\"]], \"type\": \"histogram2dcontour\"}], \"mesh3d\": [{\"colorbar\": {\"outlinewidth\": 0, \"ticks\": \"\"}, \"type\": \"mesh3d\"}], \"parcoords\": [{\"line\": {\"colorbar\": {\"outlinewidth\": 0, \"ticks\": \"\"}}, \"type\": \"parcoords\"}], \"pie\": [{\"automargin\": true, \"type\": \"pie\"}], \"scatter\": [{\"marker\": {\"colorbar\": {\"outlinewidth\": 0, \"ticks\": \"\"}}, \"type\": \"scatter\"}], \"scatter3d\": [{\"line\": {\"colorbar\": {\"outlinewidth\": 0, \"ticks\": \"\"}}, \"marker\": {\"colorbar\": {\"outlinewidth\": 0, \"ticks\": \"\"}}, \"type\": \"scatter3d\"}], \"scattercarpet\": [{\"marker\": {\"colorbar\": {\"outlinewidth\": 0, \"ticks\": \"\"}}, \"type\": \"scattercarpet\"}], \"scattergeo\": [{\"marker\": {\"colorbar\": {\"outlinewidth\": 0, \"ticks\": \"\"}}, \"type\": \"scattergeo\"}], \"scattergl\": [{\"marker\": {\"colorbar\": {\"outlinewidth\": 0, \"ticks\": \"\"}}, \"type\": \"scattergl\"}], \"scattermapbox\": [{\"marker\": {\"colorbar\": {\"outlinewidth\": 0, \"ticks\": \"\"}}, \"type\": \"scattermapbox\"}], \"scatterpolar\": [{\"marker\": {\"colorbar\": {\"outlinewidth\": 0, \"ticks\": \"\"}}, \"type\": \"scatterpolar\"}], \"scatterpolargl\": [{\"marker\": {\"colorbar\": {\"outlinewidth\": 0, \"ticks\": \"\"}}, \"type\": \"scatterpolargl\"}], \"scatterternary\": [{\"marker\": {\"colorbar\": {\"outlinewidth\": 0, \"ticks\": \"\"}}, \"type\": \"scatterternary\"}], \"surface\": [{\"colorbar\": {\"outlinewidth\": 0, \"ticks\": \"\"}, \"colorscale\": [[0.0, \"#0d0887\"], [0.1111111111111111, \"#46039f\"], [0.2222222222222222, \"#7201a8\"], [0.3333333333333333, \"#9c179e\"], [0.4444444444444444, \"#bd3786\"], [0.5555555555555556, \"#d8576b\"], [0.6666666666666666, \"#ed7953\"], [0.7777777777777778, \"#fb9f3a\"], [0.8888888888888888, \"#fdca26\"], [1.0, \"#f0f921\"]], \"type\": \"surface\"}], \"table\": [{\"cells\": {\"fill\": {\"color\": \"#EBF0F8\"}, \"line\": {\"color\": \"white\"}}, \"header\": {\"fill\": {\"color\": \"#C8D4E3\"}, \"line\": {\"color\": \"white\"}}, \"type\": \"table\"}]}, \"layout\": {\"annotationdefaults\": {\"arrowcolor\": \"#2a3f5f\", \"arrowhead\": 0, \"arrowwidth\": 1}, \"autotypenumbers\": \"strict\", \"coloraxis\": {\"colorbar\": {\"outlinewidth\": 0, \"ticks\": \"\"}}, \"colorscale\": {\"diverging\": [[0, \"#8e0152\"], [0.1, \"#c51b7d\"], [0.2, \"#de77ae\"], [0.3, \"#f1b6da\"], [0.4, \"#fde0ef\"], [0.5, \"#f7f7f7\"], [0.6, \"#e6f5d0\"], [0.7, \"#b8e186\"], [0.8, \"#7fbc41\"], [0.9, \"#4d9221\"], [1, \"#276419\"]], \"sequential\": [[0.0, \"#0d0887\"], [0.1111111111111111, \"#46039f\"], [0.2222222222222222, \"#7201a8\"], [0.3333333333333333, \"#9c179e\"], [0.4444444444444444, \"#bd3786\"], [0.5555555555555556, \"#d8576b\"], [0.6666666666666666, \"#ed7953\"], [0.7777777777777778, \"#fb9f3a\"], [0.8888888888888888, \"#fdca26\"], [1.0, \"#f0f921\"]], \"sequentialminus\": [[0.0, \"#0d0887\"], [0.1111111111111111, \"#46039f\"], [0.2222222222222222, \"#7201a8\"], [0.3333333333333333, \"#9c179e\"], [0.4444444444444444, \"#bd3786\"], [0.5555555555555556, \"#d8576b\"], [0.6666666666666666, \"#ed7953\"], [0.7777777777777778, \"#fb9f3a\"], [0.8888888888888888, \"#fdca26\"], [1.0, \"#f0f921\"]]}, \"colorway\": [\"#636efa\", \"#EF553B\", \"#00cc96\", \"#ab63fa\", \"#FFA15A\", \"#19d3f3\", \"#FF6692\", \"#B6E880\", \"#FF97FF\", \"#FECB52\"], \"font\": {\"color\": \"#2a3f5f\"}, \"geo\": {\"bgcolor\": \"white\", \"lakecolor\": \"white\", \"landcolor\": \"#E5ECF6\", \"showlakes\": true, \"showland\": true, \"subunitcolor\": \"white\"}, \"hoverlabel\": {\"align\": \"left\"}, \"hovermode\": \"closest\", \"mapbox\": {\"style\": \"light\"}, \"paper_bgcolor\": \"white\", \"plot_bgcolor\": \"#E5ECF6\", \"polar\": {\"angularaxis\": {\"gridcolor\": \"white\", \"linecolor\": \"white\", \"ticks\": \"\"}, \"bgcolor\": \"#E5ECF6\", \"radialaxis\": {\"gridcolor\": \"white\", \"linecolor\": \"white\", \"ticks\": \"\"}}, \"scene\": {\"xaxis\": {\"backgroundcolor\": \"#E5ECF6\", \"gridcolor\": \"white\", \"gridwidth\": 2, \"linecolor\": \"white\", \"showbackground\": true, \"ticks\": \"\", \"zerolinecolor\": \"white\"}, \"yaxis\": {\"backgroundcolor\": \"#E5ECF6\", \"gridcolor\": \"white\", \"gridwidth\": 2, \"linecolor\": \"white\", \"showbackground\": true, \"ticks\": \"\", \"zerolinecolor\": \"white\"}, \"zaxis\": {\"backgroundcolor\": \"#E5ECF6\", \"gridcolor\": \"white\", \"gridwidth\": 2, \"linecolor\": \"white\", \"showbackground\": true, \"ticks\": \"\", \"zerolinecolor\": \"white\"}}, \"shapedefaults\": {\"line\": {\"color\": \"#2a3f5f\"}}, \"ternary\": {\"aaxis\": {\"gridcolor\": \"white\", \"linecolor\": \"white\", \"ticks\": \"\"}, \"baxis\": {\"gridcolor\": \"white\", \"linecolor\": \"white\", \"ticks\": \"\"}, \"bgcolor\": \"#E5ECF6\", \"caxis\": {\"gridcolor\": \"white\", \"linecolor\": \"white\", \"ticks\": \"\"}}, \"title\": {\"x\": 0.05}, \"xaxis\": {\"automargin\": true, \"gridcolor\": \"white\", \"linecolor\": \"white\", \"ticks\": \"\", \"title\": {\"standoff\": 15}, \"zerolinecolor\": \"white\", \"zerolinewidth\": 2}, \"yaxis\": {\"automargin\": true, \"gridcolor\": \"white\", \"linecolor\": \"white\", \"ticks\": \"\", \"title\": {\"standoff\": 15}, \"zerolinecolor\": \"white\", \"zerolinewidth\": 2}}}},                        {\"responsive\": true}                    ).then(function(){\n",
       "                            \n",
       "var gd = document.getElementById('976668c9-ec4e-405b-ae71-59a196c42d7c');\n",
       "var x = new MutationObserver(function (mutations, observer) {{\n",
       "        var display = window.getComputedStyle(gd).display;\n",
       "        if (!display || display === 'none') {{\n",
       "            console.log([gd, 'removed!']);\n",
       "            Plotly.purge(gd);\n",
       "            observer.disconnect();\n",
       "        }}\n",
       "}});\n",
       "\n",
       "// Listen for the removal of the full notebook cells\n",
       "var notebookContainer = gd.closest('#notebook-container');\n",
       "if (notebookContainer) {{\n",
       "    x.observe(notebookContainer, {childList: true});\n",
       "}}\n",
       "\n",
       "// Listen for the clearing of the current output cell\n",
       "var outputEl = gd.closest('.output');\n",
       "if (outputEl) {{\n",
       "    x.observe(outputEl, {childList: true});\n",
       "}}\n",
       "\n",
       "                        })                };                });            </script>        </div>"
      ]
     },
     "metadata": {},
     "output_type": "display_data"
    }
   ],
   "source": [
    "plot_res(stations, plane_route, path, best_paths)\n"
   ]
  }
 ],
 "metadata": {
  "kernelspec": {
   "display_name": "Python 3",
   "language": "python",
   "name": "python3"
  },
  "language_info": {
   "codemirror_mode": {
    "name": "ipython",
    "version": 3
   },
   "file_extension": ".py",
   "mimetype": "text/x-python",
   "name": "python",
   "nbconvert_exporter": "python",
   "pygments_lexer": "ipython3",
   "version": "3.9.2"
  },
  "widgets": {
   "application/vnd.jupyter.widget-state+json": {
    "state": {},
    "version_major": 2,
    "version_minor": 0
   }
  }
 },
 "nbformat": 4,
 "nbformat_minor": 4
}
